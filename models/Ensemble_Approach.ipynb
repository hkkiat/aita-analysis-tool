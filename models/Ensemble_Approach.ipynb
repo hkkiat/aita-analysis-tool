{
  "cells": [
    {
      "cell_type": "code",
      "execution_count": 1,
      "metadata": {
        "colab": {
          "base_uri": "https://localhost:8080/"
        },
        "id": "gxSGnb3rkeAi",
        "outputId": "c6f98d1b-236d-40cc-c09b-fbfffd2e3f45"
      },
      "outputs": [
        {
          "output_type": "stream",
          "name": "stdout",
          "text": [
            "Mounted at /content/drive\n"
          ]
        }
      ],
      "source": [
        "from google.colab import drive\n",
        "drive.mount('/content/drive')\n",
        "import os\n",
        "os.chdir('/content/drive/MyDrive/CS5246/AITA')"
      ]
    },
    {
      "cell_type": "code",
      "source": [
        "!pip install contractions"
      ],
      "metadata": {
        "colab": {
          "base_uri": "https://localhost:8080/"
        },
        "id": "KhyeXzcniEQp",
        "outputId": "3dce4ff9-5791-4771-d201-a8ab881de334"
      },
      "execution_count": 2,
      "outputs": [
        {
          "output_type": "stream",
          "name": "stdout",
          "text": [
            "Collecting contractions\n",
            "  Downloading contractions-0.1.73-py2.py3-none-any.whl (8.7 kB)\n",
            "Collecting textsearch>=0.0.21 (from contractions)\n",
            "  Downloading textsearch-0.0.24-py2.py3-none-any.whl (7.6 kB)\n",
            "Collecting anyascii (from textsearch>=0.0.21->contractions)\n",
            "  Downloading anyascii-0.3.2-py3-none-any.whl (289 kB)\n",
            "\u001b[2K     \u001b[90m━━━━━━━━━━━━━━━━━━━━━━━━━━━━━━━━━━━━━━━━\u001b[0m \u001b[32m289.9/289.9 kB\u001b[0m \u001b[31m5.1 MB/s\u001b[0m eta \u001b[36m0:00:00\u001b[0m\n",
            "\u001b[?25hCollecting pyahocorasick (from textsearch>=0.0.21->contractions)\n",
            "  Downloading pyahocorasick-2.1.0-cp310-cp310-manylinux_2_5_x86_64.manylinux1_x86_64.manylinux_2_12_x86_64.manylinux2010_x86_64.whl (110 kB)\n",
            "\u001b[2K     \u001b[90m━━━━━━━━━━━━━━━━━━━━━━━━━━━━━━━━━━━━━━━━\u001b[0m \u001b[32m110.7/110.7 kB\u001b[0m \u001b[31m12.9 MB/s\u001b[0m eta \u001b[36m0:00:00\u001b[0m\n",
            "\u001b[?25hInstalling collected packages: pyahocorasick, anyascii, textsearch, contractions\n",
            "Successfully installed anyascii-0.3.2 contractions-0.1.73 pyahocorasick-2.1.0 textsearch-0.0.24\n"
          ]
        }
      ]
    },
    {
      "cell_type": "code",
      "execution_count": 3,
      "metadata": {
        "colab": {
          "base_uri": "https://localhost:8080/"
        },
        "id": "0OXtMt0nIdvp",
        "outputId": "b84ba80d-d73c-433a-8c1d-251ff5f40e04"
      },
      "outputs": [
        {
          "output_type": "stream",
          "name": "stderr",
          "text": [
            "[nltk_data] Downloading package punkt to /root/nltk_data...\n",
            "[nltk_data]   Unzipping tokenizers/punkt.zip.\n",
            "[nltk_data] Downloading package wordnet to /root/nltk_data...\n",
            "[nltk_data] Downloading package stopwords to /root/nltk_data...\n",
            "[nltk_data]   Unzipping corpora/stopwords.zip.\n"
          ]
        }
      ],
      "source": [
        "import pandas as pd\n",
        "import matplotlib.pyplot as plt\n",
        "import numpy as np\n",
        "import seaborn as sns\n",
        "import re\n",
        "import string\n",
        "import contractions\n",
        "\n",
        "import nltk\n",
        "nltk.download('punkt')\n",
        "nltk.download('wordnet')\n",
        "nltk.download('stopwords')\n",
        "from nltk.tokenize import sent_tokenize, word_tokenize\n",
        "from nltk.stem.porter import PorterStemmer\n",
        "from nltk.stem.snowball import SnowballStemmer\n",
        "from nltk.stem.lancaster import LancasterStemmer\n",
        "from nltk.stem import WordNetLemmatizer\n",
        "from nltk.corpus import stopwords\n",
        "from nltk.cluster.util import cosine_distance\n",
        "import networkx as nx\n",
        "\n",
        "from sklearn.feature_extraction.text import TfidfVectorizer\n",
        "from sklearn.model_selection import cross_val_score, GridSearchCV, train_test_split\n",
        "from sklearn.naive_bayes import MultinomialNB\n",
        "from sklearn.linear_model import LogisticRegression\n",
        "from sklearn import metrics\n",
        "from sklearn.metrics import f1_score"
      ]
    },
    {
      "cell_type": "code",
      "source": [
        "def read_article(text):\n",
        "    # Tokenize the text into sentences\n",
        "    sentences = sent_tokenize(text)\n",
        "    return len(sentences)\n",
        "\n",
        "porter_stemmer = PorterStemmer()\n",
        "wordnet_lemmatizer = WordNetLemmatizer()\n",
        "\n",
        "def tokenize_and_stem(text):\n",
        "    expanded_text = contractions.fix(text)\n",
        "    clean_text = re.sub(r'http[s]?://\\S+', '', expanded_text)\n",
        "    tokens = word_tokenize(clean_text)\n",
        "    lemmas = [wordnet_lemmatizer.lemmatize(token) for token in tokens]\n",
        "    return lemmas"
      ],
      "metadata": {
        "id": "zhQrVZLF4-Mm"
      },
      "execution_count": 4,
      "outputs": []
    },
    {
      "cell_type": "markdown",
      "source": [
        "### Load data"
      ],
      "metadata": {
        "id": "4Hhnpu3VMqWx"
      }
    },
    {
      "cell_type": "code",
      "execution_count": 5,
      "metadata": {
        "id": "pjM6H5SjZ9ry"
      },
      "outputs": [],
      "source": [
        "train_part1 = pd.read_csv('train_with_pagerank_part1.csv')\n",
        "train_part2 = pd.read_csv('train_with_pagerank_part2.csv')\n",
        "train = pd.concat([train_part1, train_part2], axis=0)\n",
        "test = pd.read_csv('test_with_pagerank.csv')\n",
        "df = pd.concat([train, test], axis=0)"
      ]
    },
    {
      "cell_type": "code",
      "source": [
        "df['sent_length'] = df['content'].apply(read_article)\n",
        "df['token_length'] = df['content'].apply(lambda x: len(tokenize_and_stem(x)))\n",
        "df.describe()"
      ],
      "metadata": {
        "colab": {
          "base_uri": "https://localhost:8080/",
          "height": 300
        },
        "id": "z56X9Ua9rVyD",
        "outputId": "345140e4-d517-4e48-84b6-6f95f17dd77b"
      },
      "execution_count": null,
      "outputs": [
        {
          "output_type": "execute_result",
          "data": {
            "text/plain": [
              "               flag   sent_length  token_length\n",
              "count  16872.000000  16872.000000  16872.000000\n",
              "mean       0.399360     21.756520    466.342817\n",
              "std        0.489781     11.416171    217.605811\n",
              "min        0.000000      1.000000      9.000000\n",
              "25%        0.000000     14.000000    309.000000\n",
              "50%        0.000000     20.000000    438.000000\n",
              "75%        1.000000     27.000000    603.000000\n",
              "max        1.000000    194.000000   2714.000000"
            ],
            "text/html": [
              "\n",
              "  <div id=\"df-b4d0a82d-b486-48c9-8315-e8f551d630c5\" class=\"colab-df-container\">\n",
              "    <div>\n",
              "<style scoped>\n",
              "    .dataframe tbody tr th:only-of-type {\n",
              "        vertical-align: middle;\n",
              "    }\n",
              "\n",
              "    .dataframe tbody tr th {\n",
              "        vertical-align: top;\n",
              "    }\n",
              "\n",
              "    .dataframe thead th {\n",
              "        text-align: right;\n",
              "    }\n",
              "</style>\n",
              "<table border=\"1\" class=\"dataframe\">\n",
              "  <thead>\n",
              "    <tr style=\"text-align: right;\">\n",
              "      <th></th>\n",
              "      <th>flag</th>\n",
              "      <th>sent_length</th>\n",
              "      <th>token_length</th>\n",
              "    </tr>\n",
              "  </thead>\n",
              "  <tbody>\n",
              "    <tr>\n",
              "      <th>count</th>\n",
              "      <td>16872.000000</td>\n",
              "      <td>16872.000000</td>\n",
              "      <td>16872.000000</td>\n",
              "    </tr>\n",
              "    <tr>\n",
              "      <th>mean</th>\n",
              "      <td>0.399360</td>\n",
              "      <td>21.756520</td>\n",
              "      <td>466.342817</td>\n",
              "    </tr>\n",
              "    <tr>\n",
              "      <th>std</th>\n",
              "      <td>0.489781</td>\n",
              "      <td>11.416171</td>\n",
              "      <td>217.605811</td>\n",
              "    </tr>\n",
              "    <tr>\n",
              "      <th>min</th>\n",
              "      <td>0.000000</td>\n",
              "      <td>1.000000</td>\n",
              "      <td>9.000000</td>\n",
              "    </tr>\n",
              "    <tr>\n",
              "      <th>25%</th>\n",
              "      <td>0.000000</td>\n",
              "      <td>14.000000</td>\n",
              "      <td>309.000000</td>\n",
              "    </tr>\n",
              "    <tr>\n",
              "      <th>50%</th>\n",
              "      <td>0.000000</td>\n",
              "      <td>20.000000</td>\n",
              "      <td>438.000000</td>\n",
              "    </tr>\n",
              "    <tr>\n",
              "      <th>75%</th>\n",
              "      <td>1.000000</td>\n",
              "      <td>27.000000</td>\n",
              "      <td>603.000000</td>\n",
              "    </tr>\n",
              "    <tr>\n",
              "      <th>max</th>\n",
              "      <td>1.000000</td>\n",
              "      <td>194.000000</td>\n",
              "      <td>2714.000000</td>\n",
              "    </tr>\n",
              "  </tbody>\n",
              "</table>\n",
              "</div>\n",
              "    <div class=\"colab-df-buttons\">\n",
              "\n",
              "  <div class=\"colab-df-container\">\n",
              "    <button class=\"colab-df-convert\" onclick=\"convertToInteractive('df-b4d0a82d-b486-48c9-8315-e8f551d630c5')\"\n",
              "            title=\"Convert this dataframe to an interactive table.\"\n",
              "            style=\"display:none;\">\n",
              "\n",
              "  <svg xmlns=\"http://www.w3.org/2000/svg\" height=\"24px\" viewBox=\"0 -960 960 960\">\n",
              "    <path d=\"M120-120v-720h720v720H120Zm60-500h600v-160H180v160Zm220 220h160v-160H400v160Zm0 220h160v-160H400v160ZM180-400h160v-160H180v160Zm440 0h160v-160H620v160ZM180-180h160v-160H180v160Zm440 0h160v-160H620v160Z\"/>\n",
              "  </svg>\n",
              "    </button>\n",
              "\n",
              "  <style>\n",
              "    .colab-df-container {\n",
              "      display:flex;\n",
              "      gap: 12px;\n",
              "    }\n",
              "\n",
              "    .colab-df-convert {\n",
              "      background-color: #E8F0FE;\n",
              "      border: none;\n",
              "      border-radius: 50%;\n",
              "      cursor: pointer;\n",
              "      display: none;\n",
              "      fill: #1967D2;\n",
              "      height: 32px;\n",
              "      padding: 0 0 0 0;\n",
              "      width: 32px;\n",
              "    }\n",
              "\n",
              "    .colab-df-convert:hover {\n",
              "      background-color: #E2EBFA;\n",
              "      box-shadow: 0px 1px 2px rgba(60, 64, 67, 0.3), 0px 1px 3px 1px rgba(60, 64, 67, 0.15);\n",
              "      fill: #174EA6;\n",
              "    }\n",
              "\n",
              "    .colab-df-buttons div {\n",
              "      margin-bottom: 4px;\n",
              "    }\n",
              "\n",
              "    [theme=dark] .colab-df-convert {\n",
              "      background-color: #3B4455;\n",
              "      fill: #D2E3FC;\n",
              "    }\n",
              "\n",
              "    [theme=dark] .colab-df-convert:hover {\n",
              "      background-color: #434B5C;\n",
              "      box-shadow: 0px 1px 3px 1px rgba(0, 0, 0, 0.15);\n",
              "      filter: drop-shadow(0px 1px 2px rgba(0, 0, 0, 0.3));\n",
              "      fill: #FFFFFF;\n",
              "    }\n",
              "  </style>\n",
              "\n",
              "    <script>\n",
              "      const buttonEl =\n",
              "        document.querySelector('#df-b4d0a82d-b486-48c9-8315-e8f551d630c5 button.colab-df-convert');\n",
              "      buttonEl.style.display =\n",
              "        google.colab.kernel.accessAllowed ? 'block' : 'none';\n",
              "\n",
              "      async function convertToInteractive(key) {\n",
              "        const element = document.querySelector('#df-b4d0a82d-b486-48c9-8315-e8f551d630c5');\n",
              "        const dataTable =\n",
              "          await google.colab.kernel.invokeFunction('convertToInteractive',\n",
              "                                                    [key], {});\n",
              "        if (!dataTable) return;\n",
              "\n",
              "        const docLinkHtml = 'Like what you see? Visit the ' +\n",
              "          '<a target=\"_blank\" href=https://colab.research.google.com/notebooks/data_table.ipynb>data table notebook</a>'\n",
              "          + ' to learn more about interactive tables.';\n",
              "        element.innerHTML = '';\n",
              "        dataTable['output_type'] = 'display_data';\n",
              "        await google.colab.output.renderOutput(dataTable, element);\n",
              "        const docLink = document.createElement('div');\n",
              "        docLink.innerHTML = docLinkHtml;\n",
              "        element.appendChild(docLink);\n",
              "      }\n",
              "    </script>\n",
              "  </div>\n",
              "\n",
              "\n",
              "<div id=\"df-4cdd8e4f-ee0a-4535-b1fd-33124b9ebf29\">\n",
              "  <button class=\"colab-df-quickchart\" onclick=\"quickchart('df-4cdd8e4f-ee0a-4535-b1fd-33124b9ebf29')\"\n",
              "            title=\"Suggest charts\"\n",
              "            style=\"display:none;\">\n",
              "\n",
              "<svg xmlns=\"http://www.w3.org/2000/svg\" height=\"24px\"viewBox=\"0 0 24 24\"\n",
              "     width=\"24px\">\n",
              "    <g>\n",
              "        <path d=\"M19 3H5c-1.1 0-2 .9-2 2v14c0 1.1.9 2 2 2h14c1.1 0 2-.9 2-2V5c0-1.1-.9-2-2-2zM9 17H7v-7h2v7zm4 0h-2V7h2v10zm4 0h-2v-4h2v4z\"/>\n",
              "    </g>\n",
              "</svg>\n",
              "  </button>\n",
              "\n",
              "<style>\n",
              "  .colab-df-quickchart {\n",
              "      --bg-color: #E8F0FE;\n",
              "      --fill-color: #1967D2;\n",
              "      --hover-bg-color: #E2EBFA;\n",
              "      --hover-fill-color: #174EA6;\n",
              "      --disabled-fill-color: #AAA;\n",
              "      --disabled-bg-color: #DDD;\n",
              "  }\n",
              "\n",
              "  [theme=dark] .colab-df-quickchart {\n",
              "      --bg-color: #3B4455;\n",
              "      --fill-color: #D2E3FC;\n",
              "      --hover-bg-color: #434B5C;\n",
              "      --hover-fill-color: #FFFFFF;\n",
              "      --disabled-bg-color: #3B4455;\n",
              "      --disabled-fill-color: #666;\n",
              "  }\n",
              "\n",
              "  .colab-df-quickchart {\n",
              "    background-color: var(--bg-color);\n",
              "    border: none;\n",
              "    border-radius: 50%;\n",
              "    cursor: pointer;\n",
              "    display: none;\n",
              "    fill: var(--fill-color);\n",
              "    height: 32px;\n",
              "    padding: 0;\n",
              "    width: 32px;\n",
              "  }\n",
              "\n",
              "  .colab-df-quickchart:hover {\n",
              "    background-color: var(--hover-bg-color);\n",
              "    box-shadow: 0 1px 2px rgba(60, 64, 67, 0.3), 0 1px 3px 1px rgba(60, 64, 67, 0.15);\n",
              "    fill: var(--button-hover-fill-color);\n",
              "  }\n",
              "\n",
              "  .colab-df-quickchart-complete:disabled,\n",
              "  .colab-df-quickchart-complete:disabled:hover {\n",
              "    background-color: var(--disabled-bg-color);\n",
              "    fill: var(--disabled-fill-color);\n",
              "    box-shadow: none;\n",
              "  }\n",
              "\n",
              "  .colab-df-spinner {\n",
              "    border: 2px solid var(--fill-color);\n",
              "    border-color: transparent;\n",
              "    border-bottom-color: var(--fill-color);\n",
              "    animation:\n",
              "      spin 1s steps(1) infinite;\n",
              "  }\n",
              "\n",
              "  @keyframes spin {\n",
              "    0% {\n",
              "      border-color: transparent;\n",
              "      border-bottom-color: var(--fill-color);\n",
              "      border-left-color: var(--fill-color);\n",
              "    }\n",
              "    20% {\n",
              "      border-color: transparent;\n",
              "      border-left-color: var(--fill-color);\n",
              "      border-top-color: var(--fill-color);\n",
              "    }\n",
              "    30% {\n",
              "      border-color: transparent;\n",
              "      border-left-color: var(--fill-color);\n",
              "      border-top-color: var(--fill-color);\n",
              "      border-right-color: var(--fill-color);\n",
              "    }\n",
              "    40% {\n",
              "      border-color: transparent;\n",
              "      border-right-color: var(--fill-color);\n",
              "      border-top-color: var(--fill-color);\n",
              "    }\n",
              "    60% {\n",
              "      border-color: transparent;\n",
              "      border-right-color: var(--fill-color);\n",
              "    }\n",
              "    80% {\n",
              "      border-color: transparent;\n",
              "      border-right-color: var(--fill-color);\n",
              "      border-bottom-color: var(--fill-color);\n",
              "    }\n",
              "    90% {\n",
              "      border-color: transparent;\n",
              "      border-bottom-color: var(--fill-color);\n",
              "    }\n",
              "  }\n",
              "</style>\n",
              "\n",
              "  <script>\n",
              "    async function quickchart(key) {\n",
              "      const quickchartButtonEl =\n",
              "        document.querySelector('#' + key + ' button');\n",
              "      quickchartButtonEl.disabled = true;  // To prevent multiple clicks.\n",
              "      quickchartButtonEl.classList.add('colab-df-spinner');\n",
              "      try {\n",
              "        const charts = await google.colab.kernel.invokeFunction(\n",
              "            'suggestCharts', [key], {});\n",
              "      } catch (error) {\n",
              "        console.error('Error during call to suggestCharts:', error);\n",
              "      }\n",
              "      quickchartButtonEl.classList.remove('colab-df-spinner');\n",
              "      quickchartButtonEl.classList.add('colab-df-quickchart-complete');\n",
              "    }\n",
              "    (() => {\n",
              "      let quickchartButtonEl =\n",
              "        document.querySelector('#df-4cdd8e4f-ee0a-4535-b1fd-33124b9ebf29 button');\n",
              "      quickchartButtonEl.style.display =\n",
              "        google.colab.kernel.accessAllowed ? 'block' : 'none';\n",
              "    })();\n",
              "  </script>\n",
              "</div>\n",
              "\n",
              "    </div>\n",
              "  </div>\n"
            ],
            "application/vnd.google.colaboratory.intrinsic+json": {
              "type": "dataframe",
              "summary": "{\n  \"name\": \"df\",\n  \"rows\": 8,\n  \"fields\": [\n    {\n      \"column\": \"flag\",\n      \"properties\": {\n        \"dtype\": \"number\",\n        \"std\": 5965.006896872848,\n        \"min\": 0.0,\n        \"max\": 16872.0,\n        \"num_unique_values\": 5,\n        \"samples\": [\n          0.3993598862019915,\n          1.0,\n          0.48978136497453556\n        ],\n        \"semantic_type\": \"\",\n        \"description\": \"\"\n      }\n    },\n    {\n      \"column\": \"sent_length\",\n      \"properties\": {\n        \"dtype\": \"number\",\n        \"std\": 5950.878910612165,\n        \"min\": 1.0,\n        \"max\": 16872.0,\n        \"num_unique_values\": 8,\n        \"samples\": [\n          21.75651967757231,\n          20.0,\n          16872.0\n        ],\n        \"semantic_type\": \"\",\n        \"description\": \"\"\n      }\n    },\n    {\n      \"column\": \"token_length\",\n      \"properties\": {\n        \"dtype\": \"number\",\n        \"std\": 5787.5432188484165,\n        \"min\": 9.0,\n        \"max\": 16872.0,\n        \"num_unique_values\": 8,\n        \"samples\": [\n          466.34281650071125,\n          438.0,\n          16872.0\n        ],\n        \"semantic_type\": \"\",\n        \"description\": \"\"\n      }\n    }\n  ]\n}"
            }
          },
          "metadata": {},
          "execution_count": 51
        }
      ]
    },
    {
      "cell_type": "code",
      "source": [
        "df.query('token_length<50')"
      ],
      "metadata": {
        "colab": {
          "base_uri": "https://localhost:8080/",
          "height": 665
        },
        "id": "ZjfG2knbMc4d",
        "outputId": "0c145c3d-e564-43c9-8950-a0a53ef23921"
      },
      "execution_count": null,
      "outputs": [
        {
          "output_type": "execute_result",
          "data": {
            "text/plain": [
              "      flag                                            content  \\\n",
              "100      1  AITA for refusing to apologize to my parents? | F   \n",
              "530      1  AITA because I made a new female employee cry ...   \n",
              "539      1  AITA for reminding my brother that he’s adopte...   \n",
              "561      1  AITA for not always putting kitchen utensils i...   \n",
              "5126     1  WIBTA if I dropped my kids with their dad and ...   \n",
              "5133     1  AITA for getting angry at kid (and her mom lat...   \n",
              "5259     1  AITA: I got a replica necklace for a friend th...   \n",
              "5326     1  AITA for calling my dad a charity case and a g...   \n",
              "5420     1  AITA for effectively banning my nephew from ma...   \n",
              "5440     1    AITA for not going to jump my fiance's car? | .   \n",
              "5480     1                    AITA for not going to work? | .   \n",
              "5610     1  AITA for complaining about a present my sister...   \n",
              "5685     1  AITA for not wanting to go to my brother's wed...   \n",
              "\n",
              "                                                  sent1  \\\n",
              "100       AITA for refusing to apologize to my parents?   \n",
              "530   AITA because I made a new female employee cry ...   \n",
              "539   AITA for reminding my brother that he is adopt...   \n",
              "561   AITA for not always putting kitchen utensils i...   \n",
              "5126  WIBTA if I dropped my kids with their dad and ...   \n",
              "5133  AITA for getting angry at kid (and her mom lat...   \n",
              "5259  AITA: I got a replica necklace for a friend th...   \n",
              "5326  AITA for calling my dad a charity case and a g...   \n",
              "5420  AITA for effectively banning my nephew from ma...   \n",
              "5440        AITA for not going to jump my fiance's car?   \n",
              "5480                        AITA for not going to work?   \n",
              "5610  AITA for complaining about a present my sister...   \n",
              "5685  AITA for not wanting to go to my brother's wed...   \n",
              "\n",
              "                                                  sent2  \\\n",
              "100                                                 | F   \n",
              "530                                                 | .   \n",
              "539                                   | FUCK ALL OF YOU   \n",
              "561   | My husband just exploded on me when he could...   \n",
              "5126                                            | IATA.   \n",
              "5133                                            | CLOSE   \n",
              "5259                                                NaN   \n",
              "5326                                                | .   \n",
              "5420              | I am not good at describing noises.   \n",
              "5440                                                | .   \n",
              "5480                                                | .   \n",
              "5610                                                | .   \n",
              "5685                                                | *   \n",
              "\n",
              "                                                sent3       sent4 sent5  \\\n",
              "100                                               NaN         NaN   NaN   \n",
              "530                                               NaN         NaN   NaN   \n",
              "539                                               NaN         NaN   NaN   \n",
              "561   He does all the cooking, I do all the cleaning.         NaN   NaN   \n",
              "5126                                          Thanks.  Good night   NaN   \n",
              "5133                                              NaN         NaN   NaN   \n",
              "5259                                              NaN         NaN   NaN   \n",
              "5326                                              NaN         NaN   NaN   \n",
              "5420                                              JFC         NaN   NaN   \n",
              "5440                                              NaN         NaN   NaN   \n",
              "5480                                              NaN         NaN   NaN   \n",
              "5610                                              NaN         NaN   NaN   \n",
              "5685                                              NaN         NaN   NaN   \n",
              "\n",
              "                                               pagerank  sent_length  \\\n",
              "100    AITA for refusing to apologize to my parents?| F            2   \n",
              "530   AITA because I made a new female employee cry ...            2   \n",
              "539   AITA for reminding my brother that he is adopt...            2   \n",
              "561   AITA for not always putting kitchen utensils i...            3   \n",
              "5126  WIBTA if I dropped my kids with their dad and ...            4   \n",
              "5133  AITA for getting angry at kid (and her mom lat...            2   \n",
              "5259  AITA: I got a replica necklace for a friend th...            1   \n",
              "5326  AITA for calling my dad a charity case and a g...            2   \n",
              "5420  AITA for effectively banning my nephew from ma...            3   \n",
              "5440  AITA for not going to jump my fiance's car? | ...            2   \n",
              "5480                 AITA for not going to work? | .               2   \n",
              "5610  AITA for complaining about a present my sister...            2   \n",
              "5685  AITA for not wanting to go to my brother's wed...            2   \n",
              "\n",
              "      token_length  \n",
              "100             11  \n",
              "530             18  \n",
              "539             23  \n",
              "561             46  \n",
              "5126            22  \n",
              "5133            22  \n",
              "5259            17  \n",
              "5326            25  \n",
              "5420            19  \n",
              "5440            13  \n",
              "5480             9  \n",
              "5610            14  \n",
              "5685            24  "
            ],
            "text/html": [
              "\n",
              "  <div id=\"df-97eb725e-dbba-4f0a-b5df-d07cd956874f\" class=\"colab-df-container\">\n",
              "    <div>\n",
              "<style scoped>\n",
              "    .dataframe tbody tr th:only-of-type {\n",
              "        vertical-align: middle;\n",
              "    }\n",
              "\n",
              "    .dataframe tbody tr th {\n",
              "        vertical-align: top;\n",
              "    }\n",
              "\n",
              "    .dataframe thead th {\n",
              "        text-align: right;\n",
              "    }\n",
              "</style>\n",
              "<table border=\"1\" class=\"dataframe\">\n",
              "  <thead>\n",
              "    <tr style=\"text-align: right;\">\n",
              "      <th></th>\n",
              "      <th>flag</th>\n",
              "      <th>content</th>\n",
              "      <th>sent1</th>\n",
              "      <th>sent2</th>\n",
              "      <th>sent3</th>\n",
              "      <th>sent4</th>\n",
              "      <th>sent5</th>\n",
              "      <th>pagerank</th>\n",
              "      <th>sent_length</th>\n",
              "      <th>token_length</th>\n",
              "    </tr>\n",
              "  </thead>\n",
              "  <tbody>\n",
              "    <tr>\n",
              "      <th>100</th>\n",
              "      <td>1</td>\n",
              "      <td>AITA for refusing to apologize to my parents? | F</td>\n",
              "      <td>AITA for refusing to apologize to my parents?</td>\n",
              "      <td>| F</td>\n",
              "      <td>NaN</td>\n",
              "      <td>NaN</td>\n",
              "      <td>NaN</td>\n",
              "      <td>AITA for refusing to apologize to my parents?| F</td>\n",
              "      <td>2</td>\n",
              "      <td>11</td>\n",
              "    </tr>\n",
              "    <tr>\n",
              "      <th>530</th>\n",
              "      <td>1</td>\n",
              "      <td>AITA because I made a new female employee cry ...</td>\n",
              "      <td>AITA because I made a new female employee cry ...</td>\n",
              "      <td>| .</td>\n",
              "      <td>NaN</td>\n",
              "      <td>NaN</td>\n",
              "      <td>NaN</td>\n",
              "      <td>AITA because I made a new female employee cry ...</td>\n",
              "      <td>2</td>\n",
              "      <td>18</td>\n",
              "    </tr>\n",
              "    <tr>\n",
              "      <th>539</th>\n",
              "      <td>1</td>\n",
              "      <td>AITA for reminding my brother that he’s adopte...</td>\n",
              "      <td>AITA for reminding my brother that he is adopt...</td>\n",
              "      <td>| FUCK ALL OF YOU</td>\n",
              "      <td>NaN</td>\n",
              "      <td>NaN</td>\n",
              "      <td>NaN</td>\n",
              "      <td>AITA for reminding my brother that he is adopt...</td>\n",
              "      <td>2</td>\n",
              "      <td>23</td>\n",
              "    </tr>\n",
              "    <tr>\n",
              "      <th>561</th>\n",
              "      <td>1</td>\n",
              "      <td>AITA for not always putting kitchen utensils i...</td>\n",
              "      <td>AITA for not always putting kitchen utensils i...</td>\n",
              "      <td>| My husband just exploded on me when he could...</td>\n",
              "      <td>He does all the cooking, I do all the cleaning.</td>\n",
              "      <td>NaN</td>\n",
              "      <td>NaN</td>\n",
              "      <td>AITA for not always putting kitchen utensils i...</td>\n",
              "      <td>3</td>\n",
              "      <td>46</td>\n",
              "    </tr>\n",
              "    <tr>\n",
              "      <th>5126</th>\n",
              "      <td>1</td>\n",
              "      <td>WIBTA if I dropped my kids with their dad and ...</td>\n",
              "      <td>WIBTA if I dropped my kids with their dad and ...</td>\n",
              "      <td>| IATA.</td>\n",
              "      <td>Thanks.</td>\n",
              "      <td>Good night</td>\n",
              "      <td>NaN</td>\n",
              "      <td>WIBTA if I dropped my kids with their dad and ...</td>\n",
              "      <td>4</td>\n",
              "      <td>22</td>\n",
              "    </tr>\n",
              "    <tr>\n",
              "      <th>5133</th>\n",
              "      <td>1</td>\n",
              "      <td>AITA for getting angry at kid (and her mom lat...</td>\n",
              "      <td>AITA for getting angry at kid (and her mom lat...</td>\n",
              "      <td>| CLOSE</td>\n",
              "      <td>NaN</td>\n",
              "      <td>NaN</td>\n",
              "      <td>NaN</td>\n",
              "      <td>AITA for getting angry at kid (and her mom lat...</td>\n",
              "      <td>2</td>\n",
              "      <td>22</td>\n",
              "    </tr>\n",
              "    <tr>\n",
              "      <th>5259</th>\n",
              "      <td>1</td>\n",
              "      <td>AITA: I got a replica necklace for a friend th...</td>\n",
              "      <td>AITA: I got a replica necklace for a friend th...</td>\n",
              "      <td>NaN</td>\n",
              "      <td>NaN</td>\n",
              "      <td>NaN</td>\n",
              "      <td>NaN</td>\n",
              "      <td>AITA: I got a replica necklace for a friend th...</td>\n",
              "      <td>1</td>\n",
              "      <td>17</td>\n",
              "    </tr>\n",
              "    <tr>\n",
              "      <th>5326</th>\n",
              "      <td>1</td>\n",
              "      <td>AITA for calling my dad a charity case and a g...</td>\n",
              "      <td>AITA for calling my dad a charity case and a g...</td>\n",
              "      <td>| .</td>\n",
              "      <td>NaN</td>\n",
              "      <td>NaN</td>\n",
              "      <td>NaN</td>\n",
              "      <td>AITA for calling my dad a charity case and a g...</td>\n",
              "      <td>2</td>\n",
              "      <td>25</td>\n",
              "    </tr>\n",
              "    <tr>\n",
              "      <th>5420</th>\n",
              "      <td>1</td>\n",
              "      <td>AITA for effectively banning my nephew from ma...</td>\n",
              "      <td>AITA for effectively banning my nephew from ma...</td>\n",
              "      <td>| I am not good at describing noises.</td>\n",
              "      <td>JFC</td>\n",
              "      <td>NaN</td>\n",
              "      <td>NaN</td>\n",
              "      <td>AITA for effectively banning my nephew from ma...</td>\n",
              "      <td>3</td>\n",
              "      <td>19</td>\n",
              "    </tr>\n",
              "    <tr>\n",
              "      <th>5440</th>\n",
              "      <td>1</td>\n",
              "      <td>AITA for not going to jump my fiance's car? | .</td>\n",
              "      <td>AITA for not going to jump my fiance's car?</td>\n",
              "      <td>| .</td>\n",
              "      <td>NaN</td>\n",
              "      <td>NaN</td>\n",
              "      <td>NaN</td>\n",
              "      <td>AITA for not going to jump my fiance's car? | ...</td>\n",
              "      <td>2</td>\n",
              "      <td>13</td>\n",
              "    </tr>\n",
              "    <tr>\n",
              "      <th>5480</th>\n",
              "      <td>1</td>\n",
              "      <td>AITA for not going to work? | .</td>\n",
              "      <td>AITA for not going to work?</td>\n",
              "      <td>| .</td>\n",
              "      <td>NaN</td>\n",
              "      <td>NaN</td>\n",
              "      <td>NaN</td>\n",
              "      <td>AITA for not going to work? | .</td>\n",
              "      <td>2</td>\n",
              "      <td>9</td>\n",
              "    </tr>\n",
              "    <tr>\n",
              "      <th>5610</th>\n",
              "      <td>1</td>\n",
              "      <td>AITA for complaining about a present my sister...</td>\n",
              "      <td>AITA for complaining about a present my sister...</td>\n",
              "      <td>| .</td>\n",
              "      <td>NaN</td>\n",
              "      <td>NaN</td>\n",
              "      <td>NaN</td>\n",
              "      <td>AITA for complaining about a present my sister...</td>\n",
              "      <td>2</td>\n",
              "      <td>14</td>\n",
              "    </tr>\n",
              "    <tr>\n",
              "      <th>5685</th>\n",
              "      <td>1</td>\n",
              "      <td>AITA for not wanting to go to my brother's wed...</td>\n",
              "      <td>AITA for not wanting to go to my brother's wed...</td>\n",
              "      <td>| *</td>\n",
              "      <td>NaN</td>\n",
              "      <td>NaN</td>\n",
              "      <td>NaN</td>\n",
              "      <td>AITA for not wanting to go to my brother's wed...</td>\n",
              "      <td>2</td>\n",
              "      <td>24</td>\n",
              "    </tr>\n",
              "  </tbody>\n",
              "</table>\n",
              "</div>\n",
              "    <div class=\"colab-df-buttons\">\n",
              "\n",
              "  <div class=\"colab-df-container\">\n",
              "    <button class=\"colab-df-convert\" onclick=\"convertToInteractive('df-97eb725e-dbba-4f0a-b5df-d07cd956874f')\"\n",
              "            title=\"Convert this dataframe to an interactive table.\"\n",
              "            style=\"display:none;\">\n",
              "\n",
              "  <svg xmlns=\"http://www.w3.org/2000/svg\" height=\"24px\" viewBox=\"0 -960 960 960\">\n",
              "    <path d=\"M120-120v-720h720v720H120Zm60-500h600v-160H180v160Zm220 220h160v-160H400v160Zm0 220h160v-160H400v160ZM180-400h160v-160H180v160Zm440 0h160v-160H620v160ZM180-180h160v-160H180v160Zm440 0h160v-160H620v160Z\"/>\n",
              "  </svg>\n",
              "    </button>\n",
              "\n",
              "  <style>\n",
              "    .colab-df-container {\n",
              "      display:flex;\n",
              "      gap: 12px;\n",
              "    }\n",
              "\n",
              "    .colab-df-convert {\n",
              "      background-color: #E8F0FE;\n",
              "      border: none;\n",
              "      border-radius: 50%;\n",
              "      cursor: pointer;\n",
              "      display: none;\n",
              "      fill: #1967D2;\n",
              "      height: 32px;\n",
              "      padding: 0 0 0 0;\n",
              "      width: 32px;\n",
              "    }\n",
              "\n",
              "    .colab-df-convert:hover {\n",
              "      background-color: #E2EBFA;\n",
              "      box-shadow: 0px 1px 2px rgba(60, 64, 67, 0.3), 0px 1px 3px 1px rgba(60, 64, 67, 0.15);\n",
              "      fill: #174EA6;\n",
              "    }\n",
              "\n",
              "    .colab-df-buttons div {\n",
              "      margin-bottom: 4px;\n",
              "    }\n",
              "\n",
              "    [theme=dark] .colab-df-convert {\n",
              "      background-color: #3B4455;\n",
              "      fill: #D2E3FC;\n",
              "    }\n",
              "\n",
              "    [theme=dark] .colab-df-convert:hover {\n",
              "      background-color: #434B5C;\n",
              "      box-shadow: 0px 1px 3px 1px rgba(0, 0, 0, 0.15);\n",
              "      filter: drop-shadow(0px 1px 2px rgba(0, 0, 0, 0.3));\n",
              "      fill: #FFFFFF;\n",
              "    }\n",
              "  </style>\n",
              "\n",
              "    <script>\n",
              "      const buttonEl =\n",
              "        document.querySelector('#df-97eb725e-dbba-4f0a-b5df-d07cd956874f button.colab-df-convert');\n",
              "      buttonEl.style.display =\n",
              "        google.colab.kernel.accessAllowed ? 'block' : 'none';\n",
              "\n",
              "      async function convertToInteractive(key) {\n",
              "        const element = document.querySelector('#df-97eb725e-dbba-4f0a-b5df-d07cd956874f');\n",
              "        const dataTable =\n",
              "          await google.colab.kernel.invokeFunction('convertToInteractive',\n",
              "                                                    [key], {});\n",
              "        if (!dataTable) return;\n",
              "\n",
              "        const docLinkHtml = 'Like what you see? Visit the ' +\n",
              "          '<a target=\"_blank\" href=https://colab.research.google.com/notebooks/data_table.ipynb>data table notebook</a>'\n",
              "          + ' to learn more about interactive tables.';\n",
              "        element.innerHTML = '';\n",
              "        dataTable['output_type'] = 'display_data';\n",
              "        await google.colab.output.renderOutput(dataTable, element);\n",
              "        const docLink = document.createElement('div');\n",
              "        docLink.innerHTML = docLinkHtml;\n",
              "        element.appendChild(docLink);\n",
              "      }\n",
              "    </script>\n",
              "  </div>\n",
              "\n",
              "\n",
              "<div id=\"df-c19e3e60-22c0-47e9-80bc-1611f3544259\">\n",
              "  <button class=\"colab-df-quickchart\" onclick=\"quickchart('df-c19e3e60-22c0-47e9-80bc-1611f3544259')\"\n",
              "            title=\"Suggest charts\"\n",
              "            style=\"display:none;\">\n",
              "\n",
              "<svg xmlns=\"http://www.w3.org/2000/svg\" height=\"24px\"viewBox=\"0 0 24 24\"\n",
              "     width=\"24px\">\n",
              "    <g>\n",
              "        <path d=\"M19 3H5c-1.1 0-2 .9-2 2v14c0 1.1.9 2 2 2h14c1.1 0 2-.9 2-2V5c0-1.1-.9-2-2-2zM9 17H7v-7h2v7zm4 0h-2V7h2v10zm4 0h-2v-4h2v4z\"/>\n",
              "    </g>\n",
              "</svg>\n",
              "  </button>\n",
              "\n",
              "<style>\n",
              "  .colab-df-quickchart {\n",
              "      --bg-color: #E8F0FE;\n",
              "      --fill-color: #1967D2;\n",
              "      --hover-bg-color: #E2EBFA;\n",
              "      --hover-fill-color: #174EA6;\n",
              "      --disabled-fill-color: #AAA;\n",
              "      --disabled-bg-color: #DDD;\n",
              "  }\n",
              "\n",
              "  [theme=dark] .colab-df-quickchart {\n",
              "      --bg-color: #3B4455;\n",
              "      --fill-color: #D2E3FC;\n",
              "      --hover-bg-color: #434B5C;\n",
              "      --hover-fill-color: #FFFFFF;\n",
              "      --disabled-bg-color: #3B4455;\n",
              "      --disabled-fill-color: #666;\n",
              "  }\n",
              "\n",
              "  .colab-df-quickchart {\n",
              "    background-color: var(--bg-color);\n",
              "    border: none;\n",
              "    border-radius: 50%;\n",
              "    cursor: pointer;\n",
              "    display: none;\n",
              "    fill: var(--fill-color);\n",
              "    height: 32px;\n",
              "    padding: 0;\n",
              "    width: 32px;\n",
              "  }\n",
              "\n",
              "  .colab-df-quickchart:hover {\n",
              "    background-color: var(--hover-bg-color);\n",
              "    box-shadow: 0 1px 2px rgba(60, 64, 67, 0.3), 0 1px 3px 1px rgba(60, 64, 67, 0.15);\n",
              "    fill: var(--button-hover-fill-color);\n",
              "  }\n",
              "\n",
              "  .colab-df-quickchart-complete:disabled,\n",
              "  .colab-df-quickchart-complete:disabled:hover {\n",
              "    background-color: var(--disabled-bg-color);\n",
              "    fill: var(--disabled-fill-color);\n",
              "    box-shadow: none;\n",
              "  }\n",
              "\n",
              "  .colab-df-spinner {\n",
              "    border: 2px solid var(--fill-color);\n",
              "    border-color: transparent;\n",
              "    border-bottom-color: var(--fill-color);\n",
              "    animation:\n",
              "      spin 1s steps(1) infinite;\n",
              "  }\n",
              "\n",
              "  @keyframes spin {\n",
              "    0% {\n",
              "      border-color: transparent;\n",
              "      border-bottom-color: var(--fill-color);\n",
              "      border-left-color: var(--fill-color);\n",
              "    }\n",
              "    20% {\n",
              "      border-color: transparent;\n",
              "      border-left-color: var(--fill-color);\n",
              "      border-top-color: var(--fill-color);\n",
              "    }\n",
              "    30% {\n",
              "      border-color: transparent;\n",
              "      border-left-color: var(--fill-color);\n",
              "      border-top-color: var(--fill-color);\n",
              "      border-right-color: var(--fill-color);\n",
              "    }\n",
              "    40% {\n",
              "      border-color: transparent;\n",
              "      border-right-color: var(--fill-color);\n",
              "      border-top-color: var(--fill-color);\n",
              "    }\n",
              "    60% {\n",
              "      border-color: transparent;\n",
              "      border-right-color: var(--fill-color);\n",
              "    }\n",
              "    80% {\n",
              "      border-color: transparent;\n",
              "      border-right-color: var(--fill-color);\n",
              "      border-bottom-color: var(--fill-color);\n",
              "    }\n",
              "    90% {\n",
              "      border-color: transparent;\n",
              "      border-bottom-color: var(--fill-color);\n",
              "    }\n",
              "  }\n",
              "</style>\n",
              "\n",
              "  <script>\n",
              "    async function quickchart(key) {\n",
              "      const quickchartButtonEl =\n",
              "        document.querySelector('#' + key + ' button');\n",
              "      quickchartButtonEl.disabled = true;  // To prevent multiple clicks.\n",
              "      quickchartButtonEl.classList.add('colab-df-spinner');\n",
              "      try {\n",
              "        const charts = await google.colab.kernel.invokeFunction(\n",
              "            'suggestCharts', [key], {});\n",
              "      } catch (error) {\n",
              "        console.error('Error during call to suggestCharts:', error);\n",
              "      }\n",
              "      quickchartButtonEl.classList.remove('colab-df-spinner');\n",
              "      quickchartButtonEl.classList.add('colab-df-quickchart-complete');\n",
              "    }\n",
              "    (() => {\n",
              "      let quickchartButtonEl =\n",
              "        document.querySelector('#df-c19e3e60-22c0-47e9-80bc-1611f3544259 button');\n",
              "      quickchartButtonEl.style.display =\n",
              "        google.colab.kernel.accessAllowed ? 'block' : 'none';\n",
              "    })();\n",
              "  </script>\n",
              "</div>\n",
              "\n",
              "    </div>\n",
              "  </div>\n"
            ],
            "application/vnd.google.colaboratory.intrinsic+json": {
              "type": "dataframe",
              "repr_error": "0"
            }
          },
          "metadata": {},
          "execution_count": 52
        }
      ]
    },
    {
      "cell_type": "markdown",
      "source": [
        "#Topic Modelling (to find what topics are in the reddit post)"
      ],
      "metadata": {
        "id": "xUO1ijpW1MG3"
      }
    },
    {
      "cell_type": "code",
      "source": [
        "#topic modelling\n",
        "import gensim\n",
        "from gensim import corpora\n",
        "from gensim.models import LdaModel\n",
        "\n",
        "# Tokenize and preprocess the text data\n",
        "stop_words = set(stopwords.words('english'))\n",
        "punctuations = set(string.punctuation)\n",
        "punctuations.union(set(['\\'', '\\`', '\\“']))\n",
        "\n",
        "def preprocess_text(text):\n",
        "    expanded_text = contractions.fix(text) # adjust contractions\n",
        "    clean_text = re.sub(r'http[s]?://\\S+', '', expanded_text)\n",
        "    tokens = word_tokenize(clean_text.lower())  # Tokenize text and convert to lowercase\n",
        "    tokens = [token for token in tokens if token not in stop_words and token not in punctuations]  # Remove stopwords and punctuation\n",
        "    return tokens\n",
        "\n",
        "preprocess_text = df['content'].apply(preprocess_text)\n",
        "\n",
        "# Create dictionary and corpus for LDA model\n",
        "dictionary = corpora.Dictionary(preprocess_text)\n",
        "corpus = [dictionary.doc2bow(post) for post in preprocess_text]\n",
        "\n",
        "# Train LDA model\n",
        "lda_model = LdaModel(corpus, num_topics=5, id2word=dictionary, passes=10)\n",
        "\n",
        "# Print topics\n",
        "for idx, topic in lda_model.print_topics(-1):\n",
        "    print(f\"Topic {idx}: {topic}\")"
      ],
      "metadata": {
        "colab": {
          "base_uri": "https://localhost:8080/"
        },
        "id": "5VhjtBhIAKVo",
        "outputId": "dcb32f21-3773-4292-92d1-37fa653e28c6"
      },
      "execution_count": null,
      "outputs": [
        {
          "output_type": "stream",
          "name": "stdout",
          "text": [
            "Topic 0: 0.015*\"dog\" + 0.010*\"would\" + 0.009*\"go\" + 0.009*\"trip\" + 0.008*\"work\" + 0.008*\"one\" + 0.007*\"people\" + 0.007*\"class\" + 0.007*\"school\" + 0.006*\"us\"\n",
            "Topic 1: 0.013*\"like\" + 0.012*\"said\" + 0.010*\"would\" + 0.009*\"told\" + 0.008*\"“\" + 0.008*\"”\" + 0.008*\"really\" + 0.008*\"know\" + 0.008*\"friend\" + 0.007*\"friends\"\n",
            "Topic 2: 0.018*\"''\" + 0.018*\"``\" + 0.012*\"food\" + 0.010*\"said\" + 0.009*\"like\" + 0.008*\"eat\" + 0.006*\"get\" + 0.006*\"dinner\" + 0.006*\"one\" + 0.006*\"told\"\n",
            "Topic 3: 0.012*\"would\" + 0.012*\"money\" + 0.010*\"work\" + 0.009*\"house\" + 0.009*\"get\" + 0.009*\"pay\" + 0.008*\"time\" + 0.007*\"home\" + 0.006*\"job\" + 0.006*\"back\"\n",
            "Topic 4: 0.012*\"family\" + 0.012*\"would\" + 0.011*\"told\" + 0.011*\"mom\" + 0.010*\"said\" + 0.009*\"sister\" + 0.008*\"dad\" + 0.008*\"'s\" + 0.008*\"wife\" + 0.008*\"daughter\"\n"
          ]
        }
      ]
    },
    {
      "cell_type": "markdown",
      "source": [
        "#2 part logistic regression"
      ],
      "metadata": {
        "id": "fHu2ziwO1arG"
      }
    },
    {
      "cell_type": "markdown",
      "source": [
        "###Preprocessing"
      ],
      "metadata": {
        "id": "cfBbwQyCTLlT"
      }
    },
    {
      "cell_type": "code",
      "source": [
        "def flatten(data):\n",
        "    results = []\n",
        "    for index, row in data.iterrows():\n",
        "      results.extend(row)\n",
        "    return results"
      ],
      "metadata": {
        "id": "oY7Cg--9urUq"
      },
      "execution_count": null,
      "outputs": []
    },
    {
      "cell_type": "code",
      "source": [
        "#flatten the data so that each sentence is now 1 data point\n",
        "X_train_flattened = flatten(train[['sent1', 'sent2', 'sent3', 'sent4', 'sent5']].fillna(''))\n",
        "X_test_flattened = flatten(test[['sent1', 'sent2', 'sent3', 'sent4', 'sent5']].fillna(''))"
      ],
      "metadata": {
        "id": "PMXIIt66nBNv"
      },
      "execution_count": null,
      "outputs": []
    },
    {
      "cell_type": "code",
      "source": [
        "#Vectorise the sentences\n",
        "vectorizer = TfidfVectorizer(tokenizer=tokenize_and_stem, token_pattern=None)\n",
        "\n",
        "vectorizer.fit(X_train_flattened)\n",
        "X_train_vector = vectorizer.transform(X_train_flattened)\n",
        "X_test_vector = vectorizer.transform(X_test_flattened)"
      ],
      "metadata": {
        "id": "GyNo8OTBzxnA"
      },
      "execution_count": null,
      "outputs": []
    },
    {
      "cell_type": "code",
      "source": [
        "#Repeat each label 5 times to match the new flattened data\n",
        "y_train_flattened = np.repeat(train['flag'], 5)\n",
        "y_test_flattened = np.repeat(test['flag'], 5)"
      ],
      "metadata": {
        "id": "OyFiPjCpbFVz"
      },
      "execution_count": null,
      "outputs": []
    },
    {
      "cell_type": "markdown",
      "source": [
        "### Logistic Regression"
      ],
      "metadata": {
        "id": "bqsrgVNCbjD9"
      }
    },
    {
      "cell_type": "code",
      "execution_count": null,
      "metadata": {
        "id": "TOsptzJxqx-g"
      },
      "outputs": [],
      "source": [
        "#Stage 1 Logistic Regression, to train the output for each sentence\n",
        "stage_1 = LogisticRegression(solver=\"saga\")\n",
        "stage_1.fit(X_train_vector, y_train_flattened)\n",
        "X_train_intermediate_results = stage_1.predict(X_train_vector)\n",
        "X_test_intermediate_results = stage_1.predict(X_test_vector)"
      ]
    },
    {
      "cell_type": "code",
      "source": [
        "#reshape to push into stage 2 logistic regression\n",
        "X_train_intermediate_input = X_train_intermediate_results.reshape(int(len(X_train_intermediate_results)/5), 5)\n",
        "X_test_intermediate_input = X_test_intermediate_results.reshape(int(len(X_test_intermediate_results)/5), 5)\n",
        "print(X_train_intermediate_input.shape)\n",
        "print(X_test_intermediate_input.shape)"
      ],
      "metadata": {
        "colab": {
          "base_uri": "https://localhost:8080/"
        },
        "id": "U7QdAQiZbmti",
        "outputId": "89a1198a-2781-443c-a34d-1efc31e25d5f"
      },
      "execution_count": null,
      "outputs": [
        {
          "output_type": "stream",
          "name": "stdout",
          "text": [
            "(10872, 5)\n",
            "(6000, 5)\n"
          ]
        }
      ]
    },
    {
      "cell_type": "code",
      "source": [
        "#Stage 2 Logistic Regression training score\n",
        "cross_val_scores = cross_val_score(LogisticRegression(solver=\"saga\"), X_train_intermediate_input, train['flag'], cv=10, scoring=\"f1\")\n",
        "print(f\"cross-validation f1 scores:\", cross_val_scores)\n",
        "print(f\"average cross-validation f1 score:\", cross_val_scores.mean())"
      ],
      "metadata": {
        "id": "6ModaCkUR7OP",
        "colab": {
          "base_uri": "https://localhost:8080/"
        },
        "outputId": "e8a6d5e1-984d-4aa0-b039-ccf01c8bf36f"
      },
      "execution_count": null,
      "outputs": [
        {
          "output_type": "stream",
          "name": "stdout",
          "text": [
            "cross-validation f1 scores: [0.86314022 0.86317568 0.85311203 0.86248983 0.8349835  0.82246078\n",
            " 0.80370682 0.74159292 0.72128228 0.73777778]\n",
            "average cross-validation f1 score: 0.8103721832537669\n"
          ]
        }
      ]
    },
    {
      "cell_type": "code",
      "source": [
        "#Stage 2 Logistic Regression training score\n",
        "cross_val_scores = cross_val_score(LogisticRegression(solver=\"saga\"), X_train_intermediate_input, train['flag'], cv=10, scoring=\"accuracy\")\n",
        "print(f\"cross-validation accuracy:\", cross_val_scores)\n",
        "print(f\"average cross-validation accuracy:\", cross_val_scores.mean())"
      ],
      "metadata": {
        "colab": {
          "base_uri": "https://localhost:8080/"
        },
        "id": "D5B1W-l3W_r9",
        "outputId": "eafe8f22-9439-4c70-d1cc-e92507ada5fa"
      },
      "execution_count": null,
      "outputs": [
        {
          "output_type": "stream",
          "name": "stdout",
          "text": [
            "cross-validation accuracy: [0.85018382 0.85110294 0.83716651 0.84452622 0.81600736 0.80220791\n",
            " 0.78564857 0.73137075 0.71205152 0.72861086]\n",
            "average cross-validation accuracy: 0.7958876461118025\n"
          ]
        }
      ]
    },
    {
      "cell_type": "code",
      "source": [
        "#Stage 2 Logistic Regression testing score\n",
        "stage_2 = LogisticRegression(solver=\"saga\")\n",
        "stage_2.fit(X_train_intermediate_input, train['flag'])\n",
        "y_pred = stage_2.predict(X_test_intermediate_input)\n",
        "print(f\"accuracy:\", metrics.accuracy_score(test['flag'], y_pred))\n",
        "print(f\"f1-score:\", metrics.f1_score(test['flag'], y_pred))"
      ],
      "metadata": {
        "colab": {
          "base_uri": "https://localhost:8080/"
        },
        "id": "Nu9UnL2Pq0LE",
        "outputId": "d9fe9936-b674-47b4-ed8d-b15813728e54"
      },
      "execution_count": null,
      "outputs": [
        {
          "output_type": "stream",
          "name": "stdout",
          "text": [
            "accuracy: 0.6048333333333333\n",
            "f1-score: 0.3915832691814216\n"
          ]
        }
      ]
    },
    {
      "cell_type": "code",
      "source": [
        "#Check whether majority polling gives the same results\n",
        "y_test = [round(np.mean(x)) for x in X_test_intermediate_input]\n",
        "print(f\"accuracy:\", metrics.accuracy_score(test['flag'], y_test))\n",
        "print(f\"f1-score:\", metrics.f1_score(test['flag'], y_test ))"
      ],
      "metadata": {
        "id": "cb-aswQyR467",
        "colab": {
          "base_uri": "https://localhost:8080/"
        },
        "outputId": "61c03ba6-d2c2-4233-e811-3160013d189c"
      },
      "execution_count": null,
      "outputs": [
        {
          "output_type": "stream",
          "name": "stdout",
          "text": [
            "accuracy: 0.6048333333333333\n",
            "f1-score: 0.3915832691814216\n"
          ]
        }
      ]
    },
    {
      "cell_type": "markdown",
      "source": [
        "### NBaive Bayes"
      ],
      "metadata": {
        "id": "59QdVwirS1ZW"
      }
    },
    {
      "cell_type": "code",
      "execution_count": null,
      "metadata": {
        "id": "CT6n1AeeS1Zf"
      },
      "outputs": [],
      "source": [
        "#Stage 1 NB, to train the output for each sentence\n",
        "stage_1 = MultinomialNB()\n",
        "stage_1.fit(X_train_vector, y_train_flattened)\n",
        "X_train_intermediate_results = stage_1.predict(X_train_vector)\n",
        "X_test_intermediate_results = stage_1.predict(X_test_vector)"
      ]
    },
    {
      "cell_type": "code",
      "source": [
        "#reshape to push into stage 2 NB\n",
        "X_train_intermediate_input = X_train_intermediate_results.reshape(int(len(X_train_intermediate_results)/5), 5)\n",
        "X_test_intermediate_input = X_test_intermediate_results.reshape(int(len(X_test_intermediate_results)/5), 5)\n",
        "print(X_train_intermediate_input.shape)\n",
        "print(X_test_intermediate_input.shape)"
      ],
      "metadata": {
        "colab": {
          "base_uri": "https://localhost:8080/"
        },
        "outputId": "bd409b7e-1507-4a32-bf56-4766145a9d8e",
        "id": "S5D_oe1bS1Zf"
      },
      "execution_count": null,
      "outputs": [
        {
          "output_type": "stream",
          "name": "stdout",
          "text": [
            "(10872, 5)\n",
            "(6000, 5)\n"
          ]
        }
      ]
    },
    {
      "cell_type": "code",
      "source": [
        "#Stage 2 NB training score\n",
        "cross_val_scores = cross_val_score(MultinomialNB(), X_train_intermediate_input, train['flag'], cv=10, scoring=\"f1\")\n",
        "print(f\"cross-validation f1 scores:\", cross_val_scores)\n",
        "print(f\"average cross-validation f1 score:\", cross_val_scores.mean())"
      ],
      "metadata": {
        "colab": {
          "base_uri": "https://localhost:8080/"
        },
        "id": "PyxXtx1jS1Zf",
        "outputId": "5513a08c-3330-4a83-ba90-e8ff825a9d62"
      },
      "execution_count": null,
      "outputs": [
        {
          "output_type": "stream",
          "name": "stdout",
          "text": [
            "cross-validation f1 scores: [0.69073406 0.68848485 0.68647665 0.69036145 0.68856448 0.68898357\n",
            " 0.68253968 0.68515096 0.69114991 0.67617866]\n",
            "average cross-validation f1 score: 0.6868624252975506\n"
          ]
        }
      ]
    },
    {
      "cell_type": "code",
      "source": [
        "#Stage 2 NB training score\n",
        "cross_val_scores = cross_val_score(MultinomialNB(), X_train_intermediate_input, train['flag'], cv=10, scoring=\"accuracy\")\n",
        "print(f\"cross-validation accuracy:\", cross_val_scores)\n",
        "print(f\"average cross-validation accuracy:\", cross_val_scores.mean())"
      ],
      "metadata": {
        "colab": {
          "base_uri": "https://localhost:8080/"
        },
        "id": "tBb6087cWzNH",
        "outputId": "f673f029-0c50-43b2-911c-d3a769967d70"
      },
      "execution_count": null,
      "outputs": [
        {
          "output_type": "stream",
          "name": "stdout",
          "text": [
            "cross-validation accuracy: [0.52757353 0.52757353 0.52437902 0.52713891 0.52897884 0.5298988\n",
            " 0.52161914 0.5298988  0.52805888 0.51977921]\n",
            "average cross-validation accuracy: 0.5264898668759133\n"
          ]
        }
      ]
    },
    {
      "cell_type": "code",
      "source": [
        "#Stage 2 NB testing score\n",
        "stage_2 = MultinomialNB()\n",
        "stage_2.fit(X_train_intermediate_input, train['flag'])\n",
        "y_pred = stage_2.predict(X_test_intermediate_input)\n",
        "print(f\"accuracy:\", metrics.accuracy_score(test['flag'], y_pred))\n",
        "print(f\"f1-score:\", metrics.f1_score(test['flag'], y_pred))"
      ],
      "metadata": {
        "colab": {
          "base_uri": "https://localhost:8080/"
        },
        "outputId": "4f6f9238-b00a-4441-a7cf-6805f9160588",
        "id": "RCEVNs5oS1Zf"
      },
      "execution_count": null,
      "outputs": [
        {
          "output_type": "stream",
          "name": "stdout",
          "text": [
            "accuracy: 0.18566666666666667\n",
            "f1-score: 0.2854635858438139\n"
          ]
        }
      ]
    },
    {
      "cell_type": "code",
      "source": [
        "#Check whether majority polling gives the same results\n",
        "y_test = [round(np.mean(x)) for x in X_test_intermediate_input]\n",
        "print(f\"accuracy:\", metrics.accuracy_score(test['flag'], y_test))\n",
        "print(f\"f1-score:\", metrics.f1_score(test['flag'], y_test ))"
      ],
      "metadata": {
        "colab": {
          "base_uri": "https://localhost:8080/"
        },
        "id": "ba2bEPVIS1Zf",
        "outputId": "49e532d0-7312-4c55-826a-7eab7ec422b0"
      },
      "execution_count": null,
      "outputs": [
        {
          "output_type": "stream",
          "name": "stdout",
          "text": [
            "accuracy: 0.5078333333333334\n",
            "f1-score: 0.3595749295163739\n"
          ]
        }
      ]
    },
    {
      "cell_type": "markdown",
      "source": [
        "### Mixed"
      ],
      "metadata": {
        "id": "MUS4UXbgS6SS"
      }
    },
    {
      "cell_type": "code",
      "execution_count": null,
      "metadata": {
        "id": "5UefkOfTS6ST"
      },
      "outputs": [],
      "source": [
        "#Stage 1 Logistic Regression, to train the output for each sentence\n",
        "stage_1 = MultinomialNB()\n",
        "stage_1.fit(X_train_vector, y_train_flattened)\n",
        "X_train_intermediate_results = stage_1.predict(X_train_vector)\n",
        "X_test_intermediate_results = stage_1.predict(X_test_vector)"
      ]
    },
    {
      "cell_type": "code",
      "source": [
        "#reshape to push into stage 2 logistic regression\n",
        "X_train_intermediate_input = X_train_intermediate_results.reshape(int(len(X_train_intermediate_results)/5), 5)\n",
        "X_test_intermediate_input = X_test_intermediate_results.reshape(int(len(X_test_intermediate_results)/5), 5)\n",
        "print(X_train_intermediate_input.shape)\n",
        "print(X_test_intermediate_input.shape)"
      ],
      "metadata": {
        "colab": {
          "base_uri": "https://localhost:8080/"
        },
        "outputId": "2dfd821f-3e6a-41bb-ee1a-3c7cb5ff6120",
        "id": "7y7raH4dS6ST"
      },
      "execution_count": null,
      "outputs": [
        {
          "output_type": "stream",
          "name": "stdout",
          "text": [
            "(10872, 5)\n",
            "(6000, 5)\n"
          ]
        }
      ]
    },
    {
      "cell_type": "code",
      "source": [
        "#Stage 2 Logistic Regression training score\n",
        "cross_val_scores = cross_val_score(LogisticRegression(solver=\"saga\"), X_train_intermediate_input, train['flag'], cv=10, scoring=\"f1\")\n",
        "print(f\"cross-validation f1 scores:\", cross_val_scores)\n",
        "print(f\"average cross-validation f1 score:\", cross_val_scores.mean())"
      ],
      "metadata": {
        "colab": {
          "base_uri": "https://localhost:8080/"
        },
        "id": "1a_HiyfgS6SU",
        "outputId": "6c4d849d-88cd-47e8-e9cf-37c95e8bea7b"
      },
      "execution_count": null,
      "outputs": [
        {
          "output_type": "stream",
          "name": "stdout",
          "text": [
            "cross-validation scores: [0.87012987 0.88474026 0.86031746 0.87066246 0.85205267 0.83081811\n",
            " 0.8058489  0.78613694 0.74223035 0.76678445]\n",
            "average cross-validation score: 0.8269721475672949\n"
          ]
        }
      ]
    },
    {
      "cell_type": "code",
      "source": [
        "#Stage 2 Logistic Regression training score\n",
        "cross_val_scores = cross_val_score(LogisticRegression(solver=\"saga\"), X_train_intermediate_input, train['flag'], cv=10, scoring=\"accuracy\")\n",
        "print(f\"cross-validation accuracy:\", cross_val_scores)\n",
        "print(f\"average cross-validation accuracy:\", cross_val_scores.mean())"
      ],
      "metadata": {
        "colab": {
          "base_uri": "https://localhost:8080/"
        },
        "id": "GRORpJ09WSEn",
        "outputId": "9b00cf05-884d-430e-f56a-8eae70f9a6b2"
      },
      "execution_count": null,
      "outputs": [
        {
          "output_type": "stream",
          "name": "stdout",
          "text": [
            "cross-validation accuracy: [0.85294118 0.86948529 0.83808648 0.84912603 0.82428703 0.80404784\n",
            " 0.78012879 0.76724931 0.74057038 0.75712971]\n",
            "average cross-validation accuracy: 0.8083052045565235\n"
          ]
        }
      ]
    },
    {
      "cell_type": "code",
      "source": [
        "#Stage 2 Logistic Regression testing score\n",
        "stage_2 = LogisticRegression(solver=\"saga\")\n",
        "stage_2.fit(X_train_intermediate_input, train['flag'])\n",
        "y_pred = stage_2.predict(X_test_intermediate_input)\n",
        "print(f\"accuracy:\", metrics.accuracy_score(test['flag'], y_pred))\n",
        "print(f\"f1-score:\", metrics.f1_score(test['flag'], y_pred))"
      ],
      "metadata": {
        "colab": {
          "base_uri": "https://localhost:8080/"
        },
        "outputId": "df038242-9ef2-45d5-91ca-74696d9dce26",
        "id": "7QK55X7QS6SU"
      },
      "execution_count": null,
      "outputs": [
        {
          "output_type": "stream",
          "name": "stdout",
          "text": [
            "accuracy: 0.5078333333333334\n",
            "f1-score: 0.3595749295163739\n"
          ]
        }
      ]
    },
    {
      "cell_type": "code",
      "source": [
        "#Check whether majority polling gives the same results\n",
        "y_test = [round(np.mean(x)) for x in X_test_intermediate_input]\n",
        "print(f\"accuracy:\", metrics.accuracy_score(test['flag'], y_test))\n",
        "print(f\"f1-score:\", metrics.f1_score(test['flag'], y_test ))"
      ],
      "metadata": {
        "colab": {
          "base_uri": "https://localhost:8080/"
        },
        "id": "fdHhC-qKS6SU",
        "outputId": "965d734b-7703-49c8-9cd4-f293af087dbc"
      },
      "execution_count": null,
      "outputs": [
        {
          "output_type": "stream",
          "name": "stdout",
          "text": [
            "accuracy: 0.5078333333333334\n",
            "f1-score: 0.3595749295163739\n"
          ]
        }
      ]
    },
    {
      "cell_type": "markdown",
      "source": [
        "#Justice model"
      ],
      "metadata": {
        "id": "OG07ASdbWryA"
      }
    },
    {
      "cell_type": "code",
      "source": [
        "justice = pd.read_csv('/content/drive/MyDrive/CS5246/AITA/justice_test.csv')\n",
        "justice.head()"
      ],
      "metadata": {
        "colab": {
          "base_uri": "https://localhost:8080/",
          "height": 206
        },
        "id": "EZci1NbkVQaK",
        "outputId": "9f21786d-9b03-4240-fa89-361320faf3e0"
      },
      "execution_count": 6,
      "outputs": [
        {
          "output_type": "execute_result",
          "data": {
            "text/plain": [
              "   label                                           scenario\n",
              "0      1  I used to walk around the park with my coworke...\n",
              "1      0  I used to walk around the park with my coworke...\n",
              "2      1  I used to walk around the park with my coworke...\n",
              "3      0  I used to walk around the park with my coworke...\n",
              "4      0  I usually give a gift to my girlfriend on Vale..."
            ],
            "text/html": [
              "\n",
              "  <div id=\"df-f6d55bd2-ed7a-420b-bd10-569dd27ac0ee\" class=\"colab-df-container\">\n",
              "    <div>\n",
              "<style scoped>\n",
              "    .dataframe tbody tr th:only-of-type {\n",
              "        vertical-align: middle;\n",
              "    }\n",
              "\n",
              "    .dataframe tbody tr th {\n",
              "        vertical-align: top;\n",
              "    }\n",
              "\n",
              "    .dataframe thead th {\n",
              "        text-align: right;\n",
              "    }\n",
              "</style>\n",
              "<table border=\"1\" class=\"dataframe\">\n",
              "  <thead>\n",
              "    <tr style=\"text-align: right;\">\n",
              "      <th></th>\n",
              "      <th>label</th>\n",
              "      <th>scenario</th>\n",
              "    </tr>\n",
              "  </thead>\n",
              "  <tbody>\n",
              "    <tr>\n",
              "      <th>0</th>\n",
              "      <td>1</td>\n",
              "      <td>I used to walk around the park with my coworke...</td>\n",
              "    </tr>\n",
              "    <tr>\n",
              "      <th>1</th>\n",
              "      <td>0</td>\n",
              "      <td>I used to walk around the park with my coworke...</td>\n",
              "    </tr>\n",
              "    <tr>\n",
              "      <th>2</th>\n",
              "      <td>1</td>\n",
              "      <td>I used to walk around the park with my coworke...</td>\n",
              "    </tr>\n",
              "    <tr>\n",
              "      <th>3</th>\n",
              "      <td>0</td>\n",
              "      <td>I used to walk around the park with my coworke...</td>\n",
              "    </tr>\n",
              "    <tr>\n",
              "      <th>4</th>\n",
              "      <td>0</td>\n",
              "      <td>I usually give a gift to my girlfriend on Vale...</td>\n",
              "    </tr>\n",
              "  </tbody>\n",
              "</table>\n",
              "</div>\n",
              "    <div class=\"colab-df-buttons\">\n",
              "\n",
              "  <div class=\"colab-df-container\">\n",
              "    <button class=\"colab-df-convert\" onclick=\"convertToInteractive('df-f6d55bd2-ed7a-420b-bd10-569dd27ac0ee')\"\n",
              "            title=\"Convert this dataframe to an interactive table.\"\n",
              "            style=\"display:none;\">\n",
              "\n",
              "  <svg xmlns=\"http://www.w3.org/2000/svg\" height=\"24px\" viewBox=\"0 -960 960 960\">\n",
              "    <path d=\"M120-120v-720h720v720H120Zm60-500h600v-160H180v160Zm220 220h160v-160H400v160Zm0 220h160v-160H400v160ZM180-400h160v-160H180v160Zm440 0h160v-160H620v160ZM180-180h160v-160H180v160Zm440 0h160v-160H620v160Z\"/>\n",
              "  </svg>\n",
              "    </button>\n",
              "\n",
              "  <style>\n",
              "    .colab-df-container {\n",
              "      display:flex;\n",
              "      gap: 12px;\n",
              "    }\n",
              "\n",
              "    .colab-df-convert {\n",
              "      background-color: #E8F0FE;\n",
              "      border: none;\n",
              "      border-radius: 50%;\n",
              "      cursor: pointer;\n",
              "      display: none;\n",
              "      fill: #1967D2;\n",
              "      height: 32px;\n",
              "      padding: 0 0 0 0;\n",
              "      width: 32px;\n",
              "    }\n",
              "\n",
              "    .colab-df-convert:hover {\n",
              "      background-color: #E2EBFA;\n",
              "      box-shadow: 0px 1px 2px rgba(60, 64, 67, 0.3), 0px 1px 3px 1px rgba(60, 64, 67, 0.15);\n",
              "      fill: #174EA6;\n",
              "    }\n",
              "\n",
              "    .colab-df-buttons div {\n",
              "      margin-bottom: 4px;\n",
              "    }\n",
              "\n",
              "    [theme=dark] .colab-df-convert {\n",
              "      background-color: #3B4455;\n",
              "      fill: #D2E3FC;\n",
              "    }\n",
              "\n",
              "    [theme=dark] .colab-df-convert:hover {\n",
              "      background-color: #434B5C;\n",
              "      box-shadow: 0px 1px 3px 1px rgba(0, 0, 0, 0.15);\n",
              "      filter: drop-shadow(0px 1px 2px rgba(0, 0, 0, 0.3));\n",
              "      fill: #FFFFFF;\n",
              "    }\n",
              "  </style>\n",
              "\n",
              "    <script>\n",
              "      const buttonEl =\n",
              "        document.querySelector('#df-f6d55bd2-ed7a-420b-bd10-569dd27ac0ee button.colab-df-convert');\n",
              "      buttonEl.style.display =\n",
              "        google.colab.kernel.accessAllowed ? 'block' : 'none';\n",
              "\n",
              "      async function convertToInteractive(key) {\n",
              "        const element = document.querySelector('#df-f6d55bd2-ed7a-420b-bd10-569dd27ac0ee');\n",
              "        const dataTable =\n",
              "          await google.colab.kernel.invokeFunction('convertToInteractive',\n",
              "                                                    [key], {});\n",
              "        if (!dataTable) return;\n",
              "\n",
              "        const docLinkHtml = 'Like what you see? Visit the ' +\n",
              "          '<a target=\"_blank\" href=https://colab.research.google.com/notebooks/data_table.ipynb>data table notebook</a>'\n",
              "          + ' to learn more about interactive tables.';\n",
              "        element.innerHTML = '';\n",
              "        dataTable['output_type'] = 'display_data';\n",
              "        await google.colab.output.renderOutput(dataTable, element);\n",
              "        const docLink = document.createElement('div');\n",
              "        docLink.innerHTML = docLinkHtml;\n",
              "        element.appendChild(docLink);\n",
              "      }\n",
              "    </script>\n",
              "  </div>\n",
              "\n",
              "\n",
              "<div id=\"df-b697f0e9-6f2f-45ff-9718-b90d6a01f8d6\">\n",
              "  <button class=\"colab-df-quickchart\" onclick=\"quickchart('df-b697f0e9-6f2f-45ff-9718-b90d6a01f8d6')\"\n",
              "            title=\"Suggest charts\"\n",
              "            style=\"display:none;\">\n",
              "\n",
              "<svg xmlns=\"http://www.w3.org/2000/svg\" height=\"24px\"viewBox=\"0 0 24 24\"\n",
              "     width=\"24px\">\n",
              "    <g>\n",
              "        <path d=\"M19 3H5c-1.1 0-2 .9-2 2v14c0 1.1.9 2 2 2h14c1.1 0 2-.9 2-2V5c0-1.1-.9-2-2-2zM9 17H7v-7h2v7zm4 0h-2V7h2v10zm4 0h-2v-4h2v4z\"/>\n",
              "    </g>\n",
              "</svg>\n",
              "  </button>\n",
              "\n",
              "<style>\n",
              "  .colab-df-quickchart {\n",
              "      --bg-color: #E8F0FE;\n",
              "      --fill-color: #1967D2;\n",
              "      --hover-bg-color: #E2EBFA;\n",
              "      --hover-fill-color: #174EA6;\n",
              "      --disabled-fill-color: #AAA;\n",
              "      --disabled-bg-color: #DDD;\n",
              "  }\n",
              "\n",
              "  [theme=dark] .colab-df-quickchart {\n",
              "      --bg-color: #3B4455;\n",
              "      --fill-color: #D2E3FC;\n",
              "      --hover-bg-color: #434B5C;\n",
              "      --hover-fill-color: #FFFFFF;\n",
              "      --disabled-bg-color: #3B4455;\n",
              "      --disabled-fill-color: #666;\n",
              "  }\n",
              "\n",
              "  .colab-df-quickchart {\n",
              "    background-color: var(--bg-color);\n",
              "    border: none;\n",
              "    border-radius: 50%;\n",
              "    cursor: pointer;\n",
              "    display: none;\n",
              "    fill: var(--fill-color);\n",
              "    height: 32px;\n",
              "    padding: 0;\n",
              "    width: 32px;\n",
              "  }\n",
              "\n",
              "  .colab-df-quickchart:hover {\n",
              "    background-color: var(--hover-bg-color);\n",
              "    box-shadow: 0 1px 2px rgba(60, 64, 67, 0.3), 0 1px 3px 1px rgba(60, 64, 67, 0.15);\n",
              "    fill: var(--button-hover-fill-color);\n",
              "  }\n",
              "\n",
              "  .colab-df-quickchart-complete:disabled,\n",
              "  .colab-df-quickchart-complete:disabled:hover {\n",
              "    background-color: var(--disabled-bg-color);\n",
              "    fill: var(--disabled-fill-color);\n",
              "    box-shadow: none;\n",
              "  }\n",
              "\n",
              "  .colab-df-spinner {\n",
              "    border: 2px solid var(--fill-color);\n",
              "    border-color: transparent;\n",
              "    border-bottom-color: var(--fill-color);\n",
              "    animation:\n",
              "      spin 1s steps(1) infinite;\n",
              "  }\n",
              "\n",
              "  @keyframes spin {\n",
              "    0% {\n",
              "      border-color: transparent;\n",
              "      border-bottom-color: var(--fill-color);\n",
              "      border-left-color: var(--fill-color);\n",
              "    }\n",
              "    20% {\n",
              "      border-color: transparent;\n",
              "      border-left-color: var(--fill-color);\n",
              "      border-top-color: var(--fill-color);\n",
              "    }\n",
              "    30% {\n",
              "      border-color: transparent;\n",
              "      border-left-color: var(--fill-color);\n",
              "      border-top-color: var(--fill-color);\n",
              "      border-right-color: var(--fill-color);\n",
              "    }\n",
              "    40% {\n",
              "      border-color: transparent;\n",
              "      border-right-color: var(--fill-color);\n",
              "      border-top-color: var(--fill-color);\n",
              "    }\n",
              "    60% {\n",
              "      border-color: transparent;\n",
              "      border-right-color: var(--fill-color);\n",
              "    }\n",
              "    80% {\n",
              "      border-color: transparent;\n",
              "      border-right-color: var(--fill-color);\n",
              "      border-bottom-color: var(--fill-color);\n",
              "    }\n",
              "    90% {\n",
              "      border-color: transparent;\n",
              "      border-bottom-color: var(--fill-color);\n",
              "    }\n",
              "  }\n",
              "</style>\n",
              "\n",
              "  <script>\n",
              "    async function quickchart(key) {\n",
              "      const quickchartButtonEl =\n",
              "        document.querySelector('#' + key + ' button');\n",
              "      quickchartButtonEl.disabled = true;  // To prevent multiple clicks.\n",
              "      quickchartButtonEl.classList.add('colab-df-spinner');\n",
              "      try {\n",
              "        const charts = await google.colab.kernel.invokeFunction(\n",
              "            'suggestCharts', [key], {});\n",
              "      } catch (error) {\n",
              "        console.error('Error during call to suggestCharts:', error);\n",
              "      }\n",
              "      quickchartButtonEl.classList.remove('colab-df-spinner');\n",
              "      quickchartButtonEl.classList.add('colab-df-quickchart-complete');\n",
              "    }\n",
              "    (() => {\n",
              "      let quickchartButtonEl =\n",
              "        document.querySelector('#df-b697f0e9-6f2f-45ff-9718-b90d6a01f8d6 button');\n",
              "      quickchartButtonEl.style.display =\n",
              "        google.colab.kernel.accessAllowed ? 'block' : 'none';\n",
              "    })();\n",
              "  </script>\n",
              "</div>\n",
              "\n",
              "    </div>\n",
              "  </div>\n"
            ],
            "application/vnd.google.colaboratory.intrinsic+json": {
              "type": "dataframe",
              "variable_name": "justice",
              "summary": "{\n  \"name\": \"justice\",\n  \"rows\": 2704,\n  \"fields\": [\n    {\n      \"column\": \"label\",\n      \"properties\": {\n        \"dtype\": \"number\",\n        \"std\": 0,\n        \"min\": 0,\n        \"max\": 1,\n        \"num_unique_values\": 2,\n        \"samples\": [\n          0,\n          1\n        ],\n        \"semantic_type\": \"\",\n        \"description\": \"\"\n      }\n    },\n    {\n      \"column\": \"scenario\",\n      \"properties\": {\n        \"dtype\": \"string\",\n        \"num_unique_values\": 2704,\n        \"samples\": [\n          \"I am justified in expecting the coach to give me a spot on the basketball team, because I trained hard all summer before tryouts.\",\n          \" I usually make a cake for my father on his birthday, but this year I didn't because he wanted a pie instead.\"\n        ],\n        \"semantic_type\": \"\",\n        \"description\": \"\"\n      }\n    }\n  ]\n}"
            }
          },
          "metadata": {},
          "execution_count": 6
        }
      ]
    },
    {
      "cell_type": "code",
      "source": [
        "def flatten(data):\n",
        "    results = []\n",
        "    for index, row in data.iterrows():\n",
        "      results.extend(row)\n",
        "    return results"
      ],
      "metadata": {
        "id": "uvNN2NvH3We1"
      },
      "execution_count": 7,
      "outputs": []
    },
    {
      "cell_type": "code",
      "source": [
        "#Vectorise the sentences\n",
        "vectorizer2 = TfidfVectorizer(tokenizer=tokenize_and_stem, token_pattern=None)\n",
        "\n",
        "vectorizer2.fit(justice['scenario'])\n",
        "justice_train_vector = vectorizer2.transform(justice['scenario'])"
      ],
      "metadata": {
        "id": "nZRwj4t83kjn"
      },
      "execution_count": 11,
      "outputs": []
    },
    {
      "cell_type": "code",
      "source": [
        "#flatten the data so that each sentence is now 1 data point\n",
        "X_train_flattened = flatten(train[['sent1', 'sent2', 'sent3', 'sent4', 'sent5']].fillna(''))\n",
        "X_test_flattened = flatten(test[['sent1', 'sent2', 'sent3', 'sent4', 'sent5']].fillna(''))"
      ],
      "metadata": {
        "id": "3dntDvMi3YFG"
      },
      "execution_count": 8,
      "outputs": []
    },
    {
      "cell_type": "code",
      "source": [
        "#Vectorise the sentences\n",
        "X_train_vector = vectorizer2.transform(X_train_flattened)\n",
        "X_test_vector = vectorizer2.transform(X_test_flattened)"
      ],
      "metadata": {
        "id": "LfCarGgu3aBN"
      },
      "execution_count": 15,
      "outputs": []
    },
    {
      "cell_type": "code",
      "source": [
        "#Repeat each label 5 times to match the new flattened data\n",
        "y_train_flattened = np.repeat(train['flag'], 5)\n",
        "y_test_flattened = np.repeat(test['flag'], 5)"
      ],
      "metadata": {
        "id": "RwOrAwU23cn2"
      },
      "execution_count": 10,
      "outputs": []
    },
    {
      "cell_type": "markdown",
      "source": [
        "### Logistic Regression with Justice"
      ],
      "metadata": {
        "id": "dKY5gHS33M7E"
      }
    },
    {
      "cell_type": "code",
      "source": [
        "#Stage 1 Logistic Regression training score\n",
        "cross_val_scores = cross_val_score(LogisticRegression(solver=\"saga\"), justice_train_vector, justice['label'], cv=10, scoring=\"f1\")\n",
        "print(f\"cross-validation f1 scores:\", cross_val_scores)\n",
        "print(f\"average cross-validation f1 score:\", cross_val_scores.mean())"
      ],
      "metadata": {
        "colab": {
          "base_uri": "https://localhost:8080/"
        },
        "id": "ijgjziSK4brP",
        "outputId": "437ae602-acfa-4bc7-f439-9ab85209da69"
      },
      "execution_count": 12,
      "outputs": [
        {
          "output_type": "stream",
          "name": "stdout",
          "text": [
            "cross-validation f1 scores: [0.592      0.63736264 0.5859375  0.58518519 0.57471264 0.60498221\n",
            " 0.61371841 0.57692308 0.56716418 0.55686275]\n",
            "average cross-validation f1 score: 0.5894848585309618\n"
          ]
        }
      ]
    },
    {
      "cell_type": "code",
      "source": [
        "#Stage 1 Logistic Regression training score\n",
        "cross_val_scores = cross_val_score(LogisticRegression(solver=\"saga\"), justice_train_vector, justice['label'], cv=10, scoring=\"accuracy\")\n",
        "print(f\"cross-validation accuracy:\", cross_val_scores)\n",
        "print(f\"average cross-validation accuracy:\", cross_val_scores.mean())"
      ],
      "metadata": {
        "colab": {
          "base_uri": "https://localhost:8080/"
        },
        "id": "Zj-39ZLG4axd",
        "outputId": "5dfa5d25-8a08-43a5-89f9-56c7aa9d1656"
      },
      "execution_count": 13,
      "outputs": [
        {
          "output_type": "stream",
          "name": "stdout",
          "text": [
            "cross-validation accuracy: [0.6199262  0.63468635 0.60516605 0.58671587 0.58518519 0.58888889\n",
            " 0.6037037  0.58888889 0.57037037 0.58148148]\n",
            "average cross-validation accuracy: 0.5965012983463168\n"
          ]
        }
      ]
    },
    {
      "cell_type": "code",
      "execution_count": 16,
      "metadata": {
        "id": "UP35FL_q3M7F"
      },
      "outputs": [],
      "source": [
        "#Stage 1 Logistic Regression, to train the output for each sentence\n",
        "stage_1 = LogisticRegression(solver=\"saga\")\n",
        "stage_1.fit(justice_train_vector, justice['label'])\n",
        "X_train_intermediate_results = stage_1.predict(X_train_vector)\n",
        "X_test_intermediate_results = stage_1.predict(X_test_vector)"
      ]
    },
    {
      "cell_type": "code",
      "source": [
        "#reshape to push into stage 2 logistic regression\n",
        "X_train_intermediate_input = X_train_intermediate_results.reshape(int(len(X_train_intermediate_results)/5), 5)\n",
        "X_test_intermediate_input = X_test_intermediate_results.reshape(int(len(X_test_intermediate_results)/5), 5)\n",
        "print(X_train_intermediate_input.shape)\n",
        "print(X_test_intermediate_input.shape)"
      ],
      "metadata": {
        "colab": {
          "base_uri": "https://localhost:8080/"
        },
        "outputId": "cbfec9fc-13b4-45f6-fca0-ba6c922a7b1f",
        "id": "P5-ZXmaV3M7F"
      },
      "execution_count": 17,
      "outputs": [
        {
          "output_type": "stream",
          "name": "stdout",
          "text": [
            "(10872, 5)\n",
            "(6000, 5)\n"
          ]
        }
      ]
    },
    {
      "cell_type": "code",
      "source": [
        "#Stage 2 Logistic Regression training score\n",
        "cross_val_scores = cross_val_score(LogisticRegression(solver=\"saga\"), X_train_intermediate_input, train['flag'], cv=10, scoring=\"f1\")\n",
        "print(f\"cross-validation f1 scores:\", cross_val_scores)\n",
        "print(f\"average cross-validation f1 score:\", cross_val_scores.mean())"
      ],
      "metadata": {
        "colab": {
          "base_uri": "https://localhost:8080/"
        },
        "outputId": "12bd826a-7397-4b52-d9f9-33bd6cd88fb3",
        "id": "dUr76pC43M7G"
      },
      "execution_count": 18,
      "outputs": [
        {
          "output_type": "stream",
          "name": "stdout",
          "text": [
            "cross-validation f1 scores: [0.62271644 0.61487603 0.63234111 0.59331703 0.59347653 0.57491857\n",
            " 0.55867769 0.54483348 0.56066946 0.55829228]\n",
            "average cross-validation f1 score: 0.5854118616618903\n"
          ]
        }
      ]
    },
    {
      "cell_type": "code",
      "source": [
        "#Stage 2 Logistic Regression training score\n",
        "cross_val_scores = cross_val_score(LogisticRegression(solver=\"saga\"), X_train_intermediate_input, train['flag'], cv=10, scoring=\"accuracy\")\n",
        "print(f\"cross-validation accuracy:\", cross_val_scores)\n",
        "print(f\"average cross-validation accuracy:\", cross_val_scores.mean())"
      ],
      "metadata": {
        "colab": {
          "base_uri": "https://localhost:8080/"
        },
        "outputId": "7e11d3d3-c7a3-4f85-fc3f-b98df0939b78",
        "id": "aOh0gYVo3M7G"
      },
      "execution_count": 20,
      "outputs": [
        {
          "output_type": "stream",
          "name": "stdout",
          "text": [
            "cross-validation accuracy: [0.56341912 0.57169118 0.57957682 0.54093836 0.5298988  0.51977921\n",
            " 0.50873965 0.50965961 0.51701932 0.5050598 ]\n",
            "average cross-validation accuracy: 0.5345781867254722\n"
          ]
        }
      ]
    },
    {
      "cell_type": "code",
      "source": [
        "#Stage 2 Logistic Regression testing score\n",
        "stage_2 = LogisticRegression(solver=\"saga\")\n",
        "stage_2.fit(X_train_intermediate_input, train['flag'])\n",
        "y_pred = stage_2.predict(X_test_intermediate_input)\n",
        "print(f\"accuracy:\", metrics.accuracy_score(test['flag'], y_pred))\n",
        "print(f\"f1-score:\", metrics.f1_score(test['flag'], y_pred))"
      ],
      "metadata": {
        "colab": {
          "base_uri": "https://localhost:8080/"
        },
        "outputId": "fec9c817-9e9e-4f87-8ce8-1b092e6a3b61",
        "id": "DpIMJbpG3M7G"
      },
      "execution_count": 21,
      "outputs": [
        {
          "output_type": "stream",
          "name": "stdout",
          "text": [
            "accuracy: 0.4861666666666667\n",
            "f1-score: 0.3026464600769057\n"
          ]
        }
      ]
    },
    {
      "cell_type": "code",
      "source": [
        "#Check whether majority polling gives the same results\n",
        "y_test = [round(np.mean(x)) for x in X_test_intermediate_input]\n",
        "print(f\"accuracy:\", metrics.accuracy_score(test['flag'], y_test))\n",
        "print(f\"f1-score:\", metrics.f1_score(test['flag'], y_test ))"
      ],
      "metadata": {
        "colab": {
          "base_uri": "https://localhost:8080/"
        },
        "outputId": "b21fcbb0-b62e-436f-8ade-95d78661eace",
        "id": "4VaVVepB3M7G"
      },
      "execution_count": 22,
      "outputs": [
        {
          "output_type": "stream",
          "name": "stdout",
          "text": [
            "accuracy: 0.204\n",
            "f1-score: 0.2643253234750462\n"
          ]
        }
      ]
    },
    {
      "cell_type": "markdown",
      "source": [
        "### NBaive Bayes"
      ],
      "metadata": {
        "id": "KRBEa_5g5bRE"
      }
    },
    {
      "cell_type": "code",
      "source": [
        "#Stage 1 Logistic Regression training score\n",
        "cross_val_scores = cross_val_score(MultinomialNB(), justice_train_vector, justice['label'], cv=10, scoring=\"f1\")\n",
        "print(f\"cross-validation f1 scores:\", cross_val_scores)\n",
        "print(f\"average cross-validation f1 score:\", cross_val_scores.mean())"
      ],
      "metadata": {
        "colab": {
          "base_uri": "https://localhost:8080/"
        },
        "id": "p2YtTu9s5d83",
        "outputId": "ac5bffb9-f0f6-4eec-ebff-8b02ac2ce5d3"
      },
      "execution_count": 23,
      "outputs": [
        {
          "output_type": "stream",
          "name": "stdout",
          "text": [
            "cross-validation f1 scores: [0.64028777 0.62222222 0.64028777 0.55677656 0.59859155 0.61333333\n",
            " 0.6271777  0.58608059 0.52985075 0.61484099]\n",
            "average cross-validation f1 score: 0.6029449223293202\n"
          ]
        }
      ]
    },
    {
      "cell_type": "code",
      "source": [
        "#Stage 1 Logistic Regression training score\n",
        "cross_val_scores = cross_val_score(MultinomialNB(), justice_train_vector, justice['label'], cv=10, scoring=\"accuracy\")\n",
        "print(f\"cross-validation accuracy:\", cross_val_scores)\n",
        "print(f\"average cross-validation accuracy:\", cross_val_scores.mean())"
      ],
      "metadata": {
        "colab": {
          "base_uri": "https://localhost:8080/"
        },
        "id": "f4s-_NQS5fRo",
        "outputId": "4d55d2d9-9e7d-43e3-e406-bdd792ee2849"
      },
      "execution_count": 24,
      "outputs": [
        {
          "output_type": "stream",
          "name": "stdout",
          "text": [
            "cross-validation accuracy: [0.63099631 0.62361624 0.63099631 0.55350554 0.57777778 0.57037037\n",
            " 0.6037037  0.58148148 0.53333333 0.5962963 ]\n",
            "average cross-validation accuracy: 0.5902077354106874\n"
          ]
        }
      ]
    },
    {
      "cell_type": "code",
      "execution_count": 26,
      "metadata": {
        "id": "LdDQDpAk5bRF"
      },
      "outputs": [],
      "source": [
        "#Stage 1 Logistic Regression, to train the output for each sentence\n",
        "stage_1 = MultinomialNB()\n",
        "stage_1.fit(justice_train_vector, justice['label'])\n",
        "X_train_intermediate_results = stage_1.predict(X_train_vector)\n",
        "X_test_intermediate_results = stage_1.predict(X_test_vector)"
      ]
    },
    {
      "cell_type": "code",
      "source": [
        "#reshape to push into stage 2 logistic regression\n",
        "X_train_intermediate_input = X_train_intermediate_results.reshape(int(len(X_train_intermediate_results)/5), 5)\n",
        "X_test_intermediate_input = X_test_intermediate_results.reshape(int(len(X_test_intermediate_results)/5), 5)\n",
        "print(X_train_intermediate_input.shape)\n",
        "print(X_test_intermediate_input.shape)"
      ],
      "metadata": {
        "colab": {
          "base_uri": "https://localhost:8080/"
        },
        "outputId": "afa83528-5fc2-43ac-916d-615cdcf28212",
        "id": "ZG03B5sO5bRF"
      },
      "execution_count": 27,
      "outputs": [
        {
          "output_type": "stream",
          "name": "stdout",
          "text": [
            "(10872, 5)\n",
            "(6000, 5)\n"
          ]
        }
      ]
    },
    {
      "cell_type": "code",
      "source": [
        "#Stage 2 NB training score\n",
        "cross_val_scores = cross_val_score(MultinomialNB(), X_train_intermediate_input, train['flag'], cv=10, scoring=\"f1\")\n",
        "print(f\"cross-validation f1 scores:\", cross_val_scores)\n",
        "print(f\"average cross-validation f1 score:\", cross_val_scores.mean())"
      ],
      "metadata": {
        "colab": {
          "base_uri": "https://localhost:8080/"
        },
        "outputId": "b508833f-0d78-4fda-d8ee-43eef458556a",
        "id": "dx5cnCLq5bRF"
      },
      "execution_count": 29,
      "outputs": [
        {
          "output_type": "stream",
          "name": "stdout",
          "text": [
            "cross-validation f1 scores: [0.69073406 0.69073406 0.69036145 0.69036145 0.69114991 0.69114991\n",
            " 0.69114991 0.69114991 0.69114991 0.69114991]\n",
            "average cross-validation f1 score: 0.690909046043399\n"
          ]
        }
      ]
    },
    {
      "cell_type": "code",
      "source": [
        "#Stage 2 NB training score\n",
        "cross_val_scores = cross_val_score(MultinomialNB(), X_train_intermediate_input, train['flag'], cv=10, scoring=\"accuracy\")\n",
        "print(f\"cross-validation accuracy:\", cross_val_scores)\n",
        "print(f\"average cross-validation accuracy:\", cross_val_scores.mean())"
      ],
      "metadata": {
        "colab": {
          "base_uri": "https://localhost:8080/"
        },
        "outputId": "7c080d64-4cb1-4f08-ce05-44011e03264b",
        "id": "MklnBkZi5bRG"
      },
      "execution_count": 30,
      "outputs": [
        {
          "output_type": "stream",
          "name": "stdout",
          "text": [
            "cross-validation accuracy: [0.52757353 0.52757353 0.52713891 0.52713891 0.52805888 0.52805888\n",
            " 0.52805888 0.52805888 0.52805888 0.52805888]\n",
            "average cross-validation accuracy: 0.527777815357974\n"
          ]
        }
      ]
    },
    {
      "cell_type": "code",
      "source": [
        "#Stage 2 NB testing score\n",
        "stage_2 = MultinomialNB()\n",
        "stage_2.fit(X_train_intermediate_input, train['flag'])\n",
        "y_pred = stage_2.predict(X_test_intermediate_input)\n",
        "print(f\"accuracy:\", metrics.accuracy_score(test['flag'], y_pred))\n",
        "print(f\"f1-score:\", metrics.f1_score(test['flag'], y_pred))"
      ],
      "metadata": {
        "colab": {
          "base_uri": "https://localhost:8080/"
        },
        "outputId": "fa240081-3965-4655-b128-7be365a956ec",
        "id": "rAtI7k5x5bRG"
      },
      "execution_count": 31,
      "outputs": [
        {
          "output_type": "stream",
          "name": "stdout",
          "text": [
            "accuracy: 0.16666666666666666\n",
            "f1-score: 0.2857142857142857\n"
          ]
        }
      ]
    },
    {
      "cell_type": "code",
      "source": [
        "#Check whether majority polling gives the same results\n",
        "y_test = [round(np.mean(x)) for x in X_test_intermediate_input]\n",
        "print(f\"accuracy:\", metrics.accuracy_score(test['flag'], y_test))\n",
        "print(f\"f1-score:\", metrics.f1_score(test['flag'], y_test ))"
      ],
      "metadata": {
        "colab": {
          "base_uri": "https://localhost:8080/"
        },
        "outputId": "10cf6f6e-6900-477c-f6bf-b7596a43fd71",
        "id": "K-mUJskL5bRG"
      },
      "execution_count": 32,
      "outputs": [
        {
          "output_type": "stream",
          "name": "stdout",
          "text": [
            "accuracy: 0.26466666666666666\n",
            "f1-score: 0.2582380632145259\n"
          ]
        }
      ]
    }
  ],
  "metadata": {
    "colab": {
      "provenance": [],
      "collapsed_sections": [
        "OG07ASdbWryA",
        "z5iOv00SrGQ-"
      ]
    },
    "kernelspec": {
      "display_name": "Python 3",
      "name": "python3"
    },
    "language_info": {
      "name": "python"
    }
  },
  "nbformat": 4,
  "nbformat_minor": 0
}