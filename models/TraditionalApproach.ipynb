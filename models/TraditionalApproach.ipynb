{
 "cells": [
  {
   "cell_type": "code",
   "execution_count": 113,
   "id": "f06f6130-3a48-4705-897a-455642f59dbb",
   "metadata": {},
   "outputs": [],
   "source": [
    "from sklearn.linear_model import LogisticRegression\n",
    "from sklearn.naive_bayes import BernoulliNB\n",
    "from sklearn.neighbors import KNeighborsClassifier\n",
    "from sklearn.feature_extraction.text import CountVectorizer, TfidfVectorizer\n",
    "from sklearn.model_selection import train_test_split, cross_val_score, GridSearchCV, StratifiedKFold\n",
    "from sklearn import metrics\n",
    "from sklearn.pipeline import Pipeline\n",
    "from sklearn.preprocessing import LabelEncoder\n",
    "from sklearn.model_selection import StratifiedKFold\n",
    "from sklearn.metrics import accuracy_score, precision_score, recall_score, f1_score, confusion_matrix\n",
    "from sklearn.base import BaseEstimator, TransformerMixin\n",
    "from sklearn.utils import resample\n",
    "from scipy.sparse import hstack, csr_matrix\n",
    "from sklearn.preprocessing import Normalizer\n",
    "\n",
    "from imblearn.pipeline import make_pipeline as make_imblearn_pipeline\n",
    "from imblearn.over_sampling import SMOTE\n",
    "\n",
    "import numpy as np\n",
    "import pandas as pd\n",
    "import re\n",
    "import string\n",
    "import moralstrength #pls install using pip install moralstrength\n",
    "import networkx as nx\n"
   ]
  },
  {
   "cell_type": "code",
   "execution_count": 70,
   "id": "c51078b8-916a-43fe-8896-2d654498fc6a",
   "metadata": {},
   "outputs": [
    {
     "name": "stderr",
     "output_type": "stream",
     "text": [
      "[nltk_data] Downloading package punkt to\n",
      "[nltk_data]     /Users/huikhangkiat/nltk_data...\n",
      "[nltk_data]   Package punkt is already up-to-date!\n"
     ]
    }
   ],
   "source": [
    "import nltk\n",
    "nltk.download('punkt')\n",
    "from nltk.stem.porter import PorterStemmer\n",
    "from nltk.corpus import stopwords\n",
    "from nltk.stem import WordNetLemmatizer\n",
    "from nltk import word_tokenize, sent_tokenize\n",
    "from nltk import pos_tag\n",
    "from nltk.corpus import stopwords\n",
    "from nltk.tokenize import TweetTokenizer\n",
    "from nltk.cluster.util import cosine_distance\n",
    "\n",
    "nltk_stopwords = set(stopwords.words('english'))\n",
    "nltk_stopwords.discard('not')  \n",
    "\n",
    "import spacy\n",
    "spacy.prefer_gpu()\n",
    "nlp = spacy.load('en_core_web_sm', disable=[\"parser\", \"ner\"])\n",
    "\n",
    "from tqdm import tqdm"
   ]
  },
  {
   "cell_type": "markdown",
   "id": "748ad792-cd01-47b4-862f-1e1c3a7cf9d3",
   "metadata": {},
   "source": [
    "### Load Data"
   ]
  },
  {
   "cell_type": "code",
   "execution_count": 24,
   "id": "ebdb7597-45e4-4372-8e41-45b7eaa49382",
   "metadata": {},
   "outputs": [],
   "source": [
    "df_train = pd.read_csv(\"../data/df_train.csv\")\n",
    "df_test = pd.read_csv(\"../data/df_test.csv\")\n",
    "\n",
    "#indices for 10-fold cross-validation based on training data\n",
    "splits_df = pd.read_csv(\"../data/cv_splits.csv\")\n"
   ]
  },
  {
   "cell_type": "code",
   "execution_count": 28,
   "id": "f75402a2-37c4-4f42-a1d2-2934077a1f8b",
   "metadata": {},
   "outputs": [
    {
     "name": "stdout",
     "output_type": "stream",
     "text": [
      "Number of training samples: 2852\n",
      "original_index       0\n",
      "content              0\n",
      "label             1426\n",
      "dtype: int64\n",
      "original_index       0\n",
      "content              0\n",
      "label             1426\n",
      "dtype: int64\n",
      "   original_index                                            content  label\n",
      "0            1804  I've been dating (G) for 5 years, and was cons...      1\n",
      "1            6394  Me (36F) and my Bestie (24F) (let’s call her T...      0\n",
      "2            3406  My boyfriend of 5 years (m26) and I (f25) got ...      0\n",
      "3            4471  I was told to come here. My son was married to...      0\n",
      "4            2000  I (45F) only use Reddit for the cats so bear w...      1\n"
     ]
    },
    {
     "data": {
      "image/png": "[encoded data removed]",
      "text/plain": [
       "<Figure size 6000x500 with 1 Axes>"
      ]
     },
     "metadata": {},
     "output_type": "display_data"
    }
   ],
   "source": [
    "print(\"Number of training samples: {}\".format(len(df_train)))\n",
    "kwargs = dict(\n",
    "    startangle = 90,\n",
    "    fontsize   = 13,\n",
    "    figsize    = (60,5),\n",
    "    autopct    = '%1.1f%%',\n",
    "    label      = ''\n",
    ")\n",
    "\n",
    "df_train['label'].value_counts().plot.pie(**kwargs)\n",
    "\n",
    "#Undersampling majority class to balance dataset\n",
    "majority_df = df_train[df_train['label'] == 0]\n",
    "minority_df = df_train[df_train['label'] == 1] \n",
    "downsampled_majority_df = resample(majority_df, replace=False, n_samples=1426)\n",
    "df_train = pd.concat([downsampled_majority_df, minority_df], ignore_index=True)\n",
    "df_train = df_train.sample(frac=1).reset_index(drop=True)\n",
    "\n",
    "\n",
    "print(df_train[df_train == 1].count())\n",
    "print(df_train[df_train == 0].count())\n",
    "print(df_train.head())"
   ]
  },
  {
   "cell_type": "code",
   "execution_count": 5,
   "id": "8e9e0624-ad30-4816-b9e3-28424cf9d5b2",
   "metadata": {},
   "outputs": [
    {
     "name": "stdout",
     "output_type": "stream",
     "text": [
      "Number of test samples: 2385\n"
     ]
    },
    {
     "data": {
      "text/plain": [
       "<Axes: >"
      ]
     },
     "execution_count": 5,
     "metadata": {},
     "output_type": "execute_result"
    },
    {
     "data": {
      "image/png": "[encoded data removed]",
      "text/plain": [
       "<Figure size 6000x500 with 1 Axes>"
      ]
     },
     "metadata": {},
     "output_type": "display_data"
    }
   ],
   "source": [
    "print(\"Number of test samples: {}\".format(len(df_test)))\n",
    "df_test['label'].value_counts().plot.pie(**kwargs)\n"
   ]
  },
  {
   "cell_type": "markdown",
   "id": "0bdc8ab3-3d02-4633-acc0-a4fb0dae1103",
   "metadata": {},
   "source": [
    "## Text Preprocessing"
   ]
  },
  {
   "cell_type": "code",
   "execution_count": 29,
   "id": "c8e36810-5858-4f89-b04f-33ee820487a2",
   "metadata": {},
   "outputs": [],
   "source": [
    "#handling clitics\n",
    "def pre_normalize_sentence(text):\n",
    "    contractions = {\n",
    "        # r'[\\(\\[].*?[\\)\\]]': ' ',  # Remove all words in brackets\n",
    "        r\"(n\\'t)\": \" not\",  # Resolve contraction \"-n't\"\n",
    "        r\"(\\'ve)\": \" have\",  # Resolve contraction \"-'ve\"\n",
    "        r\"(\\'ll)\": \" will\",  # Resolve contraction \"-'ll\"\n",
    "        r\"(\\'s)\": \" is\",  # Resolve contraction \"-'s\"\n",
    "        r\"(\\'m)\": \" am\",  # Resolve contraction \"-'m\"\n",
    "        r\"(\\'d)\": \" would\",  # Resolve contraction \"-'d\"\n",
    "        r\"(\\'re)\": \" are\",  # Resolve contraction \"-'re\"\n",
    "    }\n",
    "    for pattern, replacement in contractions.items():\n",
    "        text = re.sub(pattern, replacement, text)\n",
    "    return text"
   ]
  },
  {
   "cell_type": "code",
   "execution_count": 30,
   "id": "da572298-6338-413e-a55b-809a94814df1",
   "metadata": {},
   "outputs": [],
   "source": [
    "def normalized_token_list(token_list):\n",
    "    for j, token in enumerate(token_list):\n",
    "        text = token\n",
    "        text = text.lower()                                                           # case folding\n",
    "        text = re.sub(r'\\s+', ' ', text)                                              # remove duplicate white space\n",
    "        text = re.sub(r'([.]){2,}', ' ', text)  # Correctly remove ellipses\n",
    "        text = re.sub(r'([\\w.-]+)([,;])([\\w.-]+)', '\\g<1>\\g<2> \\g<3>', text)          # Add missing whitespace after , and ;\n",
    "        text = re.sub(r'\\s+', ' ', text)                                              # remove duplicate white space again\n",
    "        text = text.strip()\n",
    "        token_list[j] = text                                                          # Remove trailing whitespaces\n",
    "    return token_list"
   ]
  },
  {
   "cell_type": "code",
   "execution_count": 31,
   "id": "30106462-fa5e-4534-9a91-e0fabb4d88e9",
   "metadata": {},
   "outputs": [],
   "source": [
    "#stopword and punctuation removal\n",
    "extended_punctuation = string.punctuation + '‘’“”'\n",
    "\n",
    "def remove_stopwords_punctuation(token_list):\n",
    "    return [token for token in token_list if token not in nltk_stopwords and not all(char in extended_punctuation for char in token)]\n",
    "    # return [token for token in token_list if token not in nltk_stopwords and token not in string.punctuation]"
   ]
  },
  {
   "cell_type": "code",
   "execution_count": 32,
   "id": "3b853191-a56e-4825-ab4f-197a5eaf0cee",
   "metadata": {},
   "outputs": [],
   "source": [
    "#Stemming\n",
    "porter_stemmer = PorterStemmer()\n",
    "def stem_tokens(token_list, stemmer=porter_stemmer):\n",
    "    return [stemmer.stem(token) for token in token_list]"
   ]
  },
  {
   "cell_type": "code",
   "execution_count": 33,
   "id": "5a616f05-3889-4293-b3f7-ff583c3fa663",
   "metadata": {},
   "outputs": [],
   "source": [
    "#POS tagging\n",
    "def pos_tagging(token_list):\n",
    "    return pos_tag(token_list)"
   ]
  },
  {
   "cell_type": "code",
   "execution_count": 34,
   "id": "2517859c-d96d-41b2-9c70-82ead168d5fd",
   "metadata": {},
   "outputs": [],
   "source": [
    "#lemmatisation\n",
    "wordnet_lemmatizer = WordNetLemmatizer()\n",
    "def lemma_tokens(pos_tag_list):\n",
    "    lemma_list = []\n",
    "    for token, tag in pos_tag_list:\n",
    "        word_type = 'n' # Default if all fails\n",
    "        tag_simple = tag[0].lower() # Converts, e.g., \"VBD\" to \"v\"\n",
    "        if tag_simple in ['n', 'v', 'r']:\n",
    "            # If the POS tag starts with \"n\",\"v\", or \"r\", we know it's a noun, verb, or adverb\n",
    "            word_type = tag_simple \n",
    "        elif tag_simple in ['j']:\n",
    "            # If the POS tag starts with a \"j\", we know it's an adjective\n",
    "            word_type = 'a' \n",
    "        lemma_list.append(wordnet_lemmatizer.lemmatize(token.lower(), pos=word_type))\n",
    "    return lemma_list"
   ]
  },
  {
   "cell_type": "code",
   "execution_count": 173,
   "id": "23651abb-52fb-4c84-8ef0-afb666e67508",
   "metadata": {},
   "outputs": [],
   "source": [
    "#splitting each post into sentences\n",
    "def read_post(text):\n",
    "    # Tokenize the text into sentences\n",
    "    sentences = sent_tokenize(text)\n",
    "    return sentences\n",
    "\n",
    "def sentence_similarity(sent1, sent2, stopwords=None):\n",
    "    # # Tokenize and remove stopwords\n",
    "    # if stopwords is None:\n",
    "    #     stopwords = []\n",
    "    # sent1 = [word.lower() for word in word_tokenize(sent1) if word.lower() not in stopwords]\n",
    "    # sent2 = [word.lower() for word in word_tokenize(sent2) if word.lower() not in stopwords]\n",
    "\n",
    "    # Create a set of all unique words in both sentences\n",
    "    all_words = list(set(sent1 + sent2))\n",
    "\n",
    "    # Create vectors to represent each sentence\n",
    "    vector1 = [0] * len(all_words)\n",
    "    vector2 = [0] * len(all_words)\n",
    "\n",
    "    # Count word occurrences\n",
    "    for word in sent1:\n",
    "        vector1[all_words.index(word)] += 1\n",
    "\n",
    "    for word in sent2:\n",
    "        vector2[all_words.index(word)] += 1\n",
    "\n",
    "    # Calculate cosine similarity\n",
    "    return 1 - cosine_distance(vector1, vector2)\n",
    "\n",
    "def build_similarity_matrix(sentences, stopwords):\n",
    "    # Create an empty similarity matrix\n",
    "    similarity_matrix = np.zeros((len(sentences), len(sentences)))\n",
    "\n",
    "    # Fill the similarity matrix with cosine similarity scores\n",
    "    for idx1 in range(len(sentences)):\n",
    "        for idx2 in range(len(sentences)):\n",
    "            if idx1 == idx2:\n",
    "                continue\n",
    "            similarity_matrix[idx1][idx2] = sentence_similarity(sentences[idx1], sentences[idx2], stopwords)\n",
    "\n",
    "    return similarity_matrix\n",
    "\n",
    "def generate_summary(text, top_n=5):\n",
    "    # Load English stopwords\n",
    "    stop_words = stopwords.words('english')\n",
    "\n",
    "    # Tokenize the text into sentences\n",
    "    sentences = read_post(text)\n",
    "\n",
    "    # Generate the sentence similarity matrix\n",
    "    sentence_similarity_matrix = build_similarity_matrix(sentences, stop_words)\n",
    "\n",
    "    # Convert the similarity matrix into a graph\n",
    "    sentence_similarity_graph = nx.from_numpy_array(sentence_similarity_matrix)\n",
    "\n",
    "    # Apply the PageRank algorithm to rank the sentences\n",
    "    scores = nx.pagerank(sentence_similarity_graph, max_iter=200)\n",
    "\n",
    "    # Sort the sentences by their scores\n",
    "    ranked_sentences = sorted(((scores[i], s) for i, s in enumerate(sentences)), reverse=True)\n",
    "\n",
    "    # Extract the top sentences as the summary\n",
    "    summary = [sentence for score, sentence in ranked_sentences[:top_n]]\n",
    "\n",
    "    while len(summary) < top_n:\n",
    "      summary.append('')\n",
    "\n",
    "    return summary\n",
    "\n",
    "def split_into_sentences(post_df):\n",
    "    sent1 = []\n",
    "    sent2 = []\n",
    "    sent3 = []\n",
    "    sent4 = []\n",
    "    sent5 = []\n",
    "    index = 0\n",
    "        \n",
    "    for i, content in enumerate(post_df['content']):\n",
    "        array_summary = generate_summary(content)\n",
    "        sent1.append(array_summary[0])\n",
    "        sent2.append(array_summary[1])\n",
    "        sent3.append(array_summary[2])\n",
    "        sent4.append(array_summary[3])\n",
    "        sent5.append(array_summary[4])\n",
    "        index = i\n",
    "    \n",
    "    post_df['sent1'] = sent1\n",
    "    post_df['sent2'] = sent2\n",
    "    post_df['sent3'] = sent3\n",
    "    post_df['sent4'] = sent4\n",
    "    post_df['sent5'] = sent5\n",
    "\n",
    "    # To rearrange the order of sentences as specified (1.1, 1.2, ..., 1.5, then 2.1, ..., 2.5, etc.),\n",
    "    # we can first transpose the DataFrame and then use the same approach to melt it into a single column.\n",
    "    \n",
    "    # Transposing the original DataFrame so that each sentence sequence becomes a row\n",
    "    post_df_transposed = post_df[['sent1', 'sent2', 'sent3', 'sent4', 'sent5']].T\n",
    "    \n",
    "    # Resetting the index since after transposition, the original column names become the index\n",
    "    post_df_transposed.reset_index(drop=True, inplace=True)\n",
    "    \n",
    "    # Melting the transposed DataFrame without considering variable names, just values\n",
    "    df_long_transposed = pd.melt(post_df_transposed, value_name=\"content\")[\"content\"]\n",
    "    \n",
    "    # Converting the Series into a DataFrame\n",
    "    df_ordered = df_long_transposed.to_frame().reset_index(drop=True)\n",
    "    \n",
    "    return df_ordered"
   ]
  },
  {
   "cell_type": "code",
   "execution_count": 174,
   "id": "10bb121e-6690-4831-b176-8127a2aeab84",
   "metadata": {},
   "outputs": [],
   "source": [
    "# Combined preprocessing pipeline\n",
    "# pipeline with nltk + lemmatization\n",
    "def preprocess_pipeline_lemma(sentences):\n",
    "    preprocessed_data = []\n",
    "    \n",
    "    for idx, sentence in enumerate(sentences):\n",
    "        normalized_sentence = pre_normalize_sentence(sentence)\n",
    "        tweet_tokenizer = TweetTokenizer()\n",
    "        tokens = tweet_tokenizer.tokenize(normalized_sentence)\n",
    "        tokens = normalized_token_list(tokens)\n",
    "        tokens = remove_stopwords_punctuation(tokens)\n",
    "        tokens = pos_tagging(tokens)\n",
    "        tokens = lemma_tokens(tokens)\n",
    "        #removing empty records after preprocessing\n",
    "        # if len(tokens) == 0:\n",
    "        #     print(sentences.iloc[idx])\n",
    "        #     continue\n",
    "        preprocessed_data.append(tokens)\n",
    "        # if len(labels) > 0:\n",
    "        #     preprocessed_labels.append(labels.iloc[idx])\n",
    "    return preprocessed_data\n",
    "\n",
    "# pipeline with nltk + stemming\n",
    "def preprocess_pipeline_stem(sentences, stemmer=porter_stemmer):\n",
    "    preprocessed_data = []\n",
    "    # preprocessed_labels = []\n",
    "    for idx, sentence in enumerate(sentences):\n",
    "        normalized_sentence = pre_normalize_sentence(sentence)\n",
    "        tweet_tokenizer = TweetTokenizer()\n",
    "        tokens = tweet_tokenizer.tokenize(normalized_sentence)\n",
    "        tokens = normalized_token_list(tokens)\n",
    "        tokens = remove_stopwords_punctuation(tokens)\n",
    "        tokens = stem_tokens(tokens, stemmer)\n",
    "        #removing empty records after preprocessing\n",
    "        # if len(tokens) == 0:\n",
    "        #     print(sentences.iloc[idx])\n",
    "        #     continue\n",
    "        preprocessed_data.append(tokens)\n",
    "        # if len(labels) > 0:\n",
    "        #     preprocessed_labels.append(labels.iloc[idx])\n",
    "    return preprocessed_data\n",
    "\n",
    "#pipeline using spaCy with lemmatization, stopword and punctuation removal\n",
    "def preprocess_spacy(posts, moral='No'):\n",
    "    preprocessed_data = []\n",
    "    \n",
    "    # Assuming 'sentences' is a pandas Series or similar iterable of strings\n",
    "    for post in posts:\n",
    "        # print(post)\n",
    "        normalized_post = pre_normalize_sentence(post)\n",
    "        cleaned_post = normalized_post.replace('\\n\\n', '').replace('\\n', '')\n",
    "        doc = nlp(cleaned_post)\n",
    "        if moral == 'No':\n",
    "            preprocessed_tokens = [token.lemma_.lower() for token in doc if not token.is_stop and not token.is_punct]\n",
    "        else:\n",
    "            preprocessed_tokens = [token for token in doc if not token.is_stop and not token.is_punct]\n",
    "        preprocessed_data.append(preprocessed_tokens)\n",
    "\n",
    "    return preprocessed_data\n",
    "\n",
    "#pipeline using spaCy with lemmatization, stopword and punctuation removal\n",
    "def preprocess_spacy_moral_sentences(posts, moral='No'):\n",
    "    posts = posts.to_frame(name='content')\n",
    "    posts = split_into_sentences(posts)\n",
    "    preprocessed_data = []\n",
    "    \n",
    "    # Assuming 'sentences' is a pandas Series or similar iterable of strings\n",
    "    for post in posts['content']:\n",
    "        normalized_post = pre_normalize_sentence(post)\n",
    "        cleaned_post = normalized_post.replace('\\n\\n', '').replace('\\n', '')\n",
    "        doc = nlp(cleaned_post)\n",
    "        if moral == 'No':\n",
    "            preprocessed_tokens = [token.lemma_.lower() for token in doc if not token.is_stop and not token.is_punct]\n",
    "        else:\n",
    "            preprocessed_tokens = [token for token in doc if not token.is_stop and not token.is_punct]\n",
    "        preprocessed_data.append(preprocessed_tokens)\n",
    "    return preprocessed_data"
   ]
  },
  {
   "cell_type": "code",
   "execution_count": 40,
   "id": "32e6c9f1-58e2-4e42-8e84-e5d36196fade",
   "metadata": {},
   "outputs": [
    {
     "name": "stdout",
     "output_type": "stream",
     "text": [
      "          care  fairness   loyalty authority    purity\n",
      "0          1.6       NaN       NaN  7.777778       NaN\n",
      "1      5.02381       8.0  7.781746  5.285714       8.0\n",
      "2     8.166667       NaN       8.0    7.4375       NaN\n",
      "3     2.285714       NaN  4.785714      6.58       8.0\n",
      "4          NaN  7.683333       6.5     7.325  2.666667\n",
      "...        ...       ...       ...       ...       ...\n",
      "2847       NaN       NaN  8.291667  7.389881      2.75\n",
      "2848       NaN       NaN       NaN  3.857143       3.0\n",
      "2849       NaN  6.940476  7.541667  6.888889       NaN\n",
      "2850       NaN       NaN       8.0  6.791667  2.714286\n",
      "2851       4.7  5.588889       7.5  7.480072  7.095238\n",
      "\n",
      "[2852 rows x 5 columns]\n"
     ]
    }
   ],
   "source": [
    "preprocessed_spacy_train = preprocess_spacy(df_train['content'], morals='Yes')\n",
    "result = moralstrength.estimate_morals(preprocessed_spacy_train, process=False) # set to false if text is alredy pre-processed\n",
    "\n",
    "\n",
    "print(result)"
   ]
  },
  {
   "cell_type": "code",
   "execution_count": 76,
   "id": "b7a18390-7640-45bc-9686-a2b0f3f574d4",
   "metadata": {},
   "outputs": [
    {
     "name": "stdout",
     "output_type": "stream",
     "text": [
      "<class 'pandas.core.frame.DataFrame'>\n",
      "       care  fairness   loyalty  authority    purity  moral_score\n",
      "0  2.285714       NaN  4.785714   6.580000  8.000000     4.438543\n",
      "1       NaN  7.683333  6.500000   7.325000  2.666667     4.955875\n",
      "2       NaN  7.000000  8.000000   7.294444  6.000000     5.800361\n",
      "3  4.630952  7.200000  7.928571   3.857143  6.428571     5.107690\n",
      "4       NaN  8.166667  8.000000        NaN  7.666667     6.156944\n",
      "0\n",
      "1426\n"
     ]
    }
   ],
   "source": [
    "result['moral_score'] = result.mean(axis=1)\n",
    "print(result.head())\n",
    "print((result['moral_score'].isnull.sum())\n",
    "print(len(result))\n"
   ]
  },
  {
   "cell_type": "markdown",
   "id": "02808b0d-55e1-4b7b-9ad8-5315a57f78a2",
   "metadata": {},
   "source": [
    "## Classificaiton Models"
   ]
  },
  {
   "cell_type": "markdown",
   "id": "01baf7e4-0587-4bd4-8ce1-cfb9861c61a8",
   "metadata": {},
   "source": [
    "### Naive Bayes Classifier (processing whole text, and text split into sentences)"
   ]
  },
  {
   "cell_type": "markdown",
   "id": "3814abea-4a23-421c-aca9-58c77f303d9b",
   "metadata": {},
   "source": [
    "##### Including additional handcrafted feature of moral_score from morality lexicon"
   ]
  },
  {
   "cell_type": "code",
   "execution_count": 175,
   "id": "5da27d18-5797-4ea1-9001-459a61bd3461",
   "metadata": {},
   "outputs": [
    {
     "name": "stdout",
     "output_type": "stream",
     "text": [
      "spacy_tfidf\n"
     ]
    },
    {
     "name": "stderr",
     "output_type": "stream",
     "text": [
      "/Users/huikhangkiat/anaconda3/lib/python3.11/site-packages/sklearn/feature_extraction/text.py:528: UserWarning: The parameter 'token_pattern' will not be used since 'tokenizer' is not None'\n",
      "  warnings.warn(\n",
      "/var/folders/4v/x8qlyms56rsb_h37mylbhlz80000gn/T/ipykernel_81934/947342541.py:66: FutureWarning: Downcasting object dtype arrays on .fillna, .ffill, .bfill is deprecated and will change in a future version. Call result.infer_objects(copy=False) instead. To opt-in to the future behavior, set `pd.set_option('future.no_silent_downcasting', True)`\n",
      "  result_val['moral_score'] = result_val['moral_score'].fillna(-1) #assign moral score of -1 to null values\n",
      "/Users/huikhangkiat/anaconda3/lib/python3.11/site-packages/sklearn/feature_extraction/text.py:528: UserWarning: The parameter 'token_pattern' will not be used since 'tokenizer' is not None'\n",
      "  warnings.warn(\n",
      "/var/folders/4v/x8qlyms56rsb_h37mylbhlz80000gn/T/ipykernel_81934/947342541.py:55: FutureWarning: Downcasting object dtype arrays on .fillna, .ffill, .bfill is deprecated and will change in a future version. Call result.infer_objects(copy=False) instead. To opt-in to the future behavior, set `pd.set_option('future.no_silent_downcasting', True)`\n",
      "  result['moral_score'] = result['moral_score'].fillna(-1)\n"
     ]
    },
    {
     "name": "stdout",
     "output_type": "stream",
     "text": [
      "Results for spacy_tfidf:\n",
      "Average Cross-Validation F1 Score: 0.610\n",
      "\n",
      "spacy_sentences\n"
     ]
    },
    {
     "name": "stderr",
     "output_type": "stream",
     "text": [
      "/Users/huikhangkiat/anaconda3/lib/python3.11/site-packages/sklearn/feature_extraction/text.py:528: UserWarning: The parameter 'token_pattern' will not be used since 'tokenizer' is not None'\n",
      "  warnings.warn(\n",
      "/var/folders/4v/x8qlyms56rsb_h37mylbhlz80000gn/T/ipykernel_81934/947342541.py:55: FutureWarning: Downcasting object dtype arrays on .fillna, .ffill, .bfill is deprecated and will change in a future version. Call result.infer_objects(copy=False) instead. To opt-in to the future behavior, set `pd.set_option('future.no_silent_downcasting', True)`\n",
      "  result['moral_score'] = result['moral_score'].fillna(-1)\n",
      "/var/folders/4v/x8qlyms56rsb_h37mylbhlz80000gn/T/ipykernel_81934/947342541.py:66: FutureWarning: Downcasting object dtype arrays on .fillna, .ffill, .bfill is deprecated and will change in a future version. Call result.infer_objects(copy=False) instead. To opt-in to the future behavior, set `pd.set_option('future.no_silent_downcasting', True)`\n",
      "  result_val['moral_score'] = result_val['moral_score'].fillna(-1) #assign moral score of -1 to null values\n",
      "/Users/huikhangkiat/anaconda3/lib/python3.11/site-packages/sklearn/feature_extraction/text.py:528: UserWarning: The parameter 'token_pattern' will not be used since 'tokenizer' is not None'\n",
      "  warnings.warn(\n",
      "/var/folders/4v/x8qlyms56rsb_h37mylbhlz80000gn/T/ipykernel_81934/947342541.py:55: FutureWarning: Downcasting object dtype arrays on .fillna, .ffill, .bfill is deprecated and will change in a future version. Call result.infer_objects(copy=False) instead. To opt-in to the future behavior, set `pd.set_option('future.no_silent_downcasting', True)`\n",
      "  result['moral_score'] = result['moral_score'].fillna(-1)\n"
     ]
    },
    {
     "name": "stdout",
     "output_type": "stream",
     "text": [
      "Results for spacy_sentences:\n",
      "Average Cross-Validation F1 Score: 0.536\n",
      "\n"
     ]
    },
    {
     "name": "stderr",
     "output_type": "stream",
     "text": [
      "/var/folders/4v/x8qlyms56rsb_h37mylbhlz80000gn/T/ipykernel_81934/947342541.py:66: FutureWarning: Downcasting object dtype arrays on .fillna, .ffill, .bfill is deprecated and will change in a future version. Call result.infer_objects(copy=False) instead. To opt-in to the future behavior, set `pd.set_option('future.no_silent_downcasting', True)`\n",
      "  result_val['moral_score'] = result_val['moral_score'].fillna(-1) #assign moral score of -1 to null values\n"
     ]
    }
   ],
   "source": [
    "X_nb = df_train['content'].copy()\n",
    "y_nb = df_train['label'].copy()\n",
    "\n",
    "# Initialize the StratifiedKFold class\n",
    "n_splits = 2  # Or however many folds you want\n",
    "skf = StratifiedKFold(n_splits=n_splits, shuffle=True, random_state=42)\n",
    "\n",
    "# Define preprocessing and vectorization configurations\n",
    "preprocessing_type = {\n",
    "    # 'lemmatization_tfidf': (preprocess_pipeline_lemma, TfidfVectorizer(tokenizer=lambda x:x, preprocessor=lambda x:x, sublinear_tf=True)),\n",
    "    # 'stemming_tfidf': (preprocess_pipeline_stem, TfidfVectorizer(tokenizer=lambda x:x, preprocessor=lambda x:x, sublinear_tf=True,)),\n",
    "    # 'vanilla_tfidf': (None, TfidfVectorizer(ngram_range=(1,1), sublinear_tf=True)),\n",
    "    'spacy_tfidf': (preprocess_spacy, TfidfVectorizer(tokenizer=lambda x:x, preprocessor=lambda x:x, sublinear_tf=True,)),\n",
    "    # 'lemmatization_bow': (preprocess_pipeline_lemma, CountVectorizer(tokenizer=lambda x:x, preprocessor=lambda x: x)),\n",
    "    # 'stemming_bow': (preprocess_pipeline_stem, CountVectorizer(tokenizer=lambda x:x, preprocessor=lambda x: x)),\n",
    "    # 'vanilla_bow': (None, CountVectorizer(ngram_range=(1,1))),\n",
    "    # 'spacy_bow': (preprocess_spacy, CountVectorizer(tokenizer=lambda x:x, preprocessor=lambda x: x)),\n",
    "    'spacy_sentences': (preprocess_spacy_moral_sentences, TfidfVectorizer(tokenizer=lambda x:x, preprocessor=lambda x:x, sublinear_tf=True,))\n",
    "\n",
    "}\n",
    "\n",
    "for preprocessor, (preprocess_pipeline, vectorizer) in preprocessing_type.items():\n",
    "    val_f1s = []\n",
    "    print(preprocessor)\n",
    "    for train_index, test_index in skf.split(X_nb, y_nb):\n",
    "        X_train_nb, X_val_nb = X_nb[train_index], X_nb[test_index]\n",
    "        y_train_nb, y_val_nb = y_nb[train_index], y_nb[test_index]\n",
    "        \n",
    "        # Apply preprocessing if specified\n",
    "        if preprocess_pipeline:\n",
    "            X_train_nb_preprocessed = preprocess_pipeline(X_train_nb)\n",
    "            X_val_nb_preprocessed = preprocess_pipeline(X_val_nb)\n",
    "            # print(X_train_nb_preprocessed[0:10])\n",
    "        # Vectorize data\n",
    "        X_train_nb_vec = vectorizer.fit_transform(X_train_nb_preprocessed)\n",
    "        X_val_nb_vec = vectorizer.transform(X_val_nb_preprocessed)\n",
    "        # print(y_train_nb.shape)\n",
    "        # print(y_train_nb[0:10])\n",
    "\n",
    "        if preprocess_pipeline == preprocess_spacy_moral_sentences:\n",
    "            y_train_nb = np.repeat(y_train_nb, 5)\n",
    "            y_val_nb = np.repeat(y_val_nb, 5)\n",
    "            # print(y_train_nb.shape)\n",
    "            # print(y_train_nb[0:10])\n",
    "        \n",
    "        \n",
    "        # # Add morality score and append it to X_train_nb_vec and X_test_nb_vec\n",
    "        # X_train_nb = X_train_nb.to_frame()\n",
    "        # X_test_nb = X_test_nb.to_frame()\n",
    "\n",
    "        # print(type(X_train_nb_vec))\n",
    "        preprocessed_spacy_train = preprocess_pipeline(X_train_nb, moral='Yes')\n",
    "        result = moralstrength.estimate_morals(preprocessed_spacy_train, process=False) # set to false if text is alredy pre-processed\n",
    "        result['moral_score'] = result.mean(axis=1)/10 #normalize score to 0 to 1\n",
    "        result['moral_score'] = result['moral_score'].fillna(-1)\n",
    "        result_moral_matrix = csr_matrix((result['moral_score']).values.reshape(-1, 1)) # Reshape if necessary\n",
    "        X_train_nb_vec = hstack([X_train_nb_vec, result_moral_matrix])\n",
    "\n",
    "        # print(X_train_nb_vec.shape)\n",
    "        # print(X_train_nb_vec[0:10])\n",
    "        \n",
    "        preprocessed_spacy_val = preprocess_pipeline(X_val_nb, moral='Yes')\n",
    "        result_val = moralstrength.estimate_morals(preprocessed_spacy_val, process=False) # set to false if text is alredy pre-processed\n",
    "        #normalizing moral score (scale of 0-10, normalized to 0-1)\n",
    "        result_val['moral_score'] = result_val.mean(axis=1)/10 #normalize score to 0 to 1\n",
    "        result_val['moral_score'] = result_val['moral_score'].fillna(-1) #assign moral score of -1 to null values\n",
    "        result_moral_matrix_val = csr_matrix((result_val['moral_score']).values.reshape(-1, 1))\n",
    "        X_val_nb_vec = hstack([X_val_nb_vec, result_moral_matrix_val])\n",
    "\n",
    "        # # Dropping rows with null value for moral score\n",
    "        keep_indices_train = result[result['moral_score'] != -1].index\n",
    "        keep_indices_val = result_val[result_val['moral_score'] != -1].index\n",
    "        # Filter the stacked matrices to keep only the desired rows\n",
    "        X_train_nb_vec = X_train_nb_vec[keep_indices_train, :]\n",
    "        X_val_nb_vec = X_val_nb_vec[keep_indices_val, :]\n",
    "        y_train_nb = y_train_nb.iloc[keep_indices_train]\n",
    "        y_val_nb = y_val_nb.iloc[keep_indices_val]\n",
    "\n",
    "        # print(X_train_nb_vec.shape)\n",
    "        # print(X_train_nb_vec[0:10])\n",
    "        # print(y_train_nb.shape)\n",
    "        # print(y_train_nb[0:10])\n",
    "        # # Normalize the training and validation vectors\n",
    "        # normalizer = Normalizer()\n",
    "        # X_train_nb_vec_normalized = normalizer.fit_transform(X_train_nb_vec)\n",
    "        # X_val_nb_vec_normalized = normalizer.transform(X_val_nb_vec)\n",
    "\n",
    "        # print(X_train_nb_vec_normalized[0])\n",
    "\n",
    "        # Initialize the Bernoulli Naive Bayes model\n",
    "        model = BernoulliNB()\n",
    "    \n",
    "        # Fit the model\n",
    "        model.fit(X_train_nb_vec, y_train_nb)\n",
    "    \n",
    "        # Predict on the test set\n",
    "        y_pred_nb = model.predict(X_val_nb_vec)\n",
    "        \n",
    "        val_f1s.append(f1_score(y_val_nb, y_pred_nb))\n",
    "\n",
    "    # Calculate and print the average F1 score across all validation folds\n",
    "    print(f\"Results for {preprocessor}:\")\n",
    "    print(f\"Average Cross-Validation F1 Score: {np.mean(val_f1s):.3f}\\n\")"
   ]
  },
  {
   "cell_type": "markdown",
   "id": "e253ddcf-3910-4088-b605-979792fff1dd",
   "metadata": {},
   "source": [
    "##### No additional handcrafted features"
   ]
  },
  {
   "cell_type": "code",
   "execution_count": 178,
   "id": "bba85434-de07-487d-a1fe-ffbafbd8c835",
   "metadata": {},
   "outputs": [
    {
     "name": "stdout",
     "output_type": "stream",
     "text": [
      "spacy_tfidf\n"
     ]
    },
    {
     "name": "stderr",
     "output_type": "stream",
     "text": [
      "/Users/huikhangkiat/anaconda3/lib/python3.11/site-packages/sklearn/feature_extraction/text.py:528: UserWarning: The parameter 'token_pattern' will not be used since 'tokenizer' is not None'\n",
      "  warnings.warn(\n",
      "/Users/huikhangkiat/anaconda3/lib/python3.11/site-packages/sklearn/feature_extraction/text.py:528: UserWarning: The parameter 'token_pattern' will not be used since 'tokenizer' is not None'\n",
      "  warnings.warn(\n"
     ]
    },
    {
     "name": "stdout",
     "output_type": "stream",
     "text": [
      "Results for spacy_tfidf:\n",
      "Average Cross-Validation F1 Score: 0.612\n",
      "\n",
      "spacy_sentences\n"
     ]
    },
    {
     "name": "stderr",
     "output_type": "stream",
     "text": [
      "/Users/huikhangkiat/anaconda3/lib/python3.11/site-packages/sklearn/feature_extraction/text.py:528: UserWarning: The parameter 'token_pattern' will not be used since 'tokenizer' is not None'\n",
      "  warnings.warn(\n"
     ]
    },
    {
     "name": "stdout",
     "output_type": "stream",
     "text": [
      "Results for spacy_sentences:\n",
      "Average Cross-Validation F1 Score: 0.533\n",
      "\n"
     ]
    },
    {
     "name": "stderr",
     "output_type": "stream",
     "text": [
      "/Users/huikhangkiat/anaconda3/lib/python3.11/site-packages/sklearn/feature_extraction/text.py:528: UserWarning: The parameter 'token_pattern' will not be used since 'tokenizer' is not None'\n",
      "  warnings.warn(\n"
     ]
    }
   ],
   "source": [
    "X_nb = df_train['content'].copy()\n",
    "y_nb = df_train['label'].copy()\n",
    "\n",
    "# Initialize the StratifiedKFold class\n",
    "n_splits = 2  # Or however many folds you want\n",
    "skf = StratifiedKFold(n_splits=n_splits, shuffle=True, random_state=42)\n",
    "\n",
    "# Define preprocessing and vectorization configurations\n",
    "preprocessing_type = {\n",
    "    # 'lemmatization_tfidf': (preprocess_pipeline_lemma, TfidfVectorizer(tokenizer=lambda x:x, preprocessor=lambda x:x, sublinear_tf=True)),\n",
    "    # 'stemming_tfidf': (preprocess_pipeline_stem, TfidfVectorizer(tokenizer=lambda x:x, preprocessor=lambda x:x, sublinear_tf=True,)),\n",
    "    # 'vanilla_tfidf': (None, TfidfVectorizer(ngram_range=(1,1), sublinear_tf=True)),\n",
    "    'spacy_tfidf': (preprocess_spacy, TfidfVectorizer(tokenizer=lambda x:x, preprocessor=lambda x:x, sublinear_tf=True,)),\n",
    "    # 'lemmatization_bow': (preprocess_pipeline_lemma, CountVectorizer(tokenizer=lambda x:x, preprocessor=lambda x: x)),\n",
    "    # 'stemming_bow': (preprocess_pipeline_stem, CountVectorizer(tokenizer=lambda x:x, preprocessor=lambda x: x)),\n",
    "    # 'vanilla_bow': (None, CountVectorizer(ngram_range=(1,1))),\n",
    "    # 'spacy_bow': (preprocess_spacy, CountVectorizer(tokenizer=lambda x:x, preprocessor=lambda x: x)),\n",
    "    'spacy_sentences': (preprocess_spacy_moral_sentences, TfidfVectorizer(tokenizer=lambda x:x, preprocessor=lambda x:x, sublinear_tf=True,))\n",
    "\n",
    "}\n",
    "\n",
    "for preprocessor, (preprocess_pipeline, vectorizer) in preprocessing_type.items():\n",
    "    val_f1s = []\n",
    "    print(preprocessor)\n",
    "    for train_index, test_index in skf.split(X_nb, y_nb):\n",
    "        X_train_nb, X_val_nb = X_nb[train_index], X_nb[test_index]\n",
    "        y_train_nb, y_val_nb = y_nb[train_index], y_nb[test_index]\n",
    "        \n",
    "        # Apply preprocessing if specified\n",
    "        if preprocess_pipeline:\n",
    "            X_train_nb_preprocessed = preprocess_pipeline(X_train_nb)\n",
    "            X_val_nb_preprocessed = preprocess_pipeline(X_val_nb)\n",
    "            # print(X_train_nb_preprocessed[0:10])\n",
    "        # Vectorize data\n",
    "        X_train_nb_vec = vectorizer.fit_transform(X_train_nb_preprocessed)\n",
    "        X_val_nb_vec = vectorizer.transform(X_val_nb_preprocessed)\n",
    "        # print(y_train_nb.shape)\n",
    "        # print(y_train_nb[0:10])\n",
    "\n",
    "        if preprocess_pipeline == preprocess_spacy_moral_sentences:\n",
    "            y_train_nb = np.repeat(y_train_nb, 5)\n",
    "            y_val_nb = np.repeat(y_val_nb, 5)\n",
    "            # print(y_train_nb.shape)\n",
    "            # print(y_train_nb[0:10])\n",
    "        \n",
    "        \n",
    "        # # Add morality score and append it to X_train_nb_vec and X_test_nb_vec\n",
    "        # X_train_nb = X_train_nb.to_frame()\n",
    "        # X_test_nb = X_test_nb.to_frame()\n",
    "\n",
    "        # # print(type(X_train_nb_vec))\n",
    "        # preprocessed_spacy_train = preprocess_pipeline(X_train_nb, moral='Yes')\n",
    "        # result = moralstrength.estimate_morals(preprocessed_spacy_train, process=False) # set to false if text is alredy pre-processed\n",
    "        # result['moral_score'] = result.mean(axis=1)/10 #normalize score to 0 to 1\n",
    "        # result['moral_score'] = result['moral_score'].fillna(-1)\n",
    "        # result_moral_matrix = csr_matrix((result['moral_score']).values.reshape(-1, 1)) # Reshape if necessary\n",
    "        # X_train_nb_vec = hstack([X_train_nb_vec, result_moral_matrix])\n",
    "\n",
    "        # print(X_train_nb_vec.shape)\n",
    "        # print(X_train_nb_vec[0:10])\n",
    "        \n",
    "        # preprocessed_spacy_val = preprocess_pipeline(X_val_nb, moral='Yes')\n",
    "        # result_val = moralstrength.estimate_morals(preprocessed_spacy_val, process=False) # set to false if text is alredy pre-processed\n",
    "        # #normalizing moral score (scale of 0-10, normalized to 0-1)\n",
    "        # result_val['moral_score'] = result_val.mean(axis=1)/10 #normalize score to 0 to 1\n",
    "        # result_val['moral_score'] = result_val['moral_score'].fillna(-1) #assign moral score of -1 to null values\n",
    "        # result_moral_matrix_val = csr_matrix((result_val['moral_score']).values.reshape(-1, 1))\n",
    "        # X_val_nb_vec = hstack([X_val_nb_vec, result_moral_matrix_val])\n",
    "\n",
    "        # # # Dropping rows with null value for moral score\n",
    "        # keep_indices_train = result[result['moral_score'] != -1].index\n",
    "        # keep_indices_val = result_val[result_val['moral_score'] != -1].index\n",
    "        # # Filter the stacked matrices to keep only the desired rows\n",
    "        # X_train_nb_vec = X_train_nb_vec[keep_indices_train, :]\n",
    "        # X_val_nb_vec = X_val_nb_vec[keep_indices_val, :]\n",
    "        # y_train_nb = y_train_nb.iloc[keep_indices_train]\n",
    "        # y_val_nb = y_val_nb.iloc[keep_indices_val]\n",
    "\n",
    "        # print(X_train_nb_vec.shape)\n",
    "        # print(X_train_nb_vec[0:10])\n",
    "        # print(y_train_nb.shape)\n",
    "        # print(y_train_nb[0:10])\n",
    "        # # # Normalize the training and validation vectors\n",
    "        # # normalizer = Normalizer()\n",
    "        # # X_train_nb_vec_normalized = normalizer.fit_transform(X_train_nb_vec)\n",
    "        # # X_val_nb_vec_normalized = normalizer.transform(X_val_nb_vec)\n",
    "\n",
    "        # # print(X_train_nb_vec_normalized[0])\n",
    "\n",
    "        # Initialize the Bernoulli Naive Bayes model\n",
    "        model = BernoulliNB()\n",
    "    \n",
    "        # Fit the model\n",
    "        model.fit(X_train_nb_vec, y_train_nb)\n",
    "    \n",
    "        # Predict on the test set\n",
    "        y_pred_nb = model.predict(X_val_nb_vec)\n",
    "        \n",
    "        val_f1s.append(f1_score(y_val_nb, y_pred_nb))\n",
    "\n",
    "    # Calculate and print the average F1 score across all validation folds\n",
    "    print(f\"Results for {preprocessor}:\")\n",
    "    print(f\"Average Cross-Validation F1 Score: {np.mean(val_f1s):.3f}\\n\")"
   ]
  },
  {
   "cell_type": "markdown",
   "id": "97af5df0-70df-4afc-95a5-f2146f9d6732",
   "metadata": {},
   "source": [
    "### Logistic Regression"
   ]
  },
  {
   "cell_type": "markdown",
   "id": "97d06ddc-c8e2-4cb9-865e-57a5406a7f8c",
   "metadata": {},
   "source": [
    "##### With additional handcrafted feature"
   ]
  },
  {
   "cell_type": "code",
   "execution_count": 179,
   "id": "af01e816-ed05-4bd5-96cf-0159497de29f",
   "metadata": {},
   "outputs": [
    {
     "name": "stdout",
     "output_type": "stream",
     "text": [
      "spacy_tfidf\n"
     ]
    },
    {
     "name": "stderr",
     "output_type": "stream",
     "text": [
      "/Users/huikhangkiat/anaconda3/lib/python3.11/site-packages/sklearn/feature_extraction/text.py:528: UserWarning: The parameter 'token_pattern' will not be used since 'tokenizer' is not None'\n",
      "  warnings.warn(\n",
      "/var/folders/4v/x8qlyms56rsb_h37mylbhlz80000gn/T/ipykernel_81934/428183430.py:62: FutureWarning: Downcasting object dtype arrays on .fillna, .ffill, .bfill is deprecated and will change in a future version. Call result.infer_objects(copy=False) instead. To opt-in to the future behavior, set `pd.set_option('future.no_silent_downcasting', True)`\n",
      "  result_val['moral_score'] = result_val['moral_score'].fillna(-1) #assign moral score of -1 to null values\n",
      "/Users/huikhangkiat/anaconda3/lib/python3.11/site-packages/sklearn/feature_extraction/text.py:528: UserWarning: The parameter 'token_pattern' will not be used since 'tokenizer' is not None'\n",
      "  warnings.warn(\n",
      "/var/folders/4v/x8qlyms56rsb_h37mylbhlz80000gn/T/ipykernel_81934/428183430.py:54: FutureWarning: Downcasting object dtype arrays on .fillna, .ffill, .bfill is deprecated and will change in a future version. Call result.infer_objects(copy=False) instead. To opt-in to the future behavior, set `pd.set_option('future.no_silent_downcasting', True)`\n",
      "  result['moral_score'] = result['moral_score'].fillna(-1)\n"
     ]
    },
    {
     "name": "stdout",
     "output_type": "stream",
     "text": [
      "Results for spacy_tfidf:\n",
      "Average Cross-Validation F1 Score: 0.581\n",
      "\n",
      "spacy_sentences\n"
     ]
    },
    {
     "name": "stderr",
     "output_type": "stream",
     "text": [
      "/Users/huikhangkiat/anaconda3/lib/python3.11/site-packages/sklearn/feature_extraction/text.py:528: UserWarning: The parameter 'token_pattern' will not be used since 'tokenizer' is not None'\n",
      "  warnings.warn(\n",
      "/var/folders/4v/x8qlyms56rsb_h37mylbhlz80000gn/T/ipykernel_81934/428183430.py:54: FutureWarning: Downcasting object dtype arrays on .fillna, .ffill, .bfill is deprecated and will change in a future version. Call result.infer_objects(copy=False) instead. To opt-in to the future behavior, set `pd.set_option('future.no_silent_downcasting', True)`\n",
      "  result['moral_score'] = result['moral_score'].fillna(-1)\n",
      "/var/folders/4v/x8qlyms56rsb_h37mylbhlz80000gn/T/ipykernel_81934/428183430.py:62: FutureWarning: Downcasting object dtype arrays on .fillna, .ffill, .bfill is deprecated and will change in a future version. Call result.infer_objects(copy=False) instead. To opt-in to the future behavior, set `pd.set_option('future.no_silent_downcasting', True)`\n",
      "  result_val['moral_score'] = result_val['moral_score'].fillna(-1) #assign moral score of -1 to null values\n",
      "/Users/huikhangkiat/anaconda3/lib/python3.11/site-packages/sklearn/feature_extraction/text.py:528: UserWarning: The parameter 'token_pattern' will not be used since 'tokenizer' is not None'\n",
      "  warnings.warn(\n",
      "/var/folders/4v/x8qlyms56rsb_h37mylbhlz80000gn/T/ipykernel_81934/428183430.py:54: FutureWarning: Downcasting object dtype arrays on .fillna, .ffill, .bfill is deprecated and will change in a future version. Call result.infer_objects(copy=False) instead. To opt-in to the future behavior, set `pd.set_option('future.no_silent_downcasting', True)`\n",
      "  result['moral_score'] = result['moral_score'].fillna(-1)\n"
     ]
    },
    {
     "name": "stdout",
     "output_type": "stream",
     "text": [
      "Results for spacy_sentences:\n",
      "Average Cross-Validation F1 Score: 0.530\n",
      "\n"
     ]
    },
    {
     "name": "stderr",
     "output_type": "stream",
     "text": [
      "/var/folders/4v/x8qlyms56rsb_h37mylbhlz80000gn/T/ipykernel_81934/428183430.py:62: FutureWarning: Downcasting object dtype arrays on .fillna, .ffill, .bfill is deprecated and will change in a future version. Call result.infer_objects(copy=False) instead. To opt-in to the future behavior, set `pd.set_option('future.no_silent_downcasting', True)`\n",
      "  result_val['moral_score'] = result_val['moral_score'].fillna(-1) #assign moral score of -1 to null values\n"
     ]
    }
   ],
   "source": [
    "X_lr = df_train['content'].copy()\n",
    "y_lr = df_train['label'].copy()\n",
    "\n",
    "# Initialize the StratifiedKFold class\n",
    "n_splits = 2  # Or however many folds you want\n",
    "skf = StratifiedKFold(n_splits=n_splits, shuffle=True, random_state=42)\n",
    "\n",
    "# Define preprocessing and vectorization configurations\n",
    "preprocessing_type = {\n",
    "    # 'lemmatization_tfidf': (preprocess_pipeline_lemma, TfidfVectorizer(tokenizer=lambda x:x, preprocessor=lambda x:x, sublinear_tf=True)),\n",
    "    # 'stemming_tfidf': (preprocess_pipeline_stem, TfidfVectorizer(tokenizer=lambda x:x, preprocessor=lambda x:x, sublinear_tf=True,)),\n",
    "    # 'vanilla_tfidf': (None, TfidfVectorizer(ngram_range=(1,1), sublinear_tf=True)),\n",
    "    'spacy_tfidf': (preprocess_spacy, TfidfVectorizer(tokenizer=lambda x:x, preprocessor=lambda x:x, sublinear_tf=True,)),\n",
    "    # 'lemmatization_bow': (preprocess_pipeline_lemma, CountVectorizer(tokenizer=lambda x:x, preprocessor=lambda x: x)),\n",
    "    # 'stemming_bow': (preprocess_pipeline_stem, CountVectorizer(tokenizer=lambda x:x, preprocessor=lambda x: x)),\n",
    "    # 'vanilla_bow': (None, CountVectorizer(ngram_range=(1,1))),\n",
    "    # 'spacy_bow': (preprocess_spacy, CountVectorizer(tokenizer=lambda x:x, preprocessor=lambda x: x)),\n",
    "    'spacy_sentences': (preprocess_spacy_moral_sentences, TfidfVectorizer(tokenizer=lambda x:x, preprocessor=lambda x:x, sublinear_tf=True,))\n",
    "\n",
    "}\n",
    "\n",
    "for preprocessor, (preprocess_pipeline, vectorizer) in preprocessing_type.items():\n",
    "    val_f1s = []\n",
    "    print(preprocessor)\n",
    "    for train_index, test_index in skf.split(X_nb, y_nb):\n",
    "        X_train_nb, X_val_nb = X_nb[train_index], X_nb[test_index]\n",
    "        y_train_nb, y_val_nb = y_nb[train_index], y_nb[test_index]\n",
    "        \n",
    "        # Apply preprocessing if specified\n",
    "        if preprocess_pipeline:\n",
    "            X_train_nb_preprocessed = preprocess_pipeline(X_train_nb)\n",
    "            X_val_nb_preprocessed = preprocess_pipeline(X_val_nb)\n",
    "        # Vectorize data\n",
    "        X_train_nb_vec = vectorizer.fit_transform(X_train_nb_preprocessed)\n",
    "        X_val_nb_vec = vectorizer.transform(X_val_nb_preprocessed)\n",
    "        # print(y_train_nb.shape)\n",
    "        # print(y_train_nb[0:10])\n",
    "\n",
    "        if preprocess_pipeline == preprocess_spacy_moral_sentences:\n",
    "            y_train_nb = np.repeat(y_train_nb, 5)\n",
    "            y_val_nb = np.repeat(y_val_nb, 5)\n",
    "            # print(y_train_nb.shape)\n",
    "            # print(y_train_nb[0:10])\n",
    "        \n",
    "        \n",
    "        # # Add morality score and append it to X_train_nb_vec and X_test_nb_vec\n",
    "        # X_train_nb = X_train_nb.to_frame()\n",
    "        # X_test_nb = X_test_nb.to_frame()\n",
    "\n",
    "        # print(type(X_train_nb_vec))\n",
    "        preprocessed_spacy_train = preprocess_pipeline(X_train_nb, moral='Yes')\n",
    "        result = moralstrength.estimate_morals(preprocessed_spacy_train, process=False) # set to false if text is alredy pre-processed\n",
    "        result['moral_score'] = result.mean(axis=1)/10 #normalize score to 0 to 1\n",
    "        result['moral_score'] = result['moral_score'].fillna(-1)\n",
    "        result_moral_matrix = csr_matrix((result['moral_score']).values.reshape(-1, 1)) # Reshape if necessary\n",
    "        X_train_nb_vec = hstack([X_train_nb_vec, result_moral_matrix])\n",
    "        \n",
    "        preprocessed_spacy_val = preprocess_pipeline(X_val_nb, moral='Yes')\n",
    "        result_val = moralstrength.estimate_morals(preprocessed_spacy_val, process=False) # set to false if text is alredy pre-processed\n",
    "        #normalizing moral score (scale of 0-10, normalized to 0-1)\n",
    "        result_val['moral_score'] = result_val.mean(axis=1)/10 #normalize score to 0 to 1\n",
    "        result_val['moral_score'] = result_val['moral_score'].fillna(-1) #assign moral score of -1 to null values\n",
    "        result_moral_matrix_val = csr_matrix((result_val['moral_score']).values.reshape(-1, 1))\n",
    "        X_val_nb_vec = hstack([X_val_nb_vec, result_moral_matrix_val])\n",
    "\n",
    "        # # Dropping rows with null value for moral score\n",
    "        keep_indices_train = result[result['moral_score'] != -1].index\n",
    "        keep_indices_val = result_val[result_val['moral_score'] != -1].index\n",
    "        # Filter the stacked matrices to keep only the desired rows\n",
    "        X_train_nb_vec = X_train_nb_vec[keep_indices_train, :]\n",
    "        X_val_nb_vec = X_val_nb_vec[keep_indices_val, :]\n",
    "        y_train_nb = y_train_nb.iloc[keep_indices_train]\n",
    "        y_val_nb = y_val_nb.iloc[keep_indices_val]\n",
    "\n",
    "        # print(X_train_nb_vec.shape)\n",
    "        # print(X_train_nb_vec[0:10])\n",
    "        # print(y_train_nb.shape)\n",
    "        # print(y_train_nb[0:10])\n",
    "        # # Normalize the training and validation vectors\n",
    "        # normalizer = Normalizer()\n",
    "        # X_train_nb_vec_normalized = normalizer.fit_transform(X_train_nb_vec)\n",
    "        # X_val_nb_vec_normalized = normalizer.transform(X_val_nb_vec)\n",
    "\n",
    "        # print(X_train_nb_vec_normalized[0])\n",
    "\n",
    "        # Initialize the Bernoulli Naive Bayes model\n",
    "        model = LogisticRegression()\n",
    "    \n",
    "        # Fit the model\n",
    "        model.fit(X_train_nb_vec, y_train_nb)\n",
    "    \n",
    "        # Predict on the test set\n",
    "        y_pred_nb = model.predict(X_val_nb_vec)\n",
    "        \n",
    "        val_f1s.append(f1_score(y_val_nb, y_pred_nb))\n",
    "\n",
    "    # Calculate and print the average F1 score across all validation folds\n",
    "    print(f\"Results for {preprocessor}:\")\n",
    "    print(f\"Average Cross-Validation F1 Score: {np.mean(val_f1s):.3f}\\n\")"
   ]
  },
  {
   "cell_type": "markdown",
   "id": "a5646b28-6ce1-4c30-8fd1-f42e0b80ceba",
   "metadata": {},
   "source": [
    "##### Without additional handcrafted feature"
   ]
  },
  {
   "cell_type": "code",
   "execution_count": 180,
   "id": "01db2db7-2f2e-43be-86b9-6d4d26797d89",
   "metadata": {},
   "outputs": [
    {
     "name": "stdout",
     "output_type": "stream",
     "text": [
      "spacy_tfidf\n"
     ]
    },
    {
     "name": "stderr",
     "output_type": "stream",
     "text": [
      "/Users/huikhangkiat/anaconda3/lib/python3.11/site-packages/sklearn/feature_extraction/text.py:528: UserWarning: The parameter 'token_pattern' will not be used since 'tokenizer' is not None'\n",
      "  warnings.warn(\n",
      "/Users/huikhangkiat/anaconda3/lib/python3.11/site-packages/sklearn/feature_extraction/text.py:528: UserWarning: The parameter 'token_pattern' will not be used since 'tokenizer' is not None'\n",
      "  warnings.warn(\n"
     ]
    },
    {
     "name": "stdout",
     "output_type": "stream",
     "text": [
      "Results for spacy_tfidf:\n",
      "Average Cross-Validation F1 Score: 0.576\n",
      "\n",
      "spacy_sentences\n"
     ]
    },
    {
     "name": "stderr",
     "output_type": "stream",
     "text": [
      "/Users/huikhangkiat/anaconda3/lib/python3.11/site-packages/sklearn/feature_extraction/text.py:528: UserWarning: The parameter 'token_pattern' will not be used since 'tokenizer' is not None'\n",
      "  warnings.warn(\n"
     ]
    },
    {
     "name": "stdout",
     "output_type": "stream",
     "text": [
      "Results for spacy_sentences:\n",
      "Average Cross-Validation F1 Score: 0.527\n",
      "\n"
     ]
    },
    {
     "name": "stderr",
     "output_type": "stream",
     "text": [
      "/Users/huikhangkiat/anaconda3/lib/python3.11/site-packages/sklearn/feature_extraction/text.py:528: UserWarning: The parameter 'token_pattern' will not be used since 'tokenizer' is not None'\n",
      "  warnings.warn(\n"
     ]
    }
   ],
   "source": [
    "X_lr = df_train['content'].copy()\n",
    "y_lr = df_train['label'].copy()\n",
    "\n",
    "# Initialize the StratifiedKFold class\n",
    "n_splits = 2  # Or however many folds you want\n",
    "skf = StratifiedKFold(n_splits=n_splits, shuffle=True, random_state=42)\n",
    "\n",
    "# Define preprocessing and vectorization configurations\n",
    "preprocessing_type = {\n",
    "    # 'lemmatization_tfidf': (preprocess_pipeline_lemma, TfidfVectorizer(tokenizer=lambda x:x, preprocessor=lambda x:x, sublinear_tf=True)),\n",
    "    # 'stemming_tfidf': (preprocess_pipeline_stem, TfidfVectorizer(tokenizer=lambda x:x, preprocessor=lambda x:x, sublinear_tf=True,)),\n",
    "    # 'vanilla_tfidf': (None, TfidfVectorizer(ngram_range=(1,1), sublinear_tf=True)),\n",
    "    'spacy_tfidf': (preprocess_spacy, TfidfVectorizer(tokenizer=lambda x:x, preprocessor=lambda x:x, sublinear_tf=True,)),\n",
    "    # 'lemmatization_bow': (preprocess_pipeline_lemma, CountVectorizer(tokenizer=lambda x:x, preprocessor=lambda x: x)),\n",
    "    # 'stemming_bow': (preprocess_pipeline_stem, CountVectorizer(tokenizer=lambda x:x, preprocessor=lambda x: x)),\n",
    "    # 'vanilla_bow': (None, CountVectorizer(ngram_range=(1,1))),\n",
    "    # 'spacy_bow': (preprocess_spacy, CountVectorizer(tokenizer=lambda x:x, preprocessor=lambda x: x)),\n",
    "    'spacy_sentences': (preprocess_spacy_moral_sentences, TfidfVectorizer(tokenizer=lambda x:x, preprocessor=lambda x:x, sublinear_tf=True,))\n",
    "\n",
    "}\n",
    "\n",
    "for preprocessor, (preprocess_pipeline, vectorizer) in preprocessing_type.items():\n",
    "    val_f1s = []\n",
    "    print(preprocessor)\n",
    "    for train_index, test_index in skf.split(X_nb, y_nb):\n",
    "        X_train_nb, X_val_nb = X_nb[train_index], X_nb[test_index]\n",
    "        y_train_nb, y_val_nb = y_nb[train_index], y_nb[test_index]\n",
    "        \n",
    "        # Apply preprocessing if specified\n",
    "        if preprocess_pipeline:\n",
    "            X_train_nb_preprocessed = preprocess_pipeline(X_train_nb)\n",
    "            X_val_nb_preprocessed = preprocess_pipeline(X_val_nb)\n",
    "        # Vectorize data\n",
    "        X_train_nb_vec = vectorizer.fit_transform(X_train_nb_preprocessed)\n",
    "        X_val_nb_vec = vectorizer.transform(X_val_nb_preprocessed)\n",
    "        # print(y_train_nb.shape)\n",
    "        # print(y_train_nb[0:10])\n",
    "\n",
    "        if preprocess_pipeline == preprocess_spacy_moral_sentences:\n",
    "            y_train_nb = np.repeat(y_train_nb, 5)\n",
    "            y_val_nb = np.repeat(y_val_nb, 5)\n",
    "            # print(y_train_nb.shape)\n",
    "            # print(y_train_nb[0:10])\n",
    "        \n",
    "        \n",
    "        # # Add morality score and append it to X_train_nb_vec and X_test_nb_vec\n",
    "        # X_train_nb = X_train_nb.to_frame()\n",
    "        # X_test_nb = X_test_nb.to_frame()\n",
    "\n",
    "        # # print(type(X_train_nb_vec))\n",
    "        # preprocessed_spacy_train = preprocess_pipeline(X_train_nb, moral='Yes')\n",
    "        # result = moralstrength.estimate_morals(preprocessed_spacy_train, process=False) # set to false if text is alredy pre-processed\n",
    "        # result['moral_score'] = result.mean(axis=1)/10 #normalize score to 0 to 1\n",
    "        # result['moral_score'] = result['moral_score'].fillna(-1)\n",
    "        # result_moral_matrix = csr_matrix((result['moral_score']).values.reshape(-1, 1)) # Reshape if necessary\n",
    "        # X_train_nb_vec = hstack([X_train_nb_vec, result_moral_matrix])\n",
    "\n",
    "        # print(X_train_nb_vec.shape)\n",
    "        # print(X_train_nb_vec[0:10])\n",
    "        \n",
    "        # preprocessed_spacy_val = preprocess_pipeline(X_val_nb, moral='Yes')\n",
    "        # result_val = moralstrength.estimate_morals(preprocessed_spacy_val, process=False) # set to false if text is alredy pre-processed\n",
    "        # #normalizing moral score (scale of 0-10, normalized to 0-1)\n",
    "        # result_val['moral_score'] = result_val.mean(axis=1)/10 #normalize score to 0 to 1\n",
    "        # result_val['moral_score'] = result_val['moral_score'].fillna(-1) #assign moral score of -1 to null values\n",
    "        # result_moral_matrix_val = csr_matrix((result_val['moral_score']).values.reshape(-1, 1))\n",
    "        # X_val_nb_vec = hstack([X_val_nb_vec, result_moral_matrix_val])\n",
    "\n",
    "        # # # Dropping rows with null value for moral score\n",
    "        # keep_indices_train = result[result['moral_score'] != -1].index\n",
    "        # keep_indices_val = result_val[result_val['moral_score'] != -1].index\n",
    "        # # Filter the stacked matrices to keep only the desired rows\n",
    "        # X_train_nb_vec = X_train_nb_vec[keep_indices_train, :]\n",
    "        # X_val_nb_vec = X_val_nb_vec[keep_indices_val, :]\n",
    "        # y_train_nb = y_train_nb.iloc[keep_indices_train]\n",
    "        # y_val_nb = y_val_nb.iloc[keep_indices_val]\n",
    "\n",
    "        # print(X_train_nb_vec.shape)\n",
    "        # print(X_train_nb_vec[0:10])\n",
    "        # print(y_train_nb.shape)\n",
    "        # print(y_train_nb[0:10])\n",
    "        # # # Normalize the training and validation vectors\n",
    "        # # normalizer = Normalizer()\n",
    "        # # X_train_nb_vec_normalized = normalizer.fit_transform(X_train_nb_vec)\n",
    "        # # X_val_nb_vec_normalized = normalizer.transform(X_val_nb_vec)\n",
    "\n",
    "        # # print(X_train_nb_vec_normalized[0])\n",
    "\n",
    "        # Initialize the Bernoulli Naive Bayes model\n",
    "        model = LogisticRegression()\n",
    "    \n",
    "        # Fit the model\n",
    "        model.fit(X_train_nb_vec, y_train_nb)\n",
    "    \n",
    "        # Predict on the test set\n",
    "        y_pred_nb = model.predict(X_val_nb_vec)\n",
    "        \n",
    "        val_f1s.append(f1_score(y_val_nb, y_pred_nb))\n",
    "\n",
    "    # Calculate and print the average F1 score across all validation folds\n",
    "    print(f\"Results for {preprocessor}:\")\n",
    "    print(f\"Average Cross-Validation F1 Score: {np.mean(val_f1s):.3f}\\n\")"
   ]
  },
  {
   "cell_type": "markdown",
   "id": "ae092424-1ae3-432e-b2ec-f132dbfc21da",
   "metadata": {},
   "source": [
    "##### Test data"
   ]
  },
  {
   "cell_type": "code",
   "execution_count": null,
   "id": "1429788c-5f4d-40cd-98c3-2d6d829bb1b5",
   "metadata": {},
   "outputs": [],
   "source": [
    "X_train_LR_final = df_train['content'].copy()\n",
    "y_train_LR_final = df_train['label'].copy()\n",
    "X_test_LR_final = df_test['content'].copy()\n",
    "y_test_LR_final = df_test['label'].copy()\n",
    "\n",
    "#using spacy_tfidf as vectorizer \n",
    "prepocess_pipeline = preprocess_spacy\n",
    "vectorizer = TfidfVectorizer(tokenizer=lambda x:x, preprocessor=lambda x:x, sublinear_tf=True,)\n",
    "\n",
    "#preprocess\n",
    "X_train_LR_final = preprocess_pipeline(X_train_LR_final)\n",
    "X_test_LR_final = preprocess_pipeline(X_test_LR_final)\n",
    "\n",
    "print(X_train_LR_final.shape)\n",
    "# Vectorize data\n",
    "X_train_LR_final_vec = vectorizer.fit_transform(X_train_LR_final)\n",
    "X_test_LR_final_vec = vectorizer.transform(X_test_LR_final)\n",
    "print(X_train_LR_final_vec.shape)\n",
    "\n",
    "model_LR_final = LogisticRegression()\n",
    "model_LR_final.fit(X_train_LR_final_vec, y_train_LR_final)\n",
    "\n",
    "y_pred_LR_final = model_LR_final.predict(X_test_LR_final_vec)\n",
    "test_f1_score_lr = f1_score(y_test_LR_final, y_pred_LR_final)\n",
    "\n",
    "print(f\"Final Test F1 Score for Logistic Regression: {test_f1_score_lr:.3f}\")\n",
    "\n"
   ]
  },
  {
   "cell_type": "code",
   "execution_count": null,
   "id": "529cfd30-309b-43af-be5d-7817b420d8b1",
   "metadata": {},
   "outputs": [],
   "source": []
  }
 ],
 "metadata": {
  "kernelspec": {
   "display_name": "Python 3 (ipykernel)",
   "language": "python",
   "name": "python3"
  },
  "language_info": {
   "codemirror_mode": {
    "name": "ipython",
    "version": 3
   },
   "file_extension": ".py",
   "mimetype": "text/x-python",
   "name": "python",
   "nbconvert_exporter": "python",
   "pygments_lexer": "ipython3",
   "version": "3.11.0"
  }
 },
 "nbformat": 4,
 "nbformat_minor": 5
}
