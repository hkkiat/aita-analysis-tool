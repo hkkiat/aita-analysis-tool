{
  "cells": [
    {
      "cell_type": "code",
      "execution_count": 1,
      "metadata": {
        "colab": {
          "base_uri": "https://localhost:8080/"
        },
        "id": "gxSGnb3rkeAi",
        "outputId": "9bb9c04d-15db-4aec-efff-fc92e55d351b"
      },
      "outputs": [
        {
          "output_type": "stream",
          "name": "stdout",
          "text": [
            "Mounted at /content/drive\n"
          ]
        }
      ],
      "source": [
        "from google.colab import drive\n",
        "drive.mount('/content/drive')\n",
        "import os\n",
        "os.chdir('/content/drive/MyDrive/CS5246/AITA')"
      ]
    },
    {
      "cell_type": "code",
      "source": [
        "!pip install contractions"
      ],
      "metadata": {
        "colab": {
          "base_uri": "https://localhost:8080/"
        },
        "id": "KhyeXzcniEQp",
        "outputId": "f8414ec5-2fac-4e22-fe20-31c9b01703e8"
      },
      "execution_count": 2,
      "outputs": [
        {
          "output_type": "stream",
          "name": "stdout",
          "text": [
            "Collecting contractions\n",
            "  Downloading contractions-0.1.73-py2.py3-none-any.whl (8.7 kB)\n",
            "Collecting textsearch>=0.0.21 (from contractions)\n",
            "  Downloading textsearch-0.0.24-py2.py3-none-any.whl (7.6 kB)\n",
            "Collecting anyascii (from textsearch>=0.0.21->contractions)\n",
            "  Downloading anyascii-0.3.2-py3-none-any.whl (289 kB)\n",
            "\u001b[2K     \u001b[90m━━━━━━━━━━━━━━━━━━━━━━━━━━━━━━━━━━━━━━━━\u001b[0m \u001b[32m289.9/289.9 kB\u001b[0m \u001b[31m6.1 MB/s\u001b[0m eta \u001b[36m0:00:00\u001b[0m\n",
            "\u001b[?25hCollecting pyahocorasick (from textsearch>=0.0.21->contractions)\n",
            "  Downloading pyahocorasick-2.1.0-cp310-cp310-manylinux_2_5_x86_64.manylinux1_x86_64.manylinux_2_12_x86_64.manylinux2010_x86_64.whl (110 kB)\n",
            "\u001b[2K     \u001b[90m━━━━━━━━━━━━━━━━━━━━━━━━━━━━━━━━━━━━━━━━\u001b[0m \u001b[32m110.7/110.7 kB\u001b[0m \u001b[31m10.4 MB/s\u001b[0m eta \u001b[36m0:00:00\u001b[0m\n",
            "\u001b[?25hInstalling collected packages: pyahocorasick, anyascii, textsearch, contractions\n",
            "Successfully installed anyascii-0.3.2 contractions-0.1.73 pyahocorasick-2.1.0 textsearch-0.0.24\n"
          ]
        }
      ]
    },
    {
      "cell_type": "code",
      "execution_count": 3,
      "metadata": {
        "colab": {
          "base_uri": "https://localhost:8080/"
        },
        "id": "0OXtMt0nIdvp",
        "outputId": "dd152ed8-f108-4ba4-e018-67f85dbfa5d6"
      },
      "outputs": [
        {
          "output_type": "stream",
          "name": "stderr",
          "text": [
            "[nltk_data] Downloading package punkt to /root/nltk_data...\n",
            "[nltk_data]   Unzipping tokenizers/punkt.zip.\n",
            "[nltk_data] Downloading package wordnet to /root/nltk_data...\n",
            "[nltk_data] Downloading package stopwords to /root/nltk_data...\n",
            "[nltk_data]   Unzipping corpora/stopwords.zip.\n"
          ]
        }
      ],
      "source": [
        "import pandas as pd\n",
        "import matplotlib.pyplot as plt\n",
        "import numpy as np\n",
        "import seaborn as sns\n",
        "import re\n",
        "import string\n",
        "import contractions\n",
        "\n",
        "import nltk\n",
        "nltk.download('punkt')\n",
        "nltk.download('wordnet')\n",
        "nltk.download('stopwords')\n",
        "from nltk.tokenize import sent_tokenize, word_tokenize\n",
        "from nltk.stem.porter import PorterStemmer\n",
        "from nltk.stem.snowball import SnowballStemmer\n",
        "from nltk.stem.lancaster import LancasterStemmer\n",
        "from nltk.stem import WordNetLemmatizer\n",
        "from nltk.corpus import stopwords\n",
        "from nltk.cluster.util import cosine_distance\n",
        "import networkx as nx\n",
        "\n",
        "from sklearn.feature_extraction.text import TfidfVectorizer\n",
        "from sklearn.model_selection import cross_val_score, GridSearchCV, train_test_split\n",
        "from sklearn.naive_bayes import MultinomialNB\n",
        "from sklearn.linear_model import LogisticRegression\n",
        "from sklearn import metrics\n",
        "from sklearn.metrics import f1_score"
      ]
    },
    {
      "cell_type": "code",
      "source": [
        "def get_sentences(text):\n",
        "    # Tokenize the text into sentences\n",
        "    return len(sent_tokenize(text))\n",
        "\n",
        "porter_stemmer = PorterStemmer()\n",
        "wordnet_lemmatizer = WordNetLemmatizer()\n",
        "\n",
        "def tokenize_and_stem(text):\n",
        "    expanded_text = contractions.fix(text)\n",
        "    clean_text = re.sub(r'http[s]?://\\S+', '', expanded_text)\n",
        "    tokens = word_tokenize(clean_text)\n",
        "    lemmas = [wordnet_lemmatizer.lemmatize(token) for token in tokens]\n",
        "    return lemmas"
      ],
      "metadata": {
        "id": "zhQrVZLF4-Mm"
      },
      "execution_count": 7,
      "outputs": []
    },
    {
      "cell_type": "markdown",
      "source": [
        "### Load data"
      ],
      "metadata": {
        "id": "4Hhnpu3VMqWx"
      }
    },
    {
      "cell_type": "code",
      "execution_count": 5,
      "metadata": {
        "id": "pjM6H5SjZ9ry",
        "colab": {
          "base_uri": "https://localhost:8080/",
          "height": 206
        },
        "outputId": "94a15537-6cdf-492f-bb43-971496182465"
      },
      "outputs": [
        {
          "output_type": "execute_result",
          "data": {
            "text/plain": [
              "   Unnamed: 0  flag                                            content  \\\n",
              "0           0     0  My bf (21) and me (22) have been together for ...   \n",
              "1           1     0  Yesterday afternoon my(19m) aunt's boyfriend b...   \n",
              "2           2     0  So I've been dating this girl since early dece...   \n",
              "3           3     0  I like to send my roommate pictures of cute th...   \n",
              "4           4     0  Good Afternoon, I'm a 29yo US Venezuelan immig...   \n",
              "\n",
              "                                          summarised  \n",
              "0  My bf (21) and me (22) have been together for ...  \n",
              "1  Yesterday afternoon my(19m) aunt's boyfriend b...  \n",
              "2  On Tuesday I told her about some new things I ...  \n",
              "3  I like to send my roommate pictures of cute th...  \n",
              "4  Good Afternoon, I'm a 29yo US Venezuelan immig...  "
            ],
            "text/html": [
              "\n",
              "  <div id=\"df-65e12290-77f3-4a39-b8ca-9416b0b8cc05\" class=\"colab-df-container\">\n",
              "    <div>\n",
              "<style scoped>\n",
              "    .dataframe tbody tr th:only-of-type {\n",
              "        vertical-align: middle;\n",
              "    }\n",
              "\n",
              "    .dataframe tbody tr th {\n",
              "        vertical-align: top;\n",
              "    }\n",
              "\n",
              "    .dataframe thead th {\n",
              "        text-align: right;\n",
              "    }\n",
              "</style>\n",
              "<table border=\"1\" class=\"dataframe\">\n",
              "  <thead>\n",
              "    <tr style=\"text-align: right;\">\n",
              "      <th></th>\n",
              "      <th>Unnamed: 0</th>\n",
              "      <th>flag</th>\n",
              "      <th>content</th>\n",
              "      <th>summarised</th>\n",
              "    </tr>\n",
              "  </thead>\n",
              "  <tbody>\n",
              "    <tr>\n",
              "      <th>0</th>\n",
              "      <td>0</td>\n",
              "      <td>0</td>\n",
              "      <td>My bf (21) and me (22) have been together for ...</td>\n",
              "      <td>My bf (21) and me (22) have been together for ...</td>\n",
              "    </tr>\n",
              "    <tr>\n",
              "      <th>1</th>\n",
              "      <td>1</td>\n",
              "      <td>0</td>\n",
              "      <td>Yesterday afternoon my(19m) aunt's boyfriend b...</td>\n",
              "      <td>Yesterday afternoon my(19m) aunt's boyfriend b...</td>\n",
              "    </tr>\n",
              "    <tr>\n",
              "      <th>2</th>\n",
              "      <td>2</td>\n",
              "      <td>0</td>\n",
              "      <td>So I've been dating this girl since early dece...</td>\n",
              "      <td>On Tuesday I told her about some new things I ...</td>\n",
              "    </tr>\n",
              "    <tr>\n",
              "      <th>3</th>\n",
              "      <td>3</td>\n",
              "      <td>0</td>\n",
              "      <td>I like to send my roommate pictures of cute th...</td>\n",
              "      <td>I like to send my roommate pictures of cute th...</td>\n",
              "    </tr>\n",
              "    <tr>\n",
              "      <th>4</th>\n",
              "      <td>4</td>\n",
              "      <td>0</td>\n",
              "      <td>Good Afternoon, I'm a 29yo US Venezuelan immig...</td>\n",
              "      <td>Good Afternoon, I'm a 29yo US Venezuelan immig...</td>\n",
              "    </tr>\n",
              "  </tbody>\n",
              "</table>\n",
              "</div>\n",
              "    <div class=\"colab-df-buttons\">\n",
              "\n",
              "  <div class=\"colab-df-container\">\n",
              "    <button class=\"colab-df-convert\" onclick=\"convertToInteractive('df-65e12290-77f3-4a39-b8ca-9416b0b8cc05')\"\n",
              "            title=\"Convert this dataframe to an interactive table.\"\n",
              "            style=\"display:none;\">\n",
              "\n",
              "  <svg xmlns=\"http://www.w3.org/2000/svg\" height=\"24px\" viewBox=\"0 -960 960 960\">\n",
              "    <path d=\"M120-120v-720h720v720H120Zm60-500h600v-160H180v160Zm220 220h160v-160H400v160Zm0 220h160v-160H400v160ZM180-400h160v-160H180v160Zm440 0h160v-160H620v160ZM180-180h160v-160H180v160Zm440 0h160v-160H620v160Z\"/>\n",
              "  </svg>\n",
              "    </button>\n",
              "\n",
              "  <style>\n",
              "    .colab-df-container {\n",
              "      display:flex;\n",
              "      gap: 12px;\n",
              "    }\n",
              "\n",
              "    .colab-df-convert {\n",
              "      background-color: #E8F0FE;\n",
              "      border: none;\n",
              "      border-radius: 50%;\n",
              "      cursor: pointer;\n",
              "      display: none;\n",
              "      fill: #1967D2;\n",
              "      height: 32px;\n",
              "      padding: 0 0 0 0;\n",
              "      width: 32px;\n",
              "    }\n",
              "\n",
              "    .colab-df-convert:hover {\n",
              "      background-color: #E2EBFA;\n",
              "      box-shadow: 0px 1px 2px rgba(60, 64, 67, 0.3), 0px 1px 3px 1px rgba(60, 64, 67, 0.15);\n",
              "      fill: #174EA6;\n",
              "    }\n",
              "\n",
              "    .colab-df-buttons div {\n",
              "      margin-bottom: 4px;\n",
              "    }\n",
              "\n",
              "    [theme=dark] .colab-df-convert {\n",
              "      background-color: #3B4455;\n",
              "      fill: #D2E3FC;\n",
              "    }\n",
              "\n",
              "    [theme=dark] .colab-df-convert:hover {\n",
              "      background-color: #434B5C;\n",
              "      box-shadow: 0px 1px 3px 1px rgba(0, 0, 0, 0.15);\n",
              "      filter: drop-shadow(0px 1px 2px rgba(0, 0, 0, 0.3));\n",
              "      fill: #FFFFFF;\n",
              "    }\n",
              "  </style>\n",
              "\n",
              "    <script>\n",
              "      const buttonEl =\n",
              "        document.querySelector('#df-65e12290-77f3-4a39-b8ca-9416b0b8cc05 button.colab-df-convert');\n",
              "      buttonEl.style.display =\n",
              "        google.colab.kernel.accessAllowed ? 'block' : 'none';\n",
              "\n",
              "      async function convertToInteractive(key) {\n",
              "        const element = document.querySelector('#df-65e12290-77f3-4a39-b8ca-9416b0b8cc05');\n",
              "        const dataTable =\n",
              "          await google.colab.kernel.invokeFunction('convertToInteractive',\n",
              "                                                    [key], {});\n",
              "        if (!dataTable) return;\n",
              "\n",
              "        const docLinkHtml = 'Like what you see? Visit the ' +\n",
              "          '<a target=\"_blank\" href=https://colab.research.google.com/notebooks/data_table.ipynb>data table notebook</a>'\n",
              "          + ' to learn more about interactive tables.';\n",
              "        element.innerHTML = '';\n",
              "        dataTable['output_type'] = 'display_data';\n",
              "        await google.colab.output.renderOutput(dataTable, element);\n",
              "        const docLink = document.createElement('div');\n",
              "        docLink.innerHTML = docLinkHtml;\n",
              "        element.appendChild(docLink);\n",
              "      }\n",
              "    </script>\n",
              "  </div>\n",
              "\n",
              "\n",
              "<div id=\"df-feb82b83-f04a-4e1b-9587-d7076aad6d34\">\n",
              "  <button class=\"colab-df-quickchart\" onclick=\"quickchart('df-feb82b83-f04a-4e1b-9587-d7076aad6d34')\"\n",
              "            title=\"Suggest charts\"\n",
              "            style=\"display:none;\">\n",
              "\n",
              "<svg xmlns=\"http://www.w3.org/2000/svg\" height=\"24px\"viewBox=\"0 0 24 24\"\n",
              "     width=\"24px\">\n",
              "    <g>\n",
              "        <path d=\"M19 3H5c-1.1 0-2 .9-2 2v14c0 1.1.9 2 2 2h14c1.1 0 2-.9 2-2V5c0-1.1-.9-2-2-2zM9 17H7v-7h2v7zm4 0h-2V7h2v10zm4 0h-2v-4h2v4z\"/>\n",
              "    </g>\n",
              "</svg>\n",
              "  </button>\n",
              "\n",
              "<style>\n",
              "  .colab-df-quickchart {\n",
              "      --bg-color: #E8F0FE;\n",
              "      --fill-color: #1967D2;\n",
              "      --hover-bg-color: #E2EBFA;\n",
              "      --hover-fill-color: #174EA6;\n",
              "      --disabled-fill-color: #AAA;\n",
              "      --disabled-bg-color: #DDD;\n",
              "  }\n",
              "\n",
              "  [theme=dark] .colab-df-quickchart {\n",
              "      --bg-color: #3B4455;\n",
              "      --fill-color: #D2E3FC;\n",
              "      --hover-bg-color: #434B5C;\n",
              "      --hover-fill-color: #FFFFFF;\n",
              "      --disabled-bg-color: #3B4455;\n",
              "      --disabled-fill-color: #666;\n",
              "  }\n",
              "\n",
              "  .colab-df-quickchart {\n",
              "    background-color: var(--bg-color);\n",
              "    border: none;\n",
              "    border-radius: 50%;\n",
              "    cursor: pointer;\n",
              "    display: none;\n",
              "    fill: var(--fill-color);\n",
              "    height: 32px;\n",
              "    padding: 0;\n",
              "    width: 32px;\n",
              "  }\n",
              "\n",
              "  .colab-df-quickchart:hover {\n",
              "    background-color: var(--hover-bg-color);\n",
              "    box-shadow: 0 1px 2px rgba(60, 64, 67, 0.3), 0 1px 3px 1px rgba(60, 64, 67, 0.15);\n",
              "    fill: var(--button-hover-fill-color);\n",
              "  }\n",
              "\n",
              "  .colab-df-quickchart-complete:disabled,\n",
              "  .colab-df-quickchart-complete:disabled:hover {\n",
              "    background-color: var(--disabled-bg-color);\n",
              "    fill: var(--disabled-fill-color);\n",
              "    box-shadow: none;\n",
              "  }\n",
              "\n",
              "  .colab-df-spinner {\n",
              "    border: 2px solid var(--fill-color);\n",
              "    border-color: transparent;\n",
              "    border-bottom-color: var(--fill-color);\n",
              "    animation:\n",
              "      spin 1s steps(1) infinite;\n",
              "  }\n",
              "\n",
              "  @keyframes spin {\n",
              "    0% {\n",
              "      border-color: transparent;\n",
              "      border-bottom-color: var(--fill-color);\n",
              "      border-left-color: var(--fill-color);\n",
              "    }\n",
              "    20% {\n",
              "      border-color: transparent;\n",
              "      border-left-color: var(--fill-color);\n",
              "      border-top-color: var(--fill-color);\n",
              "    }\n",
              "    30% {\n",
              "      border-color: transparent;\n",
              "      border-left-color: var(--fill-color);\n",
              "      border-top-color: var(--fill-color);\n",
              "      border-right-color: var(--fill-color);\n",
              "    }\n",
              "    40% {\n",
              "      border-color: transparent;\n",
              "      border-right-color: var(--fill-color);\n",
              "      border-top-color: var(--fill-color);\n",
              "    }\n",
              "    60% {\n",
              "      border-color: transparent;\n",
              "      border-right-color: var(--fill-color);\n",
              "    }\n",
              "    80% {\n",
              "      border-color: transparent;\n",
              "      border-right-color: var(--fill-color);\n",
              "      border-bottom-color: var(--fill-color);\n",
              "    }\n",
              "    90% {\n",
              "      border-color: transparent;\n",
              "      border-bottom-color: var(--fill-color);\n",
              "    }\n",
              "  }\n",
              "</style>\n",
              "\n",
              "  <script>\n",
              "    async function quickchart(key) {\n",
              "      const quickchartButtonEl =\n",
              "        document.querySelector('#' + key + ' button');\n",
              "      quickchartButtonEl.disabled = true;  // To prevent multiple clicks.\n",
              "      quickchartButtonEl.classList.add('colab-df-spinner');\n",
              "      try {\n",
              "        const charts = await google.colab.kernel.invokeFunction(\n",
              "            'suggestCharts', [key], {});\n",
              "      } catch (error) {\n",
              "        console.error('Error during call to suggestCharts:', error);\n",
              "      }\n",
              "      quickchartButtonEl.classList.remove('colab-df-spinner');\n",
              "      quickchartButtonEl.classList.add('colab-df-quickchart-complete');\n",
              "    }\n",
              "    (() => {\n",
              "      let quickchartButtonEl =\n",
              "        document.querySelector('#df-feb82b83-f04a-4e1b-9587-d7076aad6d34 button');\n",
              "      quickchartButtonEl.style.display =\n",
              "        google.colab.kernel.accessAllowed ? 'block' : 'none';\n",
              "    })();\n",
              "  </script>\n",
              "</div>\n",
              "\n",
              "    </div>\n",
              "  </div>\n"
            ],
            "application/vnd.google.colaboratory.intrinsic+json": {
              "type": "dataframe",
              "variable_name": "df",
              "summary": "{\n  \"name\": \"df\",\n  \"rows\": 16872,\n  \"fields\": [\n    {\n      \"column\": \"Unnamed: 0\",\n      \"properties\": {\n        \"dtype\": \"number\",\n        \"std\": 2962,\n        \"min\": 0,\n        \"max\": 10871,\n        \"num_unique_values\": 10872,\n        \"samples\": [\n          2754,\n          10208,\n          5155\n        ],\n        \"semantic_type\": \"\",\n        \"description\": \"\"\n      }\n    },\n    {\n      \"column\": \"flag\",\n      \"properties\": {\n        \"dtype\": \"number\",\n        \"std\": 0,\n        \"min\": 0,\n        \"max\": 1,\n        \"num_unique_values\": 2,\n        \"samples\": [\n          1,\n          0\n        ],\n        \"semantic_type\": \"\",\n        \"description\": \"\"\n      }\n    },\n    {\n      \"column\": \"content\",\n      \"properties\": {\n        \"dtype\": \"string\",\n        \"num_unique_values\": 16872,\n        \"samples\": [\n          \"After my dad married Jane 7 years ago he started to get really involved in her daughter Amy's (16f) life. I (15f) felt left out. My life had been really difficult up to then and I was struggling with everything. I had lost my mom two years before, and I also suffered a brain injury and was grieving the loss of a lot of memories of my mom, I was recovering and dad was distracted with Jane. It was tough. But then my dad got along with Amy so much better and he always seemed more into the time he spent with her than the time he spent with me. He also shared more of his own interests with her. He took her to special places he adored that he didn't ever take me to. And I wanted to go. He shared with her stuff he didn't share with me. I was jealous and I was hurt. I tried to explain to my dad but he told me it was selfish to want to keep him to myself and to leave Amy without a dad and how her dad didn't want to know her so he needed to fill that role for her. Amy would tell me to just accept that dad liked her better and he was her dad more than mine now. My dad knew about it and didn't care.\\n\\nHe did spend time with me. But it was stuff I liked and he'd act like it was the biggest burden to spend time with me. He fell asleep a few times and he would zone out a lot and leave me to do the stuff alone even though he was physically there.\\n\\nMy grandpa, my dad's dad, noticed and he started spending more time with me and creating a bond with me that we didn't have before. My dad isn't that close to his dad. But grandpa has been the best. He even loved my mom and he told me how sad it made him when my parents divorced. He's told me stories about her and about her and me that I don't remember any longer. It has been amazing and apparently it has healed a lot of the pain of my dad's lack of interest because my dad noticed and he got SO jealous.\\n\\nHe confronted me a few days ago saying I was ignoring him and spending way too much time with grandpa. He asked me why I stopped asking about our time together. I told very clear he prefers spending time with Amy and can't stand time with me, so I'm spending time with someone who enjoys me. He told me I don't have the right to rub my favoritism of grandpa in his face. I called him a hypocrite and told him he treated Amy better than me for years, he showed favoritism to her, opened up to her and shared with her in a way he never did with me and it wasn't okay. I told him he then called me selfish for telling him how it made me feel. I told him she knows him better than I do and it's not my fault. I said he allowed that to happen and allowed her to feel so smug about it. He walked away from the conversation.\\n\\nDad decided the two of us need family therapy yesterday. He came out with it from nowhere. He said it's the only way to fix it. I told him family therapy won't fix us when he can't even stay and have a conversation with me. He told me I used to be willing to try and now I'm not and it's not okay.\\n\\nAITA?\",\n          \"obligatory sorry for the length\\n\\nthe back-story is that now that my (42M) and my brother's (46M) families are done with kids, my parents (\\\\~75) wanted to do a nice big family photo all together. they were planning to go on an overseas trip halfway for 3 mos so my wife A (41F) planned and paid for the photo for before they left.\\n\\nthe photog, P, had a small studio in his apt (we live in NYC) but it might be too small for all 10 of us, so my SIL, B (42F),  offered up their place. we often do big family events there. P suggested buying a backdrop ($80) and linked to one at a local store. i buy it, but balk at the shipping px of $100. it's not heavy but unwieldy, think of a ten foot long rolled up paper roll. so i carry it across manhattan to B's apartment two days before the shoot.\\n\\nday of the shoot, B suggested taking the photo outside or their community room. P suggests we try those and if it doesn't look great we could always use the backdrop in the apartment. we take some photos, like what we see, so we stop there. P suggests we just return the backdrop and get our money back.\\n\\ni ask B if its ok to leave the backdrop there, but because work was busy i could probably pick it up the following week. the following sunday, i text B asking if thurs would be ok to pick it up as i had some time in my schedule and she says OK. that evening, after speaking to A, i realize that we were going over again that saturday for my brother's bday and i text B again asking if we could just pick it up then since we're there anyway and we'd have a car. she says she's annoyed but its fine. i respond that if she needed it out sooner, i could stick to the original plan of thurs but receive no response.\\n\\nthat wed night, my brother calls me and basically says the thing needs to be out of their apt now. my brother's a pretty reasonable guy and wouldn't make such a sudden demand on me, and i realize he and B were fighting about it and he called me so it could be resolved. i agree to head over, but before i leave, A is upset at this sudden demand. she wonders why they can't store it for two more days than planned when she did all the planning and paying. she texts B asking to talk on the phone (i advised against this) but B refused to talk on the phone.\\n\\nso i head over and bring it back on the subway, which was not easy. my brother was waiting outside when i got there and he thanked me for coming, knows it was somewhat unreasonable, but it was good to get done. he says B was:\\n\\n1. annoyed at the clutter when she goes through cleaning fits\\n2. annoyed that A had time to take our son to a bday party the previous sat but make time to pick up the backdrop\\n3. triggered by her son tripping over the backdrop (no injury)\\n\\nthat sat, we go over anyway so the kids could play, and the backdrop was brought up. B says we were inconsiderate, but i countered that i was communicating but that she wasn't and a sudden demand was unreasonable.\\n\\nhad to leave some info out for length but happy to answer q's\"\n        ],\n        \"semantic_type\": \"\",\n        \"description\": \"\"\n      }\n    },\n    {\n      \"column\": \"summarised\",\n      \"properties\": {\n        \"dtype\": \"string\",\n        \"num_unique_values\": 16864,\n        \"samples\": [\n          \"It was my (29F) little sister's (22F) birthday (let's call her Janet) on Monday and our family had planned on spending the day together at home. The day of her birthday, no one showed up. They'd also cut the cake without video calling me (which we always do in case any of us is away).\",\n          \"I (f23) took my son I\\u2019m going to call him Luke to the park today he brought his favourite toy car. I then explain to Tim that he needs to ask for a turn and not just take. Tim then asked for a turn but Luke said no. I felt like his logic was good and it\\u2019s his toy if he doesn\\u2019t want to share then he doesn\\u2019t have to.\"\n        ],\n        \"semantic_type\": \"\",\n        \"description\": \"\"\n      }\n    }\n  ]\n}"
            }
          },
          "metadata": {},
          "execution_count": 5
        }
      ],
      "source": [
        "train = pd.read_csv('train_summarised_gpt2.csv')\n",
        "test = pd.read_csv('test_summarised_gpt2.csv')\n",
        "df = pd.concat([train, test], axis=0)\n",
        "df.head()"
      ]
    },
    {
      "cell_type": "code",
      "source": [
        "df['sent_length'] = df['summarised'].apply(get_sentences)\n",
        "df['sent_length'].describe()"
      ],
      "metadata": {
        "colab": {
          "base_uri": "https://localhost:8080/"
        },
        "id": "z56X9Ua9rVyD",
        "outputId": "6e17096c-4685-465b-eb98-a9b9c3942c1d"
      },
      "execution_count": 8,
      "outputs": [
        {
          "output_type": "execute_result",
          "data": {
            "text/plain": [
              "count    16872.000000\n",
              "mean         4.090801\n",
              "std          1.804454\n",
              "min          1.000000\n",
              "25%          3.000000\n",
              "50%          4.000000\n",
              "75%          5.000000\n",
              "max         21.000000\n",
              "Name: sent_length, dtype: float64"
            ]
          },
          "metadata": {},
          "execution_count": 8
        }
      ]
    },
    {
      "cell_type": "markdown",
      "source": [
        "#2 part logistic regression"
      ],
      "metadata": {
        "id": "fHu2ziwO1arG"
      }
    },
    {
      "cell_type": "markdown",
      "source": [
        "###Preprocessing"
      ],
      "metadata": {
        "id": "cfBbwQyCTLlT"
      }
    },
    {
      "cell_type": "code",
      "source": [
        "def split_to_columns(df):\n",
        "  sent1 = []\n",
        "  sent2 = []\n",
        "  sent3 = []\n",
        "  sent4 = []\n",
        "  sent5 = []\n",
        "\n",
        "  for text in df['summarised']:\n",
        "    length = len(sent_tokenize(text))\n",
        "    sentences = sent_tokenize(text)\n",
        "    while length < 5:\n",
        "      sentences.append('')\n",
        "      length += 1\n",
        "    sent1.append(sentences[0])\n",
        "    sent2.append(sentences[1])\n",
        "    sent3.append(sentences[2])\n",
        "    sent4.append(sentences[3])\n",
        "    sent5.append(sentences[4])\n",
        "\n",
        "  df['sent1'] = sent1\n",
        "  df['sent2'] = sent2\n",
        "  df['sent3'] = sent3\n",
        "  df['sent4'] = sent4\n",
        "  df['sent5'] = sent5\n",
        "\n",
        "  return df"
      ],
      "metadata": {
        "id": "LB40vpWmGgbF"
      },
      "execution_count": 13,
      "outputs": []
    },
    {
      "cell_type": "code",
      "source": [
        "train = split_to_columns(train)\n",
        "test = split_to_columns(test)"
      ],
      "metadata": {
        "id": "YIFcwPvxH894"
      },
      "execution_count": 14,
      "outputs": []
    },
    {
      "cell_type": "code",
      "source": [
        "def flatten(data):\n",
        "    results = []\n",
        "    for index, row in data.iterrows():\n",
        "      results.extend(row)\n",
        "    return results"
      ],
      "metadata": {
        "id": "oY7Cg--9urUq"
      },
      "execution_count": 10,
      "outputs": []
    },
    {
      "cell_type": "code",
      "source": [
        "#flatten the data so that each sentence is now 1 data point\n",
        "X_train_flattened = flatten(train[['sent1', 'sent2', 'sent3', 'sent4', 'sent5']].fillna(''))\n",
        "X_test_flattened = flatten(test[['sent1', 'sent2', 'sent3', 'sent4', 'sent5']].fillna(''))"
      ],
      "metadata": {
        "id": "PMXIIt66nBNv"
      },
      "execution_count": 15,
      "outputs": []
    },
    {
      "cell_type": "code",
      "source": [
        "#Vectorise the sentences\n",
        "vectorizer = TfidfVectorizer(tokenizer=tokenize_and_stem, token_pattern=None)\n",
        "\n",
        "vectorizer.fit(X_train_flattened)\n",
        "X_train_vector = vectorizer.transform(X_train_flattened)\n",
        "X_test_vector = vectorizer.transform(X_test_flattened)"
      ],
      "metadata": {
        "id": "GyNo8OTBzxnA"
      },
      "execution_count": 16,
      "outputs": []
    },
    {
      "cell_type": "code",
      "source": [
        "#Repeat each label 5 times to match the new flattened data\n",
        "y_train_flattened = np.repeat(train['flag'], 5)\n",
        "y_test_flattened = np.repeat(test['flag'], 5)"
      ],
      "metadata": {
        "id": "OyFiPjCpbFVz"
      },
      "execution_count": 17,
      "outputs": []
    },
    {
      "cell_type": "markdown",
      "source": [
        "### Logistic Regression"
      ],
      "metadata": {
        "id": "bqsrgVNCbjD9"
      }
    },
    {
      "cell_type": "code",
      "execution_count": 18,
      "metadata": {
        "id": "TOsptzJxqx-g"
      },
      "outputs": [],
      "source": [
        "#Stage 1 Logistic Regression, to train the output for each sentence\n",
        "stage_1 = LogisticRegression(solver=\"saga\")\n",
        "stage_1.fit(X_train_vector, y_train_flattened)\n",
        "X_train_intermediate_results = stage_1.predict(X_train_vector)\n",
        "X_test_intermediate_results = stage_1.predict(X_test_vector)"
      ]
    },
    {
      "cell_type": "code",
      "source": [
        "#reshape to push into stage 2 logistic regression\n",
        "X_train_intermediate_input = X_train_intermediate_results.reshape(int(len(X_train_intermediate_results)/5), 5)\n",
        "X_test_intermediate_input = X_test_intermediate_results.reshape(int(len(X_test_intermediate_results)/5), 5)\n",
        "print(X_train_intermediate_input.shape)\n",
        "print(X_test_intermediate_input.shape)"
      ],
      "metadata": {
        "colab": {
          "base_uri": "https://localhost:8080/"
        },
        "id": "U7QdAQiZbmti",
        "outputId": "11d81764-8a1d-4e3e-cd28-b21efb276ef1"
      },
      "execution_count": 19,
      "outputs": [
        {
          "output_type": "stream",
          "name": "stdout",
          "text": [
            "(10872, 5)\n",
            "(6000, 5)\n"
          ]
        }
      ]
    },
    {
      "cell_type": "code",
      "source": [
        "#Stage 2 Logistic Regression training score\n",
        "cross_val_scores = cross_val_score(LogisticRegression(solver=\"saga\"), X_train_intermediate_input, train['flag'], cv=10, scoring=\"f1\")\n",
        "print(f\"cross-validation f1 scores:\", cross_val_scores)\n",
        "print(f\"average cross-validation f1 score:\", cross_val_scores.mean())"
      ],
      "metadata": {
        "id": "6ModaCkUR7OP",
        "colab": {
          "base_uri": "https://localhost:8080/"
        },
        "outputId": "a44dcb5f-a63e-4dec-d2f0-f05e87fe5ad2"
      },
      "execution_count": 20,
      "outputs": [
        {
          "output_type": "stream",
          "name": "stdout",
          "text": [
            "cross-validation f1 scores: [0.92476754 0.92216582 0.89477912 0.90375204 0.81740614 0.79500891\n",
            " 0.76687669 0.66209598 0.63329928 0.64736298]\n",
            "average cross-validation f1 score: 0.7967514507679276\n"
          ]
        }
      ]
    },
    {
      "cell_type": "code",
      "source": [
        "#Stage 2 Logistic Regression training score\n",
        "cross_val_scores = cross_val_score(LogisticRegression(solver=\"saga\"), X_train_intermediate_input, train['flag'], cv=10, scoring=\"accuracy\")\n",
        "print(f\"cross-validation accuracy:\", cross_val_scores)\n",
        "print(f\"average cross-validation accuracy:\", cross_val_scores.mean())"
      ],
      "metadata": {
        "colab": {
          "base_uri": "https://localhost:8080/"
        },
        "id": "D5B1W-l3W_r9",
        "outputId": "a1c2cc23-5ae1-4d99-b9ee-1439d2115afa"
      },
      "execution_count": 21,
      "outputs": [
        {
          "output_type": "stream",
          "name": "stdout",
          "text": [
            "cross-validation accuracy: [0.91819853 0.91544118 0.87948482 0.89144434 0.80312787 0.78840846\n",
            " 0.76172953 0.6826127  0.66973321 0.68629255]\n",
            "average cross-validation accuracy: 0.7996473192542887\n"
          ]
        }
      ]
    },
    {
      "cell_type": "code",
      "source": [
        "#Stage 2 Logistic Regression testing score\n",
        "stage_2 = LogisticRegression(solver=\"saga\")\n",
        "stage_2.fit(X_train_intermediate_input, train['flag'])\n",
        "y_pred = stage_2.predict(X_test_intermediate_input)\n",
        "print(f\"accuracy:\", metrics.accuracy_score(test['flag'], y_pred))\n",
        "print(f\"f1-score:\", metrics.f1_score(test['flag'], y_pred))"
      ],
      "metadata": {
        "colab": {
          "base_uri": "https://localhost:8080/"
        },
        "id": "Nu9UnL2Pq0LE",
        "outputId": "7810a17e-e01d-48e0-c4f5-c0763140eaec"
      },
      "execution_count": 22,
      "outputs": [
        {
          "output_type": "stream",
          "name": "stdout",
          "text": [
            "accuracy: 0.7516666666666667\n",
            "f1-score: 0.547112462006079\n"
          ]
        }
      ]
    },
    {
      "cell_type": "code",
      "source": [
        "#Check whether majority polling gives the same results\n",
        "y_test = [round(np.mean(x)) for x in X_test_intermediate_input]\n",
        "print(f\"accuracy:\", metrics.accuracy_score(test['flag'], y_test))\n",
        "print(f\"f1-score:\", metrics.f1_score(test['flag'], y_test ))"
      ],
      "metadata": {
        "id": "cb-aswQyR467",
        "colab": {
          "base_uri": "https://localhost:8080/"
        },
        "outputId": "17106dea-1c1d-4762-9b21-1ba7c988d8a8"
      },
      "execution_count": 23,
      "outputs": [
        {
          "output_type": "stream",
          "name": "stdout",
          "text": [
            "accuracy: 0.5946666666666667\n",
            "f1-score: 0.4099951479864143\n"
          ]
        }
      ]
    },
    {
      "cell_type": "markdown",
      "source": [
        "### NBaive Bayes"
      ],
      "metadata": {
        "id": "59QdVwirS1ZW"
      }
    },
    {
      "cell_type": "code",
      "execution_count": 24,
      "metadata": {
        "id": "CT6n1AeeS1Zf"
      },
      "outputs": [],
      "source": [
        "#Stage 1 NB, to train the output for each sentence\n",
        "stage_1 = MultinomialNB()\n",
        "stage_1.fit(X_train_vector, y_train_flattened)\n",
        "X_train_intermediate_results = stage_1.predict(X_train_vector)\n",
        "X_test_intermediate_results = stage_1.predict(X_test_vector)"
      ]
    },
    {
      "cell_type": "code",
      "source": [
        "#reshape to push into stage 2 NB\n",
        "X_train_intermediate_input = X_train_intermediate_results.reshape(int(len(X_train_intermediate_results)/5), 5)\n",
        "X_test_intermediate_input = X_test_intermediate_results.reshape(int(len(X_test_intermediate_results)/5), 5)\n",
        "print(X_train_intermediate_input.shape)\n",
        "print(X_test_intermediate_input.shape)"
      ],
      "metadata": {
        "colab": {
          "base_uri": "https://localhost:8080/"
        },
        "outputId": "02c1ddb8-bc45-493d-8066-64c5ed579c4a",
        "id": "S5D_oe1bS1Zf"
      },
      "execution_count": 25,
      "outputs": [
        {
          "output_type": "stream",
          "name": "stdout",
          "text": [
            "(10872, 5)\n",
            "(6000, 5)\n"
          ]
        }
      ]
    },
    {
      "cell_type": "code",
      "source": [
        "#Stage 2 NB training score\n",
        "cross_val_scores = cross_val_score(MultinomialNB(), X_train_intermediate_input, train['flag'], cv=10, scoring=\"f1\")\n",
        "print(f\"cross-validation f1 scores:\", cross_val_scores)\n",
        "print(f\"average cross-validation f1 score:\", cross_val_scores.mean())"
      ],
      "metadata": {
        "colab": {
          "base_uri": "https://localhost:8080/"
        },
        "id": "PyxXtx1jS1Zf",
        "outputId": "60965442-4f7f-4cc1-c873-14765df852e3"
      },
      "execution_count": 26,
      "outputs": [
        {
          "output_type": "stream",
          "name": "stdout",
          "text": [
            "cross-validation f1 scores: [0.8377193  0.83430233 0.8398524  0.83994126 0.73988439 0.6731794\n",
            " 0.64       0.62401402 0.57297297 0.58152174]\n",
            "average cross-validation f1 score: 0.7183387809246129\n"
          ]
        }
      ]
    },
    {
      "cell_type": "code",
      "source": [
        "#Stage 2 Logistic Regression training score\n",
        "cross_val_scores = cross_val_score(MultinomialNB(), X_train_intermediate_input, train['flag'], cv=10, scoring=\"accuracy\")\n",
        "print(f\"cross-validation accuracy:\", cross_val_scores)\n",
        "print(f\"average cross-validation accuracy:\", cross_val_scores.mean())"
      ],
      "metadata": {
        "colab": {
          "base_uri": "https://localhost:8080/"
        },
        "id": "tBb6087cWzNH",
        "outputId": "1bf026bd-2c89-437c-9ca4-38d010d44dc0"
      },
      "execution_count": 27,
      "outputs": [
        {
          "output_type": "stream",
          "name": "stdout",
          "text": [
            "cross-validation accuracy: [0.79595588 0.79044118 0.80036799 0.79944802 0.71021159 0.66145354\n",
            " 0.61913523 0.60533579 0.56393744 0.574977  ]\n",
            "average cross-validation accuracy: 0.6921263664159316\n"
          ]
        }
      ]
    },
    {
      "cell_type": "code",
      "source": [
        "#Stage 2 Logistic Regression testing score\n",
        "stage_2 = MultinomialNB()\n",
        "stage_2.fit(X_train_intermediate_input, train['flag'])\n",
        "y_pred = stage_2.predict(X_test_intermediate_input)\n",
        "print(f\"accuracy:\", metrics.accuracy_score(test['flag'], y_pred))\n",
        "print(f\"f1-score:\", metrics.f1_score(test['flag'], y_pred))"
      ],
      "metadata": {
        "colab": {
          "base_uri": "https://localhost:8080/"
        },
        "outputId": "02df50c3-87ac-4420-d9f5-e88172a85ffd",
        "id": "RCEVNs5oS1Zf"
      },
      "execution_count": 28,
      "outputs": [
        {
          "output_type": "stream",
          "name": "stdout",
          "text": [
            "accuracy: 0.5826666666666667\n",
            "f1-score: 0.44306049822064064\n"
          ]
        }
      ]
    },
    {
      "cell_type": "code",
      "source": [
        "#Check whether majority polling gives the same results\n",
        "y_test = [round(np.mean(x)) for x in X_test_intermediate_input]\n",
        "print(f\"accuracy:\", metrics.accuracy_score(test['flag'], y_test))\n",
        "print(f\"f1-score:\", metrics.f1_score(test['flag'], y_test ))"
      ],
      "metadata": {
        "colab": {
          "base_uri": "https://localhost:8080/"
        },
        "id": "ba2bEPVIS1Zf",
        "outputId": "0cb4f7a7-fc00-4cbd-a7d5-a522ddf33492"
      },
      "execution_count": 29,
      "outputs": [
        {
          "output_type": "stream",
          "name": "stdout",
          "text": [
            "accuracy: 0.4698333333333333\n",
            "f1-score: 0.3682224428997021\n"
          ]
        }
      ]
    },
    {
      "cell_type": "markdown",
      "source": [
        "### Mixed"
      ],
      "metadata": {
        "id": "MUS4UXbgS6SS"
      }
    },
    {
      "cell_type": "code",
      "execution_count": 30,
      "metadata": {
        "id": "5UefkOfTS6ST"
      },
      "outputs": [],
      "source": [
        "#Stage 1 NB, to train the output for each sentence\n",
        "stage_1 = MultinomialNB()\n",
        "stage_1.fit(X_train_vector, y_train_flattened)\n",
        "X_train_intermediate_results = stage_1.predict(X_train_vector)\n",
        "X_test_intermediate_results = stage_1.predict(X_test_vector)"
      ]
    },
    {
      "cell_type": "code",
      "source": [
        "#reshape to push into stage 2 logistic regression\n",
        "X_train_intermediate_input = X_train_intermediate_results.reshape(int(len(X_train_intermediate_results)/5), 5)\n",
        "X_test_intermediate_input = X_test_intermediate_results.reshape(int(len(X_test_intermediate_results)/5), 5)\n",
        "print(X_train_intermediate_input.shape)\n",
        "print(X_test_intermediate_input.shape)"
      ],
      "metadata": {
        "colab": {
          "base_uri": "https://localhost:8080/"
        },
        "outputId": "b7ab7b48-55b4-4ed5-cd34-b2877ee6c6f6",
        "id": "7y7raH4dS6ST"
      },
      "execution_count": 31,
      "outputs": [
        {
          "output_type": "stream",
          "name": "stdout",
          "text": [
            "(10872, 5)\n",
            "(6000, 5)\n"
          ]
        }
      ]
    },
    {
      "cell_type": "code",
      "source": [
        "#Stage 2 Logistic Regression training score\n",
        "cross_val_scores = cross_val_score(LogisticRegression(solver=\"saga\"), X_train_intermediate_input, train['flag'], cv=10, scoring=\"f1\")\n",
        "print(f\"cross-validation f1 scores:\", cross_val_scores)\n",
        "print(f\"average cross-validation f1 score:\", cross_val_scores.mean())"
      ],
      "metadata": {
        "colab": {
          "base_uri": "https://localhost:8080/"
        },
        "id": "1a_HiyfgS6SU",
        "outputId": "e784ee88-5c22-4a71-fe6f-a60785430b72"
      },
      "execution_count": 32,
      "outputs": [
        {
          "output_type": "stream",
          "name": "stdout",
          "text": [
            "cross-validation f1 scores: [0.92320396 0.91451613 0.90731707 0.90634921 0.84552846 0.83417085\n",
            " 0.80675105 0.73122172 0.72576177 0.72268908]\n",
            "average cross-validation f1 score: 0.8317509304567269\n"
          ]
        }
      ]
    },
    {
      "cell_type": "code",
      "source": [
        "#Stage 2 Logistic Regression training score\n",
        "cross_val_scores = cross_val_score(LogisticRegression(solver=\"saga\"), X_train_intermediate_input, train['flag'], cv=10, scoring=\"accuracy\")\n",
        "print(f\"cross-validation accuracy:\", cross_val_scores)\n",
        "print(f\"average cross-validation accuracy:\", cross_val_scores.mean())"
      ],
      "metadata": {
        "colab": {
          "base_uri": "https://localhost:8080/"
        },
        "id": "GRORpJ09WSEn",
        "outputId": "338b8a02-db35-4cff-916a-03940e147da0"
      },
      "execution_count": 33,
      "outputs": [
        {
          "output_type": "stream",
          "name": "stdout",
          "text": [
            "cross-validation accuracy: [0.91452206 0.90257353 0.8951242  0.89144434 0.82520699 0.81784729\n",
            " 0.78932843 0.72677093 0.72677093 0.72677093]\n",
            "average cross-validation accuracy: 0.8216359617674117\n"
          ]
        }
      ]
    },
    {
      "cell_type": "code",
      "source": [
        "#Stage 2 Logistic Regression testing score\n",
        "stage_2 = LogisticRegression(solver=\"saga\")\n",
        "stage_2.fit(X_train_intermediate_input, train['flag'])\n",
        "y_pred = stage_2.predict(X_test_intermediate_input)\n",
        "print(f\"accuracy:\", metrics.accuracy_score(test['flag'], y_pred))\n",
        "print(f\"f1-score:\", metrics.f1_score(test['flag'], y_pred))"
      ],
      "metadata": {
        "colab": {
          "base_uri": "https://localhost:8080/"
        },
        "outputId": "c8a73ce2-acba-46bf-dde3-29597e415bd6",
        "id": "7QK55X7QS6SU"
      },
      "execution_count": 34,
      "outputs": [
        {
          "output_type": "stream",
          "name": "stdout",
          "text": [
            "accuracy: 0.6605\n",
            "f1-score: 0.47567567567567565\n"
          ]
        }
      ]
    },
    {
      "cell_type": "code",
      "source": [
        "#Check whether majority polling gives the same results\n",
        "y_test = [round(np.mean(x)) for x in X_test_intermediate_input]\n",
        "print(f\"accuracy:\", metrics.accuracy_score(test['flag'], y_test))\n",
        "print(f\"f1-score:\", metrics.f1_score(test['flag'], y_test ))"
      ],
      "metadata": {
        "colab": {
          "base_uri": "https://localhost:8080/"
        },
        "id": "fdHhC-qKS6SU",
        "outputId": "0b057302-3eea-4567-95ce-60669eabf65a"
      },
      "execution_count": 35,
      "outputs": [
        {
          "output_type": "stream",
          "name": "stdout",
          "text": [
            "accuracy: 0.4698333333333333\n",
            "f1-score: 0.3682224428997021\n"
          ]
        }
      ]
    },
    {
      "cell_type": "markdown",
      "source": [
        "#Justice model"
      ],
      "metadata": {
        "id": "OG07ASdbWryA"
      }
    },
    {
      "cell_type": "code",
      "source": [
        "justice = pd.read_csv('/content/drive/MyDrive/CS5246/AITA/justice_test.csv')\n",
        "justice.head()"
      ],
      "metadata": {
        "colab": {
          "base_uri": "https://localhost:8080/",
          "height": 247
        },
        "id": "EZci1NbkVQaK",
        "outputId": "f642ce92-4fd9-4891-9fc6-fcf5072ceead"
      },
      "execution_count": null,
      "outputs": [
        {
          "output_type": "execute_result",
          "data": {
            "text/plain": [
              "   label                                           scenario\n",
              "0      1  I used to walk around the park with my coworke...\n",
              "1      0  I used to walk around the park with my coworke...\n",
              "2      1  I used to walk around the park with my coworke...\n",
              "3      0  I used to walk around the park with my coworke...\n",
              "4      0  I usually give a gift to my girlfriend on Vale..."
            ],
            "text/html": [
              "\n",
              "  <div id=\"df-ff8ba148-3ef5-4005-b021-b4ae05dd80db\" class=\"colab-df-container\">\n",
              "    <div>\n",
              "<style scoped>\n",
              "    .dataframe tbody tr th:only-of-type {\n",
              "        vertical-align: middle;\n",
              "    }\n",
              "\n",
              "    .dataframe tbody tr th {\n",
              "        vertical-align: top;\n",
              "    }\n",
              "\n",
              "    .dataframe thead th {\n",
              "        text-align: right;\n",
              "    }\n",
              "</style>\n",
              "<table border=\"1\" class=\"dataframe\">\n",
              "  <thead>\n",
              "    <tr style=\"text-align: right;\">\n",
              "      <th></th>\n",
              "      <th>label</th>\n",
              "      <th>scenario</th>\n",
              "    </tr>\n",
              "  </thead>\n",
              "  <tbody>\n",
              "    <tr>\n",
              "      <th>0</th>\n",
              "      <td>1</td>\n",
              "      <td>I used to walk around the park with my coworke...</td>\n",
              "    </tr>\n",
              "    <tr>\n",
              "      <th>1</th>\n",
              "      <td>0</td>\n",
              "      <td>I used to walk around the park with my coworke...</td>\n",
              "    </tr>\n",
              "    <tr>\n",
              "      <th>2</th>\n",
              "      <td>1</td>\n",
              "      <td>I used to walk around the park with my coworke...</td>\n",
              "    </tr>\n",
              "    <tr>\n",
              "      <th>3</th>\n",
              "      <td>0</td>\n",
              "      <td>I used to walk around the park with my coworke...</td>\n",
              "    </tr>\n",
              "    <tr>\n",
              "      <th>4</th>\n",
              "      <td>0</td>\n",
              "      <td>I usually give a gift to my girlfriend on Vale...</td>\n",
              "    </tr>\n",
              "  </tbody>\n",
              "</table>\n",
              "</div>\n",
              "    <div class=\"colab-df-buttons\">\n",
              "\n",
              "  <div class=\"colab-df-container\">\n",
              "    <button class=\"colab-df-convert\" onclick=\"convertToInteractive('df-ff8ba148-3ef5-4005-b021-b4ae05dd80db')\"\n",
              "            title=\"Convert this dataframe to an interactive table.\"\n",
              "            style=\"display:none;\">\n",
              "\n",
              "  <svg xmlns=\"http://www.w3.org/2000/svg\" height=\"24px\" viewBox=\"0 -960 960 960\">\n",
              "    <path d=\"M120-120v-720h720v720H120Zm60-500h600v-160H180v160Zm220 220h160v-160H400v160Zm0 220h160v-160H400v160ZM180-400h160v-160H180v160Zm440 0h160v-160H620v160ZM180-180h160v-160H180v160Zm440 0h160v-160H620v160Z\"/>\n",
              "  </svg>\n",
              "    </button>\n",
              "\n",
              "  <style>\n",
              "    .colab-df-container {\n",
              "      display:flex;\n",
              "      gap: 12px;\n",
              "    }\n",
              "\n",
              "    .colab-df-convert {\n",
              "      background-color: #E8F0FE;\n",
              "      border: none;\n",
              "      border-radius: 50%;\n",
              "      cursor: pointer;\n",
              "      display: none;\n",
              "      fill: #1967D2;\n",
              "      height: 32px;\n",
              "      padding: 0 0 0 0;\n",
              "      width: 32px;\n",
              "    }\n",
              "\n",
              "    .colab-df-convert:hover {\n",
              "      background-color: #E2EBFA;\n",
              "      box-shadow: 0px 1px 2px rgba(60, 64, 67, 0.3), 0px 1px 3px 1px rgba(60, 64, 67, 0.15);\n",
              "      fill: #174EA6;\n",
              "    }\n",
              "\n",
              "    .colab-df-buttons div {\n",
              "      margin-bottom: 4px;\n",
              "    }\n",
              "\n",
              "    [theme=dark] .colab-df-convert {\n",
              "      background-color: #3B4455;\n",
              "      fill: #D2E3FC;\n",
              "    }\n",
              "\n",
              "    [theme=dark] .colab-df-convert:hover {\n",
              "      background-color: #434B5C;\n",
              "      box-shadow: 0px 1px 3px 1px rgba(0, 0, 0, 0.15);\n",
              "      filter: drop-shadow(0px 1px 2px rgba(0, 0, 0, 0.3));\n",
              "      fill: #FFFFFF;\n",
              "    }\n",
              "  </style>\n",
              "\n",
              "    <script>\n",
              "      const buttonEl =\n",
              "        document.querySelector('#df-ff8ba148-3ef5-4005-b021-b4ae05dd80db button.colab-df-convert');\n",
              "      buttonEl.style.display =\n",
              "        google.colab.kernel.accessAllowed ? 'block' : 'none';\n",
              "\n",
              "      async function convertToInteractive(key) {\n",
              "        const element = document.querySelector('#df-ff8ba148-3ef5-4005-b021-b4ae05dd80db');\n",
              "        const dataTable =\n",
              "          await google.colab.kernel.invokeFunction('convertToInteractive',\n",
              "                                                    [key], {});\n",
              "        if (!dataTable) return;\n",
              "\n",
              "        const docLinkHtml = 'Like what you see? Visit the ' +\n",
              "          '<a target=\"_blank\" href=https://colab.research.google.com/notebooks/data_table.ipynb>data table notebook</a>'\n",
              "          + ' to learn more about interactive tables.';\n",
              "        element.innerHTML = '';\n",
              "        dataTable['output_type'] = 'display_data';\n",
              "        await google.colab.output.renderOutput(dataTable, element);\n",
              "        const docLink = document.createElement('div');\n",
              "        docLink.innerHTML = docLinkHtml;\n",
              "        element.appendChild(docLink);\n",
              "      }\n",
              "    </script>\n",
              "  </div>\n",
              "\n",
              "\n",
              "<div id=\"df-e60b92bc-6174-471d-b52e-5e53ce96d6cb\">\n",
              "  <button class=\"colab-df-quickchart\" onclick=\"quickchart('df-e60b92bc-6174-471d-b52e-5e53ce96d6cb')\"\n",
              "            title=\"Suggest charts\"\n",
              "            style=\"display:none;\">\n",
              "\n",
              "<svg xmlns=\"http://www.w3.org/2000/svg\" height=\"24px\"viewBox=\"0 0 24 24\"\n",
              "     width=\"24px\">\n",
              "    <g>\n",
              "        <path d=\"M19 3H5c-1.1 0-2 .9-2 2v14c0 1.1.9 2 2 2h14c1.1 0 2-.9 2-2V5c0-1.1-.9-2-2-2zM9 17H7v-7h2v7zm4 0h-2V7h2v10zm4 0h-2v-4h2v4z\"/>\n",
              "    </g>\n",
              "</svg>\n",
              "  </button>\n",
              "\n",
              "<style>\n",
              "  .colab-df-quickchart {\n",
              "      --bg-color: #E8F0FE;\n",
              "      --fill-color: #1967D2;\n",
              "      --hover-bg-color: #E2EBFA;\n",
              "      --hover-fill-color: #174EA6;\n",
              "      --disabled-fill-color: #AAA;\n",
              "      --disabled-bg-color: #DDD;\n",
              "  }\n",
              "\n",
              "  [theme=dark] .colab-df-quickchart {\n",
              "      --bg-color: #3B4455;\n",
              "      --fill-color: #D2E3FC;\n",
              "      --hover-bg-color: #434B5C;\n",
              "      --hover-fill-color: #FFFFFF;\n",
              "      --disabled-bg-color: #3B4455;\n",
              "      --disabled-fill-color: #666;\n",
              "  }\n",
              "\n",
              "  .colab-df-quickchart {\n",
              "    background-color: var(--bg-color);\n",
              "    border: none;\n",
              "    border-radius: 50%;\n",
              "    cursor: pointer;\n",
              "    display: none;\n",
              "    fill: var(--fill-color);\n",
              "    height: 32px;\n",
              "    padding: 0;\n",
              "    width: 32px;\n",
              "  }\n",
              "\n",
              "  .colab-df-quickchart:hover {\n",
              "    background-color: var(--hover-bg-color);\n",
              "    box-shadow: 0 1px 2px rgba(60, 64, 67, 0.3), 0 1px 3px 1px rgba(60, 64, 67, 0.15);\n",
              "    fill: var(--button-hover-fill-color);\n",
              "  }\n",
              "\n",
              "  .colab-df-quickchart-complete:disabled,\n",
              "  .colab-df-quickchart-complete:disabled:hover {\n",
              "    background-color: var(--disabled-bg-color);\n",
              "    fill: var(--disabled-fill-color);\n",
              "    box-shadow: none;\n",
              "  }\n",
              "\n",
              "  .colab-df-spinner {\n",
              "    border: 2px solid var(--fill-color);\n",
              "    border-color: transparent;\n",
              "    border-bottom-color: var(--fill-color);\n",
              "    animation:\n",
              "      spin 1s steps(1) infinite;\n",
              "  }\n",
              "\n",
              "  @keyframes spin {\n",
              "    0% {\n",
              "      border-color: transparent;\n",
              "      border-bottom-color: var(--fill-color);\n",
              "      border-left-color: var(--fill-color);\n",
              "    }\n",
              "    20% {\n",
              "      border-color: transparent;\n",
              "      border-left-color: var(--fill-color);\n",
              "      border-top-color: var(--fill-color);\n",
              "    }\n",
              "    30% {\n",
              "      border-color: transparent;\n",
              "      border-left-color: var(--fill-color);\n",
              "      border-top-color: var(--fill-color);\n",
              "      border-right-color: var(--fill-color);\n",
              "    }\n",
              "    40% {\n",
              "      border-color: transparent;\n",
              "      border-right-color: var(--fill-color);\n",
              "      border-top-color: var(--fill-color);\n",
              "    }\n",
              "    60% {\n",
              "      border-color: transparent;\n",
              "      border-right-color: var(--fill-color);\n",
              "    }\n",
              "    80% {\n",
              "      border-color: transparent;\n",
              "      border-right-color: var(--fill-color);\n",
              "      border-bottom-color: var(--fill-color);\n",
              "    }\n",
              "    90% {\n",
              "      border-color: transparent;\n",
              "      border-bottom-color: var(--fill-color);\n",
              "    }\n",
              "  }\n",
              "</style>\n",
              "\n",
              "  <script>\n",
              "    async function quickchart(key) {\n",
              "      const quickchartButtonEl =\n",
              "        document.querySelector('#' + key + ' button');\n",
              "      quickchartButtonEl.disabled = true;  // To prevent multiple clicks.\n",
              "      quickchartButtonEl.classList.add('colab-df-spinner');\n",
              "      try {\n",
              "        const charts = await google.colab.kernel.invokeFunction(\n",
              "            'suggestCharts', [key], {});\n",
              "      } catch (error) {\n",
              "        console.error('Error during call to suggestCharts:', error);\n",
              "      }\n",
              "      quickchartButtonEl.classList.remove('colab-df-spinner');\n",
              "      quickchartButtonEl.classList.add('colab-df-quickchart-complete');\n",
              "    }\n",
              "    (() => {\n",
              "      let quickchartButtonEl =\n",
              "        document.querySelector('#df-e60b92bc-6174-471d-b52e-5e53ce96d6cb button');\n",
              "      quickchartButtonEl.style.display =\n",
              "        google.colab.kernel.accessAllowed ? 'block' : 'none';\n",
              "    })();\n",
              "  </script>\n",
              "</div>\n",
              "\n",
              "    </div>\n",
              "  </div>\n"
            ],
            "application/vnd.google.colaboratory.intrinsic+json": {
              "type": "dataframe",
              "variable_name": "justice",
              "summary": "{\n  \"name\": \"justice\",\n  \"rows\": 2704,\n  \"fields\": [\n    {\n      \"column\": \"label\",\n      \"properties\": {\n        \"dtype\": \"number\",\n        \"std\": 0,\n        \"min\": 0,\n        \"max\": 1,\n        \"num_unique_values\": 2,\n        \"samples\": [\n          0,\n          1\n        ],\n        \"semantic_type\": \"\",\n        \"description\": \"\"\n      }\n    },\n    {\n      \"column\": \"scenario\",\n      \"properties\": {\n        \"dtype\": \"string\",\n        \"num_unique_values\": 2704,\n        \"samples\": [\n          \"I am justified in expecting the coach to give me a spot on the basketball team, because I trained hard all summer before tryouts.\",\n          \" I usually make a cake for my father on his birthday, but this year I didn't because he wanted a pie instead.\"\n        ],\n        \"semantic_type\": \"\",\n        \"description\": \"\"\n      }\n    }\n  ]\n}"
            }
          },
          "metadata": {},
          "execution_count": 7
        }
      ]
    },
    {
      "cell_type": "code",
      "source": [
        "#Creating Training and Testing data, and vectorise\n",
        "X_train, X_test, y_train, y_test = train_test_split(justice['scenario'], justice['label'], test_size=0.2, random_state=42)\n",
        "\n",
        "vectorizer = TfidfVectorizer(tokenizer=tokenize_and_stem, token_pattern=None)\n",
        "vectorizer.fit(X_train)\n",
        "X_train_vector = vectorizer.transform(X_train)\n",
        "X_test_vector = vectorizer.transform(X_test)"
      ],
      "metadata": {
        "id": "zViQOVk9WuYP"
      },
      "execution_count": null,
      "outputs": []
    },
    {
      "cell_type": "code",
      "source": [
        "#Logistic Regression\n",
        "cross_val_scores = cross_val_score(LogisticRegression(solver=\"saga\"), X_train_vector, y_train, cv=5, scoring=\"f1\")\n",
        "print(f\"cross-validation scores:\", cross_val_scores)\n",
        "print(f\"average cross-validation score:\", cross_val_scores.mean())\n",
        "\n",
        "justice_model = LogisticRegression(solver=\"saga\")\n",
        "justice_model.fit(X_train_vector, y_train)\n",
        "y_pred_train = justice_model.predict(X_train_vector)\n",
        "y_pred_test = justice_model.predict(X_test_vector)\n",
        "\n",
        "f1_train = f1_score(y_train, y_pred_train)\n",
        "f1_test = f1_score(y_test, y_pred_test)\n",
        "\n",
        "print(\"F1 train score:\", f1_train)\n",
        "print(\"F1 test score:\", f1_test)"
      ],
      "metadata": {
        "colab": {
          "base_uri": "https://localhost:8080/"
        },
        "id": "ZqdfLM3O1pMn",
        "outputId": "6248a17d-3b22-495c-b10e-30f59856eafb"
      },
      "execution_count": null,
      "outputs": [
        {
          "output_type": "stream",
          "name": "stdout",
          "text": [
            "cross-validation scores: [0.43378995 0.46046512 0.49433107 0.45433255 0.45901639]\n",
            "average cross-validation score: 0.4603870165024876\n",
            "F1 train score: 0.7684548372306281\n",
            "F1 test score: 0.4676258992805755\n"
          ]
        }
      ]
    },
    {
      "cell_type": "code",
      "source": [
        "#Naive Bayes\n",
        "cross_val_scores = cross_val_score(MultinomialNB(), X_train_vector, y_train, cv=5, scoring=\"f1\")\n",
        "print(f\"cross-validation scores:\", cross_val_scores)\n",
        "print(f\"average cross-validation score:\", cross_val_scores.mean())\n",
        "\n",
        "justice_model = MultinomialNB()\n",
        "justice_model.fit(X_train_vector, y_train)\n",
        "y_pred_train = justice_model.predict(X_train_vector)\n",
        "y_pred_test = justice_model.predict(X_test_vector)\n",
        "\n",
        "f1_train = f1_score(y_train, y_pred_train)\n",
        "f1_test = f1_score(y_test, y_pred_test)\n",
        "\n",
        "print(\"F1 train score:\", f1_train)\n",
        "print(\"F1 test score:\", f1_test)"
      ],
      "metadata": {
        "colab": {
          "base_uri": "https://localhost:8080/"
        },
        "id": "nwqoRT5batYZ",
        "outputId": "48dd89ea-a171-47aa-939f-c11c9c725cf2"
      },
      "execution_count": null,
      "outputs": [
        {
          "output_type": "stream",
          "name": "stdout",
          "text": [
            "cross-validation scores: [0.40816327 0.44393593 0.456621   0.4212963  0.41363636]\n",
            "average cross-validation score: 0.42873057131568953\n",
            "F1 train score: 0.7956502038966923\n",
            "F1 test score: 0.43298969072164945\n"
          ]
        }
      ]
    }
  ],
  "metadata": {
    "colab": {
      "provenance": [],
      "collapsed_sections": [
        "OG07ASdbWryA",
        "z5iOv00SrGQ-"
      ]
    },
    "kernelspec": {
      "display_name": "Python 3",
      "name": "python3"
    },
    "language_info": {
      "name": "python"
    }
  },
  "nbformat": 4,
  "nbformat_minor": 0
}